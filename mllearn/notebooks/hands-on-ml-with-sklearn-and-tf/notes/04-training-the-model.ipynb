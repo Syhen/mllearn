{
 "cells": [
  {
   "cell_type": "markdown",
   "metadata": {},
   "source": [
    "<span style=\"font-size: 24px; font-weight: bold;\">第四章·训练模型</span>"
   ]
  },
  {
   "cell_type": "markdown",
   "metadata": {},
   "source": [
    "**主要目的**\n",
    "\n",
    "- 了解黑盒的内部工作流程\n",
    "- 快速找到恰当机器学习模型、合适的训练算法、和一个好的假设集\n",
    "- 更好的调试参数和更有效的误差分析"
   ]
  },
  {
   "cell_type": "markdown",
   "metadata": {},
   "source": [
    "# 线性回归"
   ]
  },
  {
   "cell_type": "markdown",
   "metadata": {},
   "source": [
    "线性回归预测模型：\n",
    "$$\\hat{y} = h_{\\theta}(X) = \\theta^{T} \\cdot X$$\n",
    "* $\\theta$ 表示模型的参数向量，包括偏置项 $\\theta_{0}$ 和特征权重值 $\\theta_{1}$ 到 $\\theta_{n}$\n",
    "* $\\theta^{T}$ 表示向量 $\\theta$ 的转置\n",
    "* $X$ 为每个样本中特征值的向量形式，包括 $x_{1}$ 到 $x_{n}$，而且 $x_{1}$ 恒为1\n",
    "* $\\theta^{T} \\cdot X$ 表示 $\\theta^{T}$ 和 $X$ 的点积\n",
    "* $h_{\\theta}$ 表示参数为 $\\theta$ 的假设函数"
   ]
  },
  {
   "cell_type": "markdown",
   "metadata": {},
   "source": [
    "## 评估方法"
   ]
  },
  {
   "cell_type": "markdown",
   "metadata": {},
   "source": [
    "要想设置一组参数，使得模型在训练集上的表现较好，我们需要首先找到一个衡量模型好坏的评定方法"
   ]
  },
  {
   "cell_type": "markdown",
   "metadata": {},
   "source": [
    "我们使用均方差来评估模型：\n",
    "$$MSE(X, h_{\\theta}) = \\frac{1}{m}\\sum_{i=1}^{m}(\\theta^{T} \\cdot X^{(i)} - y^{(i)}) ^ 2$$"
   ]
  },
  {
   "cell_type": "markdown",
   "metadata": {},
   "source": [
    "## 公式解"
   ]
  },
  {
   "cell_type": "markdown",
   "metadata": {},
   "source": [
    "要找到最小化损失函数的 $\\theta$ 值，可以采用公式解\n",
    "$$\\hat{\\theta} = (X^T \\cdot X) ^ {-1} \\cdot X^T \\cdot y$$\n",
    "下面来测试一下这个方程"
   ]
  },
  {
   "cell_type": "code",
   "execution_count": 68,
   "metadata": {
    "ExecuteTime": {
     "end_time": "2018-08-28T09:55:26.305003Z",
     "start_time": "2018-08-28T09:55:26.286027Z"
    }
   },
   "outputs": [
    {
     "name": "stdout",
     "output_type": "stream",
     "text": [
      "[[4.03557103]\n",
      " [2.89528283]]\n"
     ]
    }
   ],
   "source": [
    "import warnings\n",
    "import numpy as np\n",
    "import matplotlib.pyplot as plt\n",
    "\n",
    "%matplotlib inline\n",
    "X = 2 * np.random.rand(100, 1)\n",
    "y = 4 + 3 * X + np.random.randn(100, 1)\n",
    "X_b = np.c_[np.ones((100, 1)), X]\n",
    "theta_best = np.linalg.inv(X_b.T.dot(X_b)).dot(X_b.T).dot(y)\n",
    "print(theta_best)\n",
    "warnings.filterwarnings('ignore', message=r\".*?scipy.*?\")"
   ]
  },
  {
   "cell_type": "markdown",
   "metadata": {
    "ExecuteTime": {
     "end_time": "2018-08-28T04:00:53.259419Z",
     "start_time": "2018-08-28T04:00:53.229958Z"
    }
   },
   "source": [
    "模型的图像长这个样子"
   ]
  },
  {
   "cell_type": "code",
   "execution_count": 22,
   "metadata": {
    "ExecuteTime": {
     "end_time": "2018-08-28T04:10:24.293159Z",
     "start_time": "2018-08-28T04:10:24.037840Z"
    }
   },
   "outputs": [
    {
     "data": {
      "image/png": "[encoded data removed]",
      "text/plain": [
       "<matplotlib.figure.Figure at 0x108a08c88>"
      ]
     },
     "metadata": {},
     "output_type": "display_data"
    }
   ],
   "source": [
    "X_new = np.array([[0], [2]])\n",
    "X_new_b = np.c_[np.ones((2, 1)), X_new]\n",
    "y_predict = X_new_b.dot(theta_best)\n",
    "plt.plot(X_new, y_predict, \"r-\")\n",
    "plt.plot(X, y, \"b.\")\n",
    "plt.axis([0, 2, 0, 15])\n",
    "_ = plt.text(1, 5, \"$\\hat{y}=x_{1}*%s+%s$\" % (round(theta_best[0][0], 2), round(theta_best[1][0], 2)))"
   ]
  },
  {
   "cell_type": "markdown",
   "metadata": {
    "ExecuteTime": {
     "end_time": "2018-08-28T04:08:39.835002Z",
     "start_time": "2018-08-28T04:08:39.820275Z"
    }
   },
   "source": [
    "### 计算复杂度"
   ]
  },
  {
   "cell_type": "markdown",
   "metadata": {},
   "source": [
    "需要计算 $X^T \\cdot X$ 的逆，它是一个 $n * n$ 的矩阵($n$是特征个数)。运算复杂度大约在 $O(n^{2.4})$ 到 $O(n^{3})$ 之间。即：如何你将特征个数翻倍，其计算时间大致变为原来的 $5.3(2^{2.4})$ 到 $8(2^3)$ 倍。\n",
    "\n",
    "**特征数量较大时，正态方程求解将会非常慢**\n",
    "\n",
    "一个好消息是，这个方程在训练集上对于每一个实例来说是线性的，其复杂度为 $O(m)$。因此你的内存如果放得下，你就可以对大规模数据进行训练。而预测是非常快的。当实例个数变为原来2倍多时，预测时间也仅仅是原来的2倍多。"
   ]
  },
  {
   "cell_type": "markdown",
   "metadata": {},
   "source": [
    "## 梯度下降"
   ]
  },
  {
   "cell_type": "markdown",
   "metadata": {},
   "source": [
    "通过迭代来逐渐调整参数使得损失函数达到最小值"
   ]
  },
  {
   "cell_type": "markdown",
   "metadata": {
    "ExecuteTime": {
     "end_time": "2018-08-28T04:29:50.107694Z",
     "start_time": "2018-08-28T04:29:49.994326Z"
    }
   },
   "source": [
    "通过控制步长来控制算法的迭代\n",
    "\n",
    "**超参数学习率**决定了步长的大小\n",
    "1. 学习率太大：将跳过最低点，甚至使算法发散\n",
    "2. 学习率太小：学习速度缓慢，非常耗时\n",
    "3. 局部最小值：非**凸函数**的优化，都可能需要这样的问题\n",
    "\n",
    "**使用梯度下降时，应该确保所有的特征有着相近的尺度范围**"
   ]
  },
  {
   "cell_type": "markdown",
   "metadata": {},
   "source": [
    "### 批量梯度下降"
   ]
  },
  {
   "cell_type": "markdown",
   "metadata": {},
   "source": [
    "偏导数：求得梯度"
   ]
  },
  {
   "cell_type": "markdown",
   "metadata": {
    "ExecuteTime": {
     "end_time": "2018-08-28T06:07:43.306236Z",
     "start_time": "2018-08-28T06:07:43.196456Z"
    }
   },
   "source": [
    "$$\\nabla_{\\theta}MSE(\\theta) = \\left ( \\begin{matrix} \\frac{\\partial}{\\partial\\theta_{0}}MSE(\\theta)\\\\ \\frac{\\partial}{\\partial\\theta_{1}}MSE(\\theta)\\\\ \\vdots \\\\ \\frac{\\partial}{\\partial\\theta_n}MSE(\\theta) \\end{matrix}  \\right ) = \\frac{2}{m}X^T \\cdot (X \\cdot \\theta - y)$$"
   ]
  },
  {
   "cell_type": "markdown",
   "metadata": {},
   "source": [
    "梯度下降步长"
   ]
  },
  {
   "cell_type": "markdown",
   "metadata": {},
   "source": [
    "$$\\theta^{(next\\ step)} = \\theta - \\eta\\nabla_{\\theta}MSE(\\theta)$$"
   ]
  },
  {
   "cell_type": "markdown",
   "metadata": {
    "ExecuteTime": {
     "end_time": "2018-08-28T06:32:59.667959Z",
     "start_time": "2018-08-28T06:32:59.575129Z"
    }
   },
   "source": [
    "***梯度下降运算规模和特征数量成正比，训练一个数千维度的线性回归模型要比正态方程快得多**"
   ]
  },
  {
   "cell_type": "code",
   "execution_count": 26,
   "metadata": {
    "ExecuteTime": {
     "end_time": "2018-08-28T06:34:52.184560Z",
     "start_time": "2018-08-28T06:34:52.062743Z"
    }
   },
   "outputs": [],
   "source": [
    "eta = 0.1  # 学习率\n",
    "n_iterations = 1000\n",
    "m = 100\n",
    "\n",
    "theta = np.random.randn(2, 1)\n",
    "\n",
    "for iteration in range(n_iterations):\n",
    "    gradients = 2 / m * X_b.T.dot(X_b.dot(theta) - y)\n",
    "    theta = theta - eta * gradients"
   ]
  },
  {
   "cell_type": "code",
   "execution_count": 28,
   "metadata": {
    "ExecuteTime": {
     "end_time": "2018-08-28T06:38:50.006253Z",
     "start_time": "2018-08-28T06:38:49.938896Z"
    }
   },
   "outputs": [
    {
     "data": {
      "text/plain": [
       "array([[3.84334927],\n",
       "       [3.03251508]])"
      ]
     },
     "execution_count": 28,
     "metadata": {},
     "output_type": "execute_result"
    }
   ],
   "source": [
    "theta"
   ]
  },
  {
   "cell_type": "markdown",
   "metadata": {},
   "source": [
    "很不错，和正态方程的结果几乎相同"
   ]
  },
  {
   "cell_type": "markdown",
   "metadata": {},
   "source": [
    "超参数：容差($\\varepsilon$)\n",
    "\n",
    "用于解决不知如何选取迭代次数的问题\n",
    "\n",
    "如果梯度向量小于容差，那么结束迭代。\n",
    "\n",
    "> 当损失函数是**凸函数**，同时它的**斜率不能突变**，那么它的批量梯度下降算法固定学习率之后，它的收敛速率是 $O(\\cfrac{1}{iterations})$ 。也就是说，如果将容差缩小10倍后，这个算法的迭代次数大约会变成原来的10倍。(会更精确)"
   ]
  },
  {
   "cell_type": "markdown",
   "metadata": {},
   "source": [
    "### 随机梯度下降"
   ]
  },
  {
   "cell_type": "markdown",
   "metadata": {},
   "source": [
    "每次迭代只选择一个训练集\n",
    "\n",
    "- 它呈现更多的不规律性：它达到最小值不是平缓的下降、损失函数忽高忽低，大体趋势下降。\n",
    "- 不会停止在一个值上，而是一直在这个值附近摆动。\n",
    "- 最后的参数还不错，但不是最优值"
   ]
  },
  {
   "cell_type": "markdown",
   "metadata": {},
   "source": [
    "优势：\n",
    "- 当损失函数很不规则时，随机梯度下降能够跳过局部最小值。"
   ]
  },
  {
   "cell_type": "markdown",
   "metadata": {},
   "source": [
    "模拟退火：解决他能够跳过局部最小值但是不能到达最小值的方法\n",
    "\n",
    "learning schedule 去降低学习速率"
   ]
  },
  {
   "cell_type": "code",
   "execution_count": 47,
   "metadata": {
    "ExecuteTime": {
     "end_time": "2018-08-28T08:44:38.695620Z",
     "start_time": "2018-08-28T08:44:38.589666Z"
    }
   },
   "outputs": [],
   "source": [
    "n_epochs = 50\n",
    "t0, t1 = 5, 50\n",
    "\n",
    "def learning_schedule(t):\n",
    "    return t0 / (t + t1)\n",
    "\n",
    "theta = np.random.randn(2, 1)\n",
    "\n",
    "for epoch in range(n_epochs):\n",
    "    for i in range(m):\n",
    "        random_index = np.random.randint(m)\n",
    "        xi = X_b[random_index: random_index + 1]\n",
    "        yi = y[random_index: random_index + 1]\n",
    "        gradients = 2 * xi.T.dot(xi.dot(theta) - yi)\n",
    "        theta = theta - learning_schedule(i + epoch * m) * gradients"
   ]
  },
  {
   "cell_type": "code",
   "execution_count": 48,
   "metadata": {
    "ExecuteTime": {
     "end_time": "2018-08-28T08:44:38.964700Z",
     "start_time": "2018-08-28T08:44:38.951675Z"
    }
   },
   "outputs": [
    {
     "data": {
      "text/plain": [
       "array([[3.78846665],\n",
       "       [3.00941842]])"
      ]
     },
     "execution_count": 48,
     "metadata": {},
     "output_type": "execute_result"
    }
   ],
   "source": [
    "theta"
   ]
  },
  {
   "cell_type": "markdown",
   "metadata": {},
   "source": [
    "我们将 `learning_schedule(i + epoch * m)` 替换为 `eta` ，会发现，theta会很不稳定\n",
    "\n",
    "我们用 `sklearn` 的 `SGDRegressor` 来试一试"
   ]
  },
  {
   "cell_type": "code",
   "execution_count": 49,
   "metadata": {
    "ExecuteTime": {
     "end_time": "2018-08-28T08:47:39.360514Z",
     "start_time": "2018-08-28T08:47:39.326751Z"
    }
   },
   "outputs": [
    {
     "data": {
      "text/plain": [
       "SGDRegressor(alpha=0.0001, average=False, epsilon=0.1, eta0=0.1,\n",
       "       fit_intercept=True, l1_ratio=0.15, learning_rate='invscaling',\n",
       "       loss='squared_loss', max_iter=None, n_iter=50, penalty=None,\n",
       "       power_t=0.25, random_state=None, shuffle=True, tol=None, verbose=0,\n",
       "       warm_start=False)"
      ]
     },
     "execution_count": 49,
     "metadata": {},
     "output_type": "execute_result"
    }
   ],
   "source": [
    "from sklearn.linear_model import SGDRegressor\n",
    "\n",
    "sgd_reg = SGDRegressor(n_iter=50, penalty=None, eta0=0.1)\n",
    "sgd_reg.fit(X, y.ravel())"
   ]
  },
  {
   "cell_type": "code",
   "execution_count": 50,
   "metadata": {
    "ExecuteTime": {
     "end_time": "2018-08-28T08:47:50.725262Z",
     "start_time": "2018-08-28T08:47:50.710023Z"
    }
   },
   "outputs": [
    {
     "data": {
      "text/plain": [
       "(array([3.824963]), array([3.01450048]))"
      ]
     },
     "execution_count": 50,
     "metadata": {},
     "output_type": "execute_result"
    }
   ],
   "source": [
    "sgd_reg.intercept_, sgd_reg.coef_"
   ]
  },
  {
   "cell_type": "markdown",
   "metadata": {},
   "source": [
    "结果和我们的，非常一致"
   ]
  },
  {
   "cell_type": "markdown",
   "metadata": {},
   "source": [
    "### 小批量梯度下降"
   ]
  },
  {
   "cell_type": "markdown",
   "metadata": {},
   "source": [
    "使用一个随机的小型实例集"
   ]
  },
  {
   "cell_type": "markdown",
   "metadata": {
    "ExecuteTime": {
     "end_time": "2018-08-28T09:24:19.480650Z",
     "start_time": "2018-08-28T09:24:19.319016Z"
    }
   },
   "source": [
    "优点：\n",
    "- 通过矩阵运算的硬件优化\n",
    "- 在参数空间上的表现比SGD好得多\n",
    "- 更靠近最小值\n",
    "\n",
    "问题：\n",
    "- 有可能陷在局部最小值中"
   ]
  },
  {
   "cell_type": "markdown",
   "metadata": {},
   "source": [
    "比较线性回归不同梯度下降算法"
   ]
  },
  {
   "cell_type": "code",
   "execution_count": 54,
   "metadata": {
    "ExecuteTime": {
     "end_time": "2018-08-28T09:48:23.546141Z",
     "start_time": "2018-08-28T09:48:23.410382Z"
    }
   },
   "outputs": [
    {
     "data": {
      "text/html": [
       "<div>\n",
       "<style scoped>\n",
       "    .dataframe tbody tr th:only-of-type {\n",
       "        vertical-align: middle;\n",
       "    }\n",
       "\n",
       "    .dataframe tbody tr th {\n",
       "        vertical-align: top;\n",
       "    }\n",
       "\n",
       "    .dataframe thead th {\n",
       "        text-align: right;\n",
       "    }\n",
       "</style>\n",
       "<table border=\"1\" class=\"dataframe\">\n",
       "  <thead>\n",
       "    <tr style=\"text-align: right;\">\n",
       "      <th></th>\n",
       "      <th>Algorithm</th>\n",
       "      <th>Large m</th>\n",
       "      <th>Out-of-core support</th>\n",
       "      <th>Large n</th>\n",
       "      <th>Hyperparams</th>\n",
       "      <th>Scaling required</th>\n",
       "      <th>Scikit-Learn</th>\n",
       "    </tr>\n",
       "  </thead>\n",
       "  <tbody>\n",
       "    <tr>\n",
       "      <th>0</th>\n",
       "      <td>Normal Equation</td>\n",
       "      <td>Fast</td>\n",
       "      <td>No</td>\n",
       "      <td>Slow</td>\n",
       "      <td>0</td>\n",
       "      <td>No</td>\n",
       "      <td>LinearRegression</td>\n",
       "    </tr>\n",
       "    <tr>\n",
       "      <th>1</th>\n",
       "      <td>Batch GD</td>\n",
       "      <td>Slow</td>\n",
       "      <td>No</td>\n",
       "      <td>Fast</td>\n",
       "      <td>2</td>\n",
       "      <td>Yes</td>\n",
       "      <td>n/a</td>\n",
       "    </tr>\n",
       "    <tr>\n",
       "      <th>2</th>\n",
       "      <td>Stochastic GD</td>\n",
       "      <td>Fast</td>\n",
       "      <td>Yes</td>\n",
       "      <td>Fast</td>\n",
       "      <td>&gt;=2</td>\n",
       "      <td>Yes</td>\n",
       "      <td>SGDRegressor</td>\n",
       "    </tr>\n",
       "    <tr>\n",
       "      <th>3</th>\n",
       "      <td>Mini-batch GD</td>\n",
       "      <td>Fast</td>\n",
       "      <td>Yes</td>\n",
       "      <td>Fast</td>\n",
       "      <td>&gt;=2</td>\n",
       "      <td>Yes</td>\n",
       "      <td>n/a</td>\n",
       "    </tr>\n",
       "  </tbody>\n",
       "</table>\n",
       "</div>"
      ],
      "text/plain": [
       "         Algorithm Large m Out-of-core support Large n Hyperparams  \\\n",
       "0  Normal Equation    Fast                  No    Slow           0   \n",
       "1         Batch GD    Slow                  No    Fast           2   \n",
       "2    Stochastic GD    Fast                 Yes    Fast         >=2   \n",
       "3    Mini-batch GD    Fast                 Yes    Fast         >=2   \n",
       "\n",
       "  Scaling required      Scikit-Learn  \n",
       "0               No  LinearRegression  \n",
       "1              Yes               n/a  \n",
       "2              Yes      SGDRegressor  \n",
       "3              Yes               n/a  "
      ]
     },
     "execution_count": 54,
     "metadata": {},
     "output_type": "execute_result"
    }
   ],
   "source": [
    "import pandas as pd\n",
    "\n",
    "columns = [\"Algorithm\", \"Large m\", \"Out-of-core support\", \"Large n\", \"Hyperparams\", \"Scaling required\", \"Scikit-Learn\"]\n",
    "linear_data_table = [\n",
    "    [\"Normal Equation\", \"Fast\", \"No\", \"Slow\", \"0\", \"No\", \"LinearRegression\"],\n",
    "    [\"Batch GD\", \"Slow\", \"No\", \"Fast\", \"2\", \"Yes\", \"n/a\"],\n",
    "    [\"Stochastic GD\", \"Fast\", \"Yes\", \"Fast\", \">=2\", \"Yes\", \"SGDRegressor\"],\n",
    "    [\"Mini-batch GD\", \"Fast\", \"Yes\", \"Fast\", \">=2\", \"Yes\", \"n/a\"]\n",
    "]\n",
    "df = pd.DataFrame(linear_data_table, columns=columns)\n",
    "df"
   ]
  },
  {
   "cell_type": "markdown",
   "metadata": {},
   "source": [
    "# 多项式回归"
   ]
  },
  {
   "cell_type": "markdown",
   "metadata": {},
   "source": [
    "含义：对每个特征进行加权后作为新的特征，然后训练一个线性模型在这个扩展的特征集上。\n",
    "\n",
    "一些非线性数据"
   ]
  },
  {
   "cell_type": "code",
   "execution_count": 79,
   "metadata": {
    "ExecuteTime": {
     "end_time": "2018-08-28T10:02:21.697479Z",
     "start_time": "2018-08-28T10:02:21.423877Z"
    }
   },
   "outputs": [
    {
     "data": {
      "image/png": "[encoded data removed]",
      "text/plain": [
       "<matplotlib.figure.Figure at 0x10e3d4f28>"
      ]
     },
     "metadata": {},
     "output_type": "display_data"
    }
   ],
   "source": [
    "m = 100\n",
    "X = 6 * np.random.rand(m, 1) - 3\n",
    "y = 0.5 * X ** 2 + X + 2 + np.random.randn(m, 1)\n",
    "_ = plt.scatter(X, y)"
   ]
  },
  {
   "cell_type": "markdown",
   "metadata": {},
   "source": [
    "需要进行训练数据集转换"
   ]
  },
  {
   "cell_type": "code",
   "execution_count": 80,
   "metadata": {
    "ExecuteTime": {
     "end_time": "2018-08-28T10:02:25.914178Z",
     "start_time": "2018-08-28T10:02:25.893406Z"
    }
   },
   "outputs": [],
   "source": [
    "from sklearn.preprocessing import PolynomialFeatures\n",
    "from sklearn.linear_model import LinearRegression\n",
    "\n",
    "poly_features = PolynomialFeatures(degree=2, include_bias=False)\n",
    "X_poly = poly_features.fit_transform(X)"
   ]
  },
  {
   "cell_type": "code",
   "execution_count": 81,
   "metadata": {
    "ExecuteTime": {
     "end_time": "2018-08-28T10:02:27.460163Z",
     "start_time": "2018-08-28T10:02:27.428014Z"
    }
   },
   "outputs": [
    {
     "data": {
      "text/plain": [
       "(array([1.88138658]), array([[1.04634685, 0.52643591]]))"
      ]
     },
     "execution_count": 81,
     "metadata": {},
     "output_type": "execute_result"
    }
   ],
   "source": [
    "lin_reg = LinearRegression()\n",
    "lin_reg.fit(X_poly, y)\n",
    "lin_reg.intercept_, lin_reg.coef_"
   ]
  },
  {
   "cell_type": "code",
   "execution_count": 82,
   "metadata": {
    "ExecuteTime": {
     "end_time": "2018-08-28T10:02:33.092205Z",
     "start_time": "2018-08-28T10:02:33.077994Z"
    }
   },
   "outputs": [],
   "source": [
    "predict_func = lambda x: lin_reg.coef_[0][1] * x ** 2 + lin_reg.coef_[0][0] * x + lin_reg.intercept_[0]"
   ]
  },
  {
   "cell_type": "code",
   "execution_count": 91,
   "metadata": {
    "ExecuteTime": {
     "end_time": "2018-08-28T10:06:30.185459Z",
     "start_time": "2018-08-28T10:06:29.823818Z"
    }
   },
   "outputs": [
    {
     "data": {
      "image/png": "[encoded data removed]",
      "text/plain": [
       "<matplotlib.figure.Figure at 0x10de91be0>"
      ]
     },
     "metadata": {},
     "output_type": "display_data"
    }
   ],
   "source": [
    "plt.scatter(X, y)\n",
    "X_ = sorted(X)\n",
    "y_ = [predict_func(x) for x in X_] \n",
    "plt.plot(X_, y_, color='r')\n",
    "_ = plt.text(-1.5, 5.5, \"$\\hat{y}=%sx_1^2 + %sx_1 + %s$\" % (round(lin_reg.coef_[0][1], 2), round(lin_reg.coef_[0][0], 2), round(lin_reg.intercept_[0], 2)))"
   ]
  },
  {
   "cell_type": "markdown",
   "metadata": {},
   "source": [
    "原始函数为 $y=0.5x_1^2 + 1.0x_1 + 2.0$ 再加上一些高斯噪声\n",
    "\n",
    "**当存在多个特征时，多项式回归能够找出特征之间的关系**\n",
    "\n",
    "把一个包含n个特征的数组转换为包含 $N$ 个特征的数组：\n",
    "$$N = \\frac{(n + d) !}{d!n!}$$\n",
    "其中 $d$ 为 `degree`\n",
    "\n",
    "**小心大量的特征组合爆炸**"
   ]
  },
  {
   "cell_type": "markdown",
   "metadata": {},
   "source": [
    "## 学习曲线"
   ]
  },
  {
   "cell_type": "markdown",
   "metadata": {},
   "source": [
    "过拟合判断：训练集表现的好，交叉验证指标却得出泛化能力很差\n",
    "\n",
    "欠拟合判断：两方面表现都不好\n",
    "\n",
    "另一种方法是观察学习曲线"
   ]
  },
  {
   "cell_type": "code",
   "execution_count": 130,
   "metadata": {
    "ExecuteTime": {
     "end_time": "2018-08-28T17:29:53.544320Z",
     "start_time": "2018-08-28T17:29:53.538239Z"
    }
   },
   "outputs": [],
   "source": [
    "from sklearn.metrics import mean_squared_error\n",
    "from sklearn.model_selection import train_test_split\n",
    "\n",
    "def plot_learning_curve(model, X, y, ylim=None):\n",
    "    X_train, X_val, y_train, y_val = train_test_split(X, y, test_size=0.2)\n",
    "    train_errors, val_errors = [], []\n",
    "    for m in range(1, len(X_train)):\n",
    "        model.fit(X_train[:m], y_train[:m])\n",
    "        y_train_predict = model.predict(X_train[:m])\n",
    "        y_val_predict = model.predict(X_val)\n",
    "        train_errors.append(mean_squared_error(y_train_predict, y_train[:m]))\n",
    "        val_errors.append(mean_squared_error(y_val_predict, y_val))\n",
    "    plt.plot(np.sqrt(train_errors), \"r-+\", linewidth=2, label=\"train set\")\n",
    "    plt.plot(np.sqrt(val_errors), \"b-\", linewidth=3, label=\"val set\")\n",
    "    if ylim:\n",
    "        plt.ylim(ylim)\n",
    "    plt.legend()"
   ]
  },
  {
   "cell_type": "code",
   "execution_count": 135,
   "metadata": {
    "ExecuteTime": {
     "end_time": "2018-08-28T17:30:13.138440Z",
     "start_time": "2018-08-28T17:30:12.888933Z"
    }
   },
   "outputs": [
    {
     "data": {
      "image/png": "[encoded data removed]",
      "text/plain": [
       "<matplotlib.figure.Figure at 0x10e93b320>"
      ]
     },
     "metadata": {},
     "output_type": "display_data"
    }
   ],
   "source": [
    "plot_learning_curve(LinearRegression(), X, y)"
   ]
  },
  {
   "cell_type": "markdown",
   "metadata": {},
   "source": [
    "训练集上：\n",
    "\n",
    "1. 当只有一两个样本的时候，模型能够很好的拟合\n",
    "2. 加入新的数据后，拟合程度变得难以接受：\n",
    "    - 数据中有噪声\n",
    "    - 数据不是线性的\n",
    "3. 达到高原地带并趋于稳定\n",
    "\n",
    "验证集：\n",
    "\n",
    "1. 非常少的样本训练时，不能很好的泛化\n",
    "2. 训练样本变多，验证误差缓慢下降\n",
    "3. 最后误差会在高原地带趋于稳定\n",
    "\n",
    "**因为一条直线不能很好地拟合数据集，出现了欠拟合**\n",
    "\n",
    "**我们需要更复杂的模型或更好的特征**"
   ]
  },
  {
   "cell_type": "markdown",
   "metadata": {},
   "source": [
    "下面是一个过拟合的学习曲线"
   ]
  },
  {
   "cell_type": "code",
   "execution_count": 138,
   "metadata": {
    "ExecuteTime": {
     "end_time": "2018-08-28T17:30:21.893502Z",
     "start_time": "2018-08-28T17:30:21.567399Z"
    }
   },
   "outputs": [
    {
     "data": {
      "image/png": "[encoded data removed]",
      "text/plain": [
       "<matplotlib.figure.Figure at 0x10e99ed30>"
      ]
     },
     "metadata": {},
     "output_type": "display_data"
    }
   ],
   "source": [
    "from sklearn.pipeline import Pipeline\n",
    "\n",
    "polynomial_regression = Pipeline([\n",
    "    ('poly_features', PolynomialFeatures(degree=10, include_bias=False)),\n",
    "    ('sgd_reg', LinearRegression())\n",
    "])\n",
    "plot_learning_curve(polynomial_regression, X, y, ylim=[0, 5])"
   ]
  },
  {
   "cell_type": "markdown",
   "metadata": {},
   "source": [
    "1. 训练集上的误差要比线性回归模型低得多\n",
    "2. 两条曲线有间隔，这也是过拟合的显著特点。"
   ]
  },
  {
   "cell_type": "markdown",
   "metadata": {
    "ExecuteTime": {
     "end_time": "2018-08-28T17:32:47.738151Z",
     "start_time": "2018-08-28T17:32:47.729924Z"
    }
   },
   "source": [
    "泛化误差由三个不同误差的和决定：\n",
    "1. 偏差：错误的假设。(欠拟合)\n",
    "2. 方差：模型对训练数据的微小变化较为敏感。多自由度的模型更容易有高方差。(过拟合)\n",
    "3. 不可约误差：数据本身的噪声。(数据清洗是降低这一部分误差的唯一方法：修复数据源、坏的传感器、识别和剔除异常值)"
   ]
  },
  {
   "cell_type": "markdown",
   "metadata": {},
   "source": [
    "## 正则化"
   ]
  },
  {
   "cell_type": "markdown",
   "metadata": {},
   "source": [
    "约束模型的自由度，让其难以过拟合。"
   ]
  },
  {
   "cell_type": "markdown",
   "metadata": {},
   "source": [
    "### 岭回归(Ridge)"
   ]
  },
  {
   "cell_type": "markdown",
   "metadata": {},
   "source": [
    "又称Tikhonov正则化，是线性回归的正则化版，在损失函数上加上正则项 $\\alpha\\sum_{i=1}^n\\theta_i^2$ 。\n",
    "\n",
    "这样算法不仅能拟合数据，还能使模型的参数权重尽量小。\n",
    "\n",
    "**只在训练过程会加入正则项**"
   ]
  },
  {
   "cell_type": "markdown",
   "metadata": {},
   "source": [
    "> 训练过程中损失函数和测试过程中的评价函数不一样<br>\n",
    "> 训练中：易于求导<br>\n",
    "> 测试中：接近最后的客观表现"
   ]
  },
  {
   "cell_type": "markdown",
   "metadata": {},
   "source": [
    "岭回归损失函数：\n",
    "$$J(\\theta) = MSE(\\theta) + \\alpha\\frac{1}{2}\\sum_{i=1}^n\\theta_i^2$$\n",
    "$\\theta_0$ 是没有被正则化的\n",
    "\n",
    "**正则化前，对数据进行缩放非常重要**"
   ]
  },
  {
   "cell_type": "markdown",
   "metadata": {},
   "source": [
    "封闭方程的解：\n",
    "$$\\hat{\\theta} = (X^T \\cdot X + \\alpha A)^{-1} \\cdot X^T \\cdot y$$"
   ]
  },
  {
   "cell_type": "code",
   "execution_count": 144,
   "metadata": {
    "ExecuteTime": {
     "end_time": "2018-08-29T02:53:28.985859Z",
     "start_time": "2018-08-29T02:53:28.964649Z"
    }
   },
   "outputs": [
    {
     "name": "stdout",
     "output_type": "stream",
     "text": [
      "Ridge: [[5.29787276]]\n",
      "SGD: [5.3038548]\n"
     ]
    }
   ],
   "source": [
    "from sklearn.linear_model import Ridge\n",
    "\n",
    "ridge_reg = Ridge(alpha=1, solver=\"cholesky\")\n",
    "ridge_reg.fit(X, y)\n",
    "print(\"Ridge:\", ridge_reg.predict([[1.5]]))\n",
    "sgd_reg = SGDRegressor(penalty=\"l2\", max_iter=1000)\n",
    "sgd_reg.fit(X, y.ravel())\n",
    "print(\"SGD:\", sgd_reg.predict([[1.5]]))"
   ]
  },
  {
   "cell_type": "markdown",
   "metadata": {},
   "source": [
    "另一句话说， `l2` 就是简单的岭回归"
   ]
  },
  {
   "cell_type": "markdown",
   "metadata": {},
   "source": [
    "### Lasso回归"
   ]
  },
  {
   "cell_type": "markdown",
   "metadata": {},
   "source": [
    "也称 `Least Absolute Shrinkage` 或者 `Selection Operator Regression`\n",
    "\n",
    "他使用的是权重向量的 `l1` 范数"
   ]
  },
  {
   "cell_type": "markdown",
   "metadata": {},
   "source": [
    "Lasso回归的损失函数：\n",
    "$$J(\\theta) = MSE(\\theta) + \\alpha\\sum_{i=1}^n\\lvert\\theta_i\\rvert$$\n",
    "**特性：倾向于完全消除最不重要的特征的权重(自动进行特征选择)**"
   ]
  },
  {
   "cell_type": "markdown",
   "metadata": {},
   "source": [
    "**Lasso损失函数中，批量梯度下降的路劲趋向于在低谷有一个反弹。为了真正收敛到全局最小值，应该逐渐降低学习率**"
   ]
  },
  {
   "cell_type": "markdown",
   "metadata": {},
   "source": [
    "Lasso在 $\\theta_i=0(i=1,2,\\cdots,n)$ 处无法微分。使用子梯度向量可以在任务 $\\theta_i=0$ 的情况下计算。\n",
    "公式：\n",
    "$$g(\\theta, J) = \\nabla_{\\theta}MSE(\\theta) + \\alpha \\left(\\begin{matrix} sign(\\theta_1) \\\\ sign(\\theta_2) \\\\ \\vdots \\\\ sign(\\theta_n)\\end{matrix}\\right)\\ where\\ sign(\\theta_i) = \\begin{cases}-1, & \\theta_i < 0\\\\0, & \\theta_i = 0 \\\\ +1, & \\theta_i > 0\\end{cases}$$"
   ]
  },
  {
   "cell_type": "code",
   "execution_count": 146,
   "metadata": {
    "ExecuteTime": {
     "end_time": "2018-08-29T03:25:56.982557Z",
     "start_time": "2018-08-29T03:25:56.972276Z"
    }
   },
   "outputs": [
    {
     "name": "stdout",
     "output_type": "stream",
     "text": [
      "Lasso: [5.25524894]\n"
     ]
    }
   ],
   "source": [
    "from sklearn.linear_model import Lasso\n",
    "\n",
    "lasso_reg = Lasso(alpha=0.1)\n",
    "lasso_reg.fit(X, y)\n",
    "print(\"Lasso:\", lasso_reg.predict([[1.5]]))"
   ]
  },
  {
   "cell_type": "markdown",
   "metadata": {},
   "source": [
    "### 弹性网络（ElasticNet）"
   ]
  },
  {
   "cell_type": "markdown",
   "metadata": {},
   "source": [
    "介于Ridge和Lasso之间。$r$ 是混合率。\n",
    "\n",
    "公式：\n",
    "$$J(\\theta) = MSE(\\theta) + r\\alpha\\sum_{i=1}^n|\\theta_i| + \\frac{1-r}{2}\\alpha\\sum_{i=1}^n\\theta_i^2$$"
   ]
  },
  {
   "cell_type": "markdown",
   "metadata": {},
   "source": [
    "正则化的选择：\n",
    "\n",
    "1. 岭回归是个好的首选项\n",
    "2. 特征仅少数有用，选择Lasso或者弹性网络\n",
    "3. 一般来说，弹性网络比Lasso表现好\n",
    "\n",
    "**特征数量比样本数量大时，或者特征之间有很强相关性，Lasso可能会表现的不规律**"
   ]
  },
  {
   "cell_type": "code",
   "execution_count": 147,
   "metadata": {
    "ExecuteTime": {
     "end_time": "2018-08-29T03:38:59.332421Z",
     "start_time": "2018-08-29T03:38:59.313740Z"
    }
   },
   "outputs": [
    {
     "name": "stdout",
     "output_type": "stream",
     "text": [
      "ElasticNet: [5.25159673]\n"
     ]
    }
   ],
   "source": [
    "from sklearn.linear_model import ElasticNet\n",
    "\n",
    "elastic_net = ElasticNet(alpha=0.1, l1_ratio=0.5)  # l1_ratio即r\n",
    "elastic_net.fit(X, y)\n",
    "print(\"ElasticNet:\", elastic_net.predict([[1.5]]))"
   ]
  },
  {
   "cell_type": "markdown",
   "metadata": {},
   "source": [
    "### 早起停止法（Early Stopping）"
   ]
  },
  {
   "cell_type": "markdown",
   "metadata": {},
   "source": [
    "梯度下降在验证错误达到最小值时立即停止训练"
   ]
  },
  {
   "cell_type": "markdown",
   "metadata": {
    "ExecuteTime": {
     "end_time": "2018-08-29T04:01:44.767161Z",
     "start_time": "2018-08-29T04:01:44.756061Z"
    }
   },
   "source": [
    "*完美的免费午餐*"
   ]
  },
  {
   "cell_type": "markdown",
   "metadata": {},
   "source": [
    "> 随机梯度和小批量梯度下降不是平滑的，很难知道最小值在哪。<br>\n",
    "> 只有验证误差高于最小值一段时间后，才停止，然后回滚参数"
   ]
  },
  {
   "cell_type": "code",
   "execution_count": 165,
   "metadata": {
    "ExecuteTime": {
     "end_time": "2018-08-29T04:18:55.876605Z",
     "start_time": "2018-08-29T04:18:55.058282Z"
    }
   },
   "outputs": [
    {
     "name": "stdout",
     "output_type": "stream",
     "text": [
      "Best epoch: 281\n",
      "Best model weight: {'coef': array([1.2626523]), 'intercept': array([3.51756572])}\n"
     ]
    }
   ],
   "source": [
    "from sklearn.base import clone\n",
    "\n",
    "sgd_reg = SGDRegressor(n_iter=1, warm_start=True, penalty=None, learning_rate=\"constant\", eta0=0.0005)\n",
    "\n",
    "minimum_val_error = float(\"inf\")  # 最大值\n",
    "best_epoch = None\n",
    "best_model_weight = None\n",
    "X_train, X_val, y_train, y_val = train_test_split(X, y, test_size=0.2)\n",
    "for epoch in range(1000):\n",
    "    sgd_reg.fit(X_train, y_train.ravel())\n",
    "    y_val_predict = sgd_reg.predict(X_val)\n",
    "    val_error = mean_squared_error(y_val_predict, y_val.ravel())\n",
    "    if val_error < minimum_val_error:\n",
    "        minimum_val_error = val_error\n",
    "        best_epoch = epoch\n",
    "        best_model_weight = {'coef': sgd_reg.coef_, 'intercept': sgd_reg.intercept_}\n",
    "print(\"Best epoch:\", best_epoch)\n",
    "print(\"Best model weight:\", best_model_weight)"
   ]
  },
  {
   "cell_type": "markdown",
   "metadata": {},
   "source": [
    "**`sklearn` 中 `clone` 之后的模型，需要重新fit，顾只保存了模型的参数即可**"
   ]
  },
  {
   "cell_type": "markdown",
   "metadata": {},
   "source": [
    "# 分类"
   ]
  },
  {
   "cell_type": "markdown",
   "metadata": {},
   "source": [
    "## Logistic"
   ]
  },
  {
   "cell_type": "markdown",
   "metadata": {},
   "source": [
    "逻辑回归的概率估计：\n",
    "$$\\hat{p} = h_{\\theta}(X) = \\sigma(\\theta^T \\cdot X)$$"
   ]
  },
  {
   "cell_type": "markdown",
   "metadata": {},
   "source": [
    "Logistic函数，用 $\\sigma()$ 表示。是一个 `sigmoid` 函数。\n",
    "$$\\sigma(t) = \\frac{1}{1+exp^{(-t)}}$$"
   ]
  },
  {
   "cell_type": "code",
   "execution_count": 180,
   "metadata": {
    "ExecuteTime": {
     "end_time": "2018-08-29T05:12:53.151507Z",
     "start_time": "2018-08-29T05:12:52.621238Z"
    }
   },
   "outputs": [
    {
     "data": {
      "image/png": "[encoded data removed]",
      "text/plain": [
       "<matplotlib.figure.Figure at 0x10eae9cc0>"
      ]
     },
     "metadata": {},
     "output_type": "display_data"
    }
   ],
   "source": [
    "def sigmoid(X):\n",
    "    return 1. / (1 + np.exp(-X))\n",
    "\n",
    "X_sig = np.arange(-10, 10, 0.1)\n",
    "y_sig = sigmoid(X_sig)\n",
    "plt.plot(X_sig, y_sig, label='$\\sigma(t)=\\dfrac{1}{1+e^{-t}}$')\n",
    "_ = plt.legend()"
   ]
  },
  {
   "cell_type": "markdown",
   "metadata": {},
   "source": [
    "逻辑回归预测模型：\n",
    "$$\\hat{y} = \\begin{cases}0, & \\hat{p} < 0.5 \\\\ 1, & \\hat{p} ≥ 0.5 \\end{cases}$$"
   ]
  },
  {
   "cell_type": "markdown",
   "metadata": {
    "ExecuteTime": {
     "end_time": "2018-08-29T05:16:11.826184Z",
     "start_time": "2018-08-29T05:16:11.821778Z"
    }
   },
   "source": [
    "### 训练和损失函数"
   ]
  },
  {
   "cell_type": "markdown",
   "metadata": {},
   "source": [
    "单个样本的损失函数：\n",
    "$$c(\\theta) = \\begin{cases}-log(\\hat{p}), & y=1 \\\\ -log(1 - \\hat{p}), & y = 0 \\end{cases}$$"
   ]
  },
  {
   "cell_type": "markdown",
   "metadata": {},
   "source": [
    "整个训练集的损失函数只是所有训练实例的平均值，可以用一个表达式来表示\n",
    "\n",
    "逻辑回归的损失函数(对数损失)：\n",
    "$$J(\\theta) = -\\dfrac{1}{m}\\sum_{i=1}^m[y^{(i)}log(\\hat{p}^{(i)}) + (1-y^{(i)})log(1-\\hat{p}^{(i)})]$$"
   ]
  },
  {
   "cell_type": "markdown",
   "metadata": {},
   "source": [
    "这个损失函数没有公式解，但是是凸的：\n",
    "$$\\dfrac{\\partial}{\\partial\\theta_j}J(\\theta_j) = \\dfrac{1}{m}\\sum_{i=1}^m(\\sigma(\\theta^T \\cdot X^{(i)}) - y^{(i)})x_j^{(i)}$$"
   ]
  },
  {
   "cell_type": "markdown",
   "metadata": {},
   "source": [
    "### 决策边界"
   ]
  },
  {
   "cell_type": "markdown",
   "metadata": {},
   "source": [
    "我们使用莺尾花数据集来进行之后的分析，首先，仅仅使用花瓣的宽度特征来识别Virginica"
   ]
  },
  {
   "cell_type": "code",
   "execution_count": 182,
   "metadata": {
    "ExecuteTime": {
     "end_time": "2018-08-29T06:10:33.376343Z",
     "start_time": "2018-08-29T06:10:32.870533Z"
    }
   },
   "outputs": [],
   "source": [
    "from sklearn import datasets\n",
    "\n",
    "iris = datasets.load_iris()\n",
    "X = iris[\"data\"][:, 3:]\n",
    "y = (iris[\"target\"] == 2).astype(np.int)"
   ]
  },
  {
   "cell_type": "code",
   "execution_count": 183,
   "metadata": {
    "ExecuteTime": {
     "end_time": "2018-08-29T06:11:10.448496Z",
     "start_time": "2018-08-29T06:11:10.415703Z"
    }
   },
   "outputs": [
    {
     "data": {
      "text/plain": [
       "LogisticRegression(C=1.0, class_weight=None, dual=False, fit_intercept=True,\n",
       "          intercept_scaling=1, max_iter=100, multi_class='ovr', n_jobs=1,\n",
       "          penalty='l2', random_state=None, solver='liblinear', tol=0.0001,\n",
       "          verbose=0, warm_start=False)"
      ]
     },
     "execution_count": 183,
     "metadata": {},
     "output_type": "execute_result"
    }
   ],
   "source": [
    "from sklearn.linear_model import LogisticRegression\n",
    "\n",
    "log_reg = LogisticRegression()\n",
    "log_reg.fit(X, y)"
   ]
  },
  {
   "cell_type": "markdown",
   "metadata": {},
   "source": [
    "下面看看模型估计的花瓣宽度从0到3厘米的概率估计"
   ]
  },
  {
   "cell_type": "code",
   "execution_count": 198,
   "metadata": {
    "ExecuteTime": {
     "end_time": "2018-08-29T06:23:15.550493Z",
     "start_time": "2018-08-29T06:23:15.114914Z"
    }
   },
   "outputs": [
    {
     "data": {
      "image/png": "[encoded data removed]",
      "text/plain": [
       "<matplotlib.figure.Figure at 0x10ec769e8>"
      ]
     },
     "metadata": {},
     "output_type": "display_data"
    }
   ],
   "source": [
    "X_new= np.linspace(0, 3, 1000).reshape(-1, 1)\n",
    "y_proba = log_reg.predict_proba(X_new)\n",
    "plt.figure(figsize=(7, 3.5))\n",
    "plt.plot(X_new, y_proba[:, 1], \"g-\", label=\"Iris-Virginica\")\n",
    "plt.plot(X_new, y_proba[:, 0], \"b--\", label=\"Not Iris-Virginica\")\n",
    "vir_x = X[y == 1]\n",
    "not_vir_x = X[y == 0]\n",
    "plt.scatter(vir_x, [1] * len(vir_x), c=\"g\", marker=\"^\")\n",
    "plt.scatter(not_vir_x, [0] * len(not_vir_x), c=\"b\", marker=\"s\")\n",
    "plt.xlabel(\"Petal width(cm)\")\n",
    "plt.ylabel(\"Probability\")\n",
    "_ = plt.legend()"
   ]
  },
  {
   "cell_type": "markdown",
   "metadata": {},
   "source": [
    "在两条曲线交点处，是一个决策边界所在。\n",
    "- 在大约2厘米以上时，分类器非常肯定这朵花是Virginica\n",
    "- 在1厘米以下时，分类器非常肯定这朵花不是Virginica\n",
    "- 在这两端之间，分类器是不确定的。它将返回一个最可能的结果。"
   ]
  },
  {
   "cell_type": "markdown",
   "metadata": {},
   "source": [
    "`LogisticRegression` 模型中控制正则化强度的超参数是 $C$，它是 $\\alpha$ 的逆。 $C$ 越大，模型正则化强度越低。"
   ]
  },
  {
   "cell_type": "markdown",
   "metadata": {},
   "source": [
    "## Softmax"
   ]
  },
  {
   "cell_type": "markdown",
   "metadata": {},
   "source": [
    "逻辑回归模型可以直接推广到支持多类别分类。\n",
    "\n",
    "给定一个实例$x$，首先计算$k$类的分数$s_k(x)$，然后应用在 `Softmax` 函数上，估计每类的概率。\n",
    "\n",
    "$k$类的 `Softmax` 得分\n",
    "$$s_k(x) = \\theta_k^T \\cdot x$$\n",
    "每个类都有自己独一无二的参数向量$\\theta_k$"
   ]
  },
  {
   "cell_type": "markdown",
   "metadata": {},
   "source": [
    "`Softmax` 函数：\n",
    "$$\\hat{p_k} = \\sigma(s(X))_k = \\dfrac{exp(s_k(X))}{\\sum_{j=1}^K exp(s_j(X))}$$"
   ]
  },
  {
   "cell_type": "markdown",
   "metadata": {},
   "source": [
    "- $K$表示有多少类\n",
    "- $s(X)$表示包含样本X每一类得分的向量\n",
    "- $\\sigma(s(X))_k$表示给定每一类分数之后，实例$X$属于第$k$类的概率"
   ]
  },
  {
   "cell_type": "markdown",
   "metadata": {},
   "source": [
    "`Softmax` 回归模型分类器预测结果\n",
    "$$\\hat{y} = argmax\\ \\sigma(s(X))_k = argmax\\ s_k(X) = argmax\\ (\\theta_k^T \\cdot X)$$"
   ]
  },
  {
   "cell_type": "markdown",
   "metadata": {},
   "source": [
    "**`Softmax`回归一次只能预测一个类，因此它只能用于判断互斥的类别**"
   ]
  },
  {
   "cell_type": "markdown",
   "metadata": {},
   "source": [
    "使用交叉熵来定义该模型的损失函数：\n",
    "$$J(\\Theta) = -\\frac{1}{m}\\sum_{i=1}^m\\sum_{k=1}^K y_k^{(i)}log(\\hat{p_k}^{(i)})$$\n",
    "- 如果对于第$i$个实例的目标类是$k$，那么$y_k^{(i)}=1$，反之$y_k^{(i)}=0$"
   ]
  },
  {
   "cell_type": "markdown",
   "metadata": {},
   "source": [
    "> KL散度<br>\n",
    "> 两个概率分布$p$和$q$之间的交叉熵定义为：$$H(p, q)=-\\sum_x p(x)log q(x)$$(分布至少是离散的)"
   ]
  },
  {
   "cell_type": "markdown",
   "metadata": {},
   "source": [
    "$k$ 类交叉熵的梯度向量\n",
    "$$\\nabla_{\\theta_k}J(\\Theta) = \\frac{1}{m}\\sum_{i=1}^m(\\hat{p_k}^{(i)}-y_k^{(i)})X^{(i)}$$"
   ]
  },
  {
   "cell_type": "code",
   "execution_count": 199,
   "metadata": {
    "ExecuteTime": {
     "end_time": "2018-08-29T06:48:37.326896Z",
     "start_time": "2018-08-29T06:48:37.243024Z"
    }
   },
   "outputs": [
    {
     "data": {
      "text/plain": [
       "LogisticRegression(C=10, class_weight=None, dual=False, fit_intercept=True,\n",
       "          intercept_scaling=1, max_iter=100, multi_class='multinomial',\n",
       "          n_jobs=1, penalty='l2', random_state=None, solver='lbfgs',\n",
       "          tol=0.0001, verbose=0, warm_start=False)"
      ]
     },
     "execution_count": 199,
     "metadata": {},
     "output_type": "execute_result"
    }
   ],
   "source": [
    "X = iris[\"data\"][:, (2, 3)]\n",
    "y = iris[\"target\"]\n",
    "\n",
    "softmax_reg = LogisticRegression(multi_class=\"multinomial\", solver=\"lbfgs\", C=10)\n",
    "softmax_reg.fit(X, y)"
   ]
  },
  {
   "cell_type": "code",
   "execution_count": 201,
   "metadata": {
    "ExecuteTime": {
     "end_time": "2018-08-29T06:49:04.592640Z",
     "start_time": "2018-08-29T06:49:04.578526Z"
    }
   },
   "outputs": [
    {
     "data": {
      "text/plain": [
       "array([2])"
      ]
     },
     "execution_count": 201,
     "metadata": {},
     "output_type": "execute_result"
    }
   ],
   "source": [
    "softmax_reg.predict([[5, 2]])"
   ]
  },
  {
   "cell_type": "code",
   "execution_count": null,
   "metadata": {},
   "outputs": [],
   "source": []
  }
 ],
 "metadata": {
  "kernelspec": {
   "display_name": "Python 3",
   "language": "python",
   "name": "python3"
  },
  "language_info": {
   "codemirror_mode": {
    "name": "ipython",
    "version": 3
   },
   "file_extension": ".py",
   "mimetype": "text/x-python",
   "name": "python",
   "nbconvert_exporter": "python",
   "pygments_lexer": "ipython3",
   "version": "3.6.2"
  },
  "latex_envs": {
   "LaTeX_envs_menu_present": true,
   "autocomplete": true,
   "bibliofile": "biblio.bib",
   "cite_by": "apalike",
   "current_citInitial": 1,
   "eqLabelWithNumbers": true,
   "eqNumInitial": 1,
   "hotkeys": {
    "equation": "Ctrl-E",
    "itemize": "Ctrl-I"
   },
   "labels_anchors": false,
   "latex_user_defs": false,
   "report_style_numbering": false,
   "user_envs_cfg": false
  },
  "nbTranslate": {
   "displayLangs": [
    "*"
   ],
   "hotkey": "alt-t",
   "langInMainMenu": true,
   "sourceLang": "en",
   "targetLang": "fr",
   "useGoogleTranslate": true
  },
  "toc": {
   "nav_menu": {},
   "number_sections": true,
   "sideBar": true,
   "skip_h1_title": false,
   "toc_cell": false,
   "toc_position": {},
   "toc_section_display": "block",
   "toc_window_display": true
  }
 },
 "nbformat": 4,
 "nbformat_minor": 2
}
