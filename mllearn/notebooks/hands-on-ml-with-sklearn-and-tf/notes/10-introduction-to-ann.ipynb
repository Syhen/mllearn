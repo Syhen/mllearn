{
 "cells": [
  {
   "cell_type": "markdown",
   "metadata": {},
   "source": [
    "<span style=\"font-size: 24px; font-weight: bold\">第十章·人工神经网络介绍</span>"
   ]
  },
  {
   "cell_type": "markdown",
   "metadata": {},
   "source": [
    "目标：\n",
    "1. ANN架构；\n",
    "2. MLP；\n",
    "3. MNIST数字分类"
   ]
  },
  {
   "cell_type": "markdown",
   "metadata": {},
   "source": [
    "为什么ANN：\n",
    "1. 有了大量的数据用于训练；\n",
    "2. 计算能力的提高；\n",
    "3. 改进了训练算法；\n",
    "4. 理论局限性是良性的；\n",
    "5. ANN进入资金和进步的良性循环。"
   ]
  },
  {
   "cell_type": "markdown",
   "metadata": {},
   "source": [
    "# 感知器"
   ]
  },
  {
   "cell_type": "markdown",
   "metadata": {},
   "source": [
    "神经元：线性阈值单元。\n",
    "\n",
    "输入和输出是数字，每个输入连接都与权重相连。\n",
    "\n",
    "$h_w(X) = \\text{step}(w^T \\cdot X)$\n",
    "\n",
    "阶跃函数：\n",
    "\n",
    "$\\text{heaviside}(z) = \\begin{cases} 0 & if\\ z < 0 \\\\ 1 & if\\ z ≥ 0\\end{cases}$ $\\text{sgn}(z) = \\begin{cases} -1 & if\\ z < 0 \\\\ 0 & if\\ z = 0 \\\\ +1 & if\\ z > 0 \\end{cases}$"
   ]
  },
  {
   "cell_type": "markdown",
   "metadata": {},
   "source": [
    "感知器训练：不加强导致错误输出的连接"
   ]
  },
  {
   "cell_type": "markdown",
   "metadata": {},
   "source": [
    "$$w_{i, j}^{\\text(next step)} = w_{i, j} + \\eta(\\hat{y_j} - y_j) * x_i$$\n",
    "- $w_{i, j}$ 是第 $i$ 输入神经元与第 $j$ 个输入神经元之间的连接权重\n",
    "- $x_i$ 是当前训练实例与输入值\n",
    "- $\\hat{y}_j$ 是当前训练实例的第 $j$ 个输出神经元的输出\n",
    "- $y_j$ 是当前训练实例的第 $j$ 个输出神经元的**目标**输出\n",
    "- $\\eta$ 是学习率\n",
    "\n",
    "决策边界是线性的。"
   ]
  },
  {
   "cell_type": "code",
   "execution_count": 1,
   "metadata": {
    "ExecuteTime": {
     "end_time": "2018-09-16T10:48:09.111286Z",
     "start_time": "2018-09-16T10:48:07.049534Z"
    }
   },
   "outputs": [],
   "source": [
    "import matplotlib.pyplot as plt\n",
    "import numpy as np\n",
    "from sklearn.datasets import load_iris\n",
    "from sklearn.linear_model import Perceptron\n",
    "\n",
    "%matplotlib inline"
   ]
  },
  {
   "cell_type": "code",
   "execution_count": 2,
   "metadata": {
    "ExecuteTime": {
     "end_time": "2018-09-16T10:48:09.124375Z",
     "start_time": "2018-09-16T10:48:09.114841Z"
    }
   },
   "outputs": [],
   "source": [
    "def plot_decision_bundary(estimator, X, y, title=None, num=100):\n",
    "    \"\"\"画出决策边界\"\"\"\n",
    "    X1_lin = np.linspace(X[:, 0].min() - 0.5, X[:, 0].max() + 0.5, num=num)\n",
    "    X2_lin = np.linspace(X[:, 1].min() - 0.5, X[:, 1].max() + 0.5, num=num)\n",
    "    X11, X22 = np.meshgrid(X1_lin, X2_lin)\n",
    "    Z = estimator.predict(np.c_[X11.ravel(), X22.ravel()]).reshape(X11.shape)\n",
    "    plt.contourf(X1_lin, X2_lin, Z, cmap=plt.cm.Spectral)\n",
    "    plt.scatter(X[:, 0], X[:, 1], c=y)\n",
    "    if title:\n",
    "        plt.title(title)"
   ]
  },
  {
   "cell_type": "code",
   "execution_count": 4,
   "metadata": {
    "ExecuteTime": {
     "end_time": "2018-09-16T12:41:30.230624Z",
     "start_time": "2018-09-16T12:41:29.824693Z"
    }
   },
   "outputs": [
    {
     "data": {
      "image/png": "[encoded data removed]",
      "text/plain": [
       "<matplotlib.figure.Figure at 0x10b62e7f0>"
      ]
     },
     "metadata": {},
     "output_type": "display_data"
    }
   ],
   "source": [
    "iris = load_iris()\n",
    "X, y = iris.data[:, (2, 3)], (iris.target == 0).astype(np.int)\n",
    "per_clf = Perceptron(max_iter=1000, tol=1e-3, random_state=42)\n",
    "per_clf.fit(X, y)\n",
    "plot_decision_bundary(per_clf, X, y, title=\"Perceptron decision bundary\")"
   ]
  },
  {
   "cell_type": "markdown",
   "metadata": {},
   "source": [
    "感知机算法类似于随机梯度下降。\n",
    "\n",
    "sklearn的感知器类相当于 `SGDClassifier(loss=\"perceptron\", learning_rate=\"constant\", eta0=1, penalty=None)`。\n",
    "\n",
    "感知器不输出类概率。"
   ]
  },
  {
   "cell_type": "markdown",
   "metadata": {},
   "source": [
    "感知器的一些局限性可以通过堆叠多个感知器来消除。（多层感知器MLP）。\n",
    "\n",
    "MLP可以解决异或问题。\n",
    "\n",
    "![mlp-异或](../images/10-mlp-xor.png)"
   ]
  },
  {
   "cell_type": "markdown",
   "metadata": {},
   "source": [
    "# 多层感知器和反向传播"
   ]
  },
  {
   "cell_type": "markdown",
   "metadata": {},
   "source": [
    "人工神经网络有两个或多个隐含层时，称为深度神经网络(DNN)"
   ]
  },
  {
   "cell_type": "markdown",
   "metadata": {},
   "source": [
    "训练：对于每个训练实例，反向传播算法首先进行预测(前向)，测量误差，然后反向遍历每个层来测量每个连接(反向传递)的误差贡献，最后稍微调整连接器权值以减少误差(梯度下降步长)。"
   ]
  },
  {
   "cell_type": "markdown",
   "metadata": {},
   "source": [
    "用 Logistic 函数代替了阶跃函数：\n",
    "$$\\sigma(z) = \\frac{1}{1+exp(-z)}$$\n",
    "\n",
    "另外流行的激活函数：\n",
    "- 双曲正切函数： $\\text{tanh}(z)=2\\sigma(2z)-1$，S形、连续、可微。输出范围(-1, 1)，有助于加快收敛速度。\n",
    "- Relu函数：$\\text{RELU}(z)=\\text{max}(0, z)$。连续的，在 `z=0` 时不可微。实践中，工作的很好。快速计算的优点。没有最大输出值有助于减少梯度下降期间的一些问题。\n",
    "\n",
    "![常用激活函数的图形](../images/10-activation-func.png)"
   ]
  },
  {
   "cell_type": "markdown",
   "metadata": {},
   "source": [
    "多分类：softmax，二分类：sigmoid。\n",
    "\n",
    "生物神经元似乎是用 sigmoid 激活函数活动的，Relu激活函数通常在 ANN 工作得更好。"
   ]
  },
  {
   "cell_type": "markdown",
   "metadata": {},
   "source": [
    "# 用TensorFlow高级API训练MLP"
   ]
  },
  {
   "cell_type": "code",
   "execution_count": 10,
   "metadata": {
    "ExecuteTime": {
     "end_time": "2018-09-16T13:22:12.296479Z",
     "start_time": "2018-09-16T13:19:41.325955Z"
    },
    "scrolled": true
   },
   "outputs": [
    {
     "name": "stdout",
     "output_type": "stream",
     "text": [
      "WARNING:tensorflow:float64 is not supported by many models, consider casting to float32.\n",
      "INFO:tensorflow:Using default config.\n",
      "WARNING:tensorflow:Using temporary folder as model directory: /var/folders/z6/wr1ydrzn3bg099wwtxwyh9ww0000gn/T/tmp6z3nnbr9\n",
      "INFO:tensorflow:Using config: {'_task_type': None, '_task_id': 0, '_cluster_spec': <tensorflow.python.training.server_lib.ClusterSpec object at 0x112ee09b0>, '_master': '', '_num_ps_replicas': 0, '_num_worker_replicas': 0, '_environment': 'local', '_is_chief': True, '_evaluation_master': '', '_tf_config': gpu_options {\n",
      "  per_process_gpu_memory_fraction: 1.0\n",
      "}\n",
      ", '_tf_random_seed': None, '_save_summary_steps': 100, '_save_checkpoints_secs': 600, '_log_step_count_steps': 100, '_session_config': None, '_save_checkpoints_steps': None, '_keep_checkpoint_max': 5, '_keep_checkpoint_every_n_hours': 10000, '_model_dir': '/var/folders/z6/wr1ydrzn3bg099wwtxwyh9ww0000gn/T/tmp6z3nnbr9'}\n",
      "WARNING:tensorflow:float64 is not supported by many models, consider casting to float32.\n",
      "WARNING:tensorflow:From /usr/local/Cellar/python3/3.6.2/Frameworks/Python.framework/Versions/3.6/lib/python3.6/site-packages/tensorflow/contrib/learn/python/learn/estimators/head.py:678: ModelFnOps.__new__ (from tensorflow.contrib.learn.python.learn.estimators.model_fn) is deprecated and will be removed in a future version.\n",
      "Instructions for updating:\n",
      "When switching to tf.estimator.Estimator, use tf.estimator.EstimatorSpec. You can use the `estimator_spec` method to create an equivalent one.\n",
      "INFO:tensorflow:Create CheckpointSaverHook.\n",
      "INFO:tensorflow:Graph was finalized.\n",
      "INFO:tensorflow:Running local_init_op.\n",
      "INFO:tensorflow:Done running local_init_op.\n",
      "INFO:tensorflow:Saving checkpoints for 1 into /var/folders/z6/wr1ydrzn3bg099wwtxwyh9ww0000gn/T/tmp6z3nnbr9/model.ckpt.\n",
      "INFO:tensorflow:loss = 2.680474, step = 1\n",
      "INFO:tensorflow:global_step/sec: 286.013\n",
      "INFO:tensorflow:loss = 0.15669549, step = 101 (0.348 sec)\n",
      "INFO:tensorflow:global_step/sec: 256.404\n",
      "INFO:tensorflow:loss = 0.9242482, step = 201 (0.391 sec)\n",
      "INFO:tensorflow:global_step/sec: 239.357\n",
      "INFO:tensorflow:loss = 0.095548086, step = 301 (0.417 sec)\n",
      "INFO:tensorflow:global_step/sec: 234.011\n",
      "INFO:tensorflow:loss = 0.06587208, step = 401 (0.427 sec)\n",
      "INFO:tensorflow:global_step/sec: 264.511\n",
      "INFO:tensorflow:loss = 0.13611318, step = 501 (0.382 sec)\n",
      "INFO:tensorflow:global_step/sec: 203.205\n",
      "INFO:tensorflow:loss = 0.12914844, step = 601 (0.489 sec)\n",
      "INFO:tensorflow:global_step/sec: 208.093\n",
      "INFO:tensorflow:loss = 0.11452917, step = 701 (0.481 sec)\n",
      "INFO:tensorflow:global_step/sec: 239.211\n",
      "INFO:tensorflow:loss = 0.22221954, step = 801 (0.418 sec)\n",
      "INFO:tensorflow:global_step/sec: 287.818\n",
      "INFO:tensorflow:loss = 0.1609446, step = 901 (0.348 sec)\n",
      "INFO:tensorflow:global_step/sec: 250.202\n",
      "INFO:tensorflow:loss = 0.31388903, step = 1001 (0.401 sec)\n",
      "INFO:tensorflow:global_step/sec: 255.676\n",
      "INFO:tensorflow:loss = 0.069257, step = 1101 (0.390 sec)\n",
      "INFO:tensorflow:global_step/sec: 225.217\n",
      "INFO:tensorflow:loss = 0.05329664, step = 1201 (0.444 sec)\n",
      "INFO:tensorflow:global_step/sec: 202.937\n",
      "INFO:tensorflow:loss = 0.09996211, step = 1301 (0.498 sec)\n",
      "INFO:tensorflow:global_step/sec: 198.666\n",
      "INFO:tensorflow:loss = 0.08748166, step = 1401 (0.499 sec)\n",
      "INFO:tensorflow:global_step/sec: 245.425\n",
      "INFO:tensorflow:loss = 0.05987047, step = 1501 (0.406 sec)\n",
      "INFO:tensorflow:global_step/sec: 249.194\n",
      "INFO:tensorflow:loss = 0.21997474, step = 1601 (0.401 sec)\n",
      "INFO:tensorflow:global_step/sec: 308.939\n",
      "INFO:tensorflow:loss = 0.069285385, step = 1701 (0.326 sec)\n",
      "INFO:tensorflow:global_step/sec: 233.393\n",
      "INFO:tensorflow:loss = 0.0440165, step = 1801 (0.427 sec)\n",
      "INFO:tensorflow:global_step/sec: 278.009\n",
      "INFO:tensorflow:loss = 0.06308958, step = 1901 (0.359 sec)\n",
      "INFO:tensorflow:global_step/sec: 258.993\n",
      "INFO:tensorflow:loss = 0.07304453, step = 2001 (0.388 sec)\n",
      "INFO:tensorflow:global_step/sec: 261.219\n",
      "INFO:tensorflow:loss = 0.023759171, step = 2101 (0.381 sec)\n",
      "INFO:tensorflow:global_step/sec: 246.468\n",
      "INFO:tensorflow:loss = 0.061216116, step = 2201 (0.406 sec)\n",
      "INFO:tensorflow:global_step/sec: 249.689\n",
      "INFO:tensorflow:loss = 0.09730706, step = 2301 (0.400 sec)\n",
      "INFO:tensorflow:global_step/sec: 310.953\n",
      "INFO:tensorflow:loss = 0.01792313, step = 2401 (0.322 sec)\n",
      "INFO:tensorflow:global_step/sec: 222.872\n",
      "INFO:tensorflow:loss = 0.03395656, step = 2501 (0.449 sec)\n",
      "INFO:tensorflow:global_step/sec: 303.878\n",
      "INFO:tensorflow:loss = 0.04234302, step = 2601 (0.330 sec)\n",
      "INFO:tensorflow:global_step/sec: 270.511\n",
      "INFO:tensorflow:loss = 0.025595404, step = 2701 (0.369 sec)\n",
      "INFO:tensorflow:global_step/sec: 237.268\n",
      "INFO:tensorflow:loss = 0.011018548, step = 2801 (0.422 sec)\n",
      "INFO:tensorflow:global_step/sec: 317.356\n",
      "INFO:tensorflow:loss = 0.05696302, step = 2901 (0.315 sec)\n",
      "INFO:tensorflow:global_step/sec: 265.344\n",
      "INFO:tensorflow:loss = 0.042989913, step = 3001 (0.377 sec)\n",
      "INFO:tensorflow:global_step/sec: 292.269\n",
      "INFO:tensorflow:loss = 0.00977968, step = 3101 (0.345 sec)\n",
      "INFO:tensorflow:global_step/sec: 257.53\n",
      "INFO:tensorflow:loss = 0.014833254, step = 3201 (0.385 sec)\n",
      "INFO:tensorflow:global_step/sec: 315.053\n",
      "INFO:tensorflow:loss = 0.21696112, step = 3301 (0.318 sec)\n",
      "INFO:tensorflow:global_step/sec: 217.885\n",
      "INFO:tensorflow:loss = 0.0051748822, step = 3401 (0.464 sec)\n",
      "INFO:tensorflow:global_step/sec: 212.511\n",
      "INFO:tensorflow:loss = 0.031688556, step = 3501 (0.465 sec)\n",
      "INFO:tensorflow:global_step/sec: 296.433\n",
      "INFO:tensorflow:loss = 0.019028874, step = 3601 (0.337 sec)\n",
      "INFO:tensorflow:global_step/sec: 255.38\n",
      "INFO:tensorflow:loss = 0.10223454, step = 3701 (0.398 sec)\n",
      "INFO:tensorflow:global_step/sec: 234.164\n",
      "INFO:tensorflow:loss = 0.027154218, step = 3801 (0.422 sec)\n",
      "INFO:tensorflow:global_step/sec: 250.921\n",
      "INFO:tensorflow:loss = 0.012891237, step = 3901 (0.398 sec)\n",
      "INFO:tensorflow:global_step/sec: 239.9\n",
      "INFO:tensorflow:loss = 0.0026997225, step = 4001 (0.416 sec)\n",
      "INFO:tensorflow:global_step/sec: 250.258\n",
      "INFO:tensorflow:loss = 0.09527117, step = 4101 (0.400 sec)\n",
      "INFO:tensorflow:global_step/sec: 248.277\n",
      "INFO:tensorflow:loss = 0.08513876, step = 4201 (0.403 sec)\n",
      "INFO:tensorflow:global_step/sec: 295.358\n",
      "INFO:tensorflow:loss = 0.012605999, step = 4301 (0.338 sec)\n",
      "INFO:tensorflow:global_step/sec: 215.749\n",
      "INFO:tensorflow:loss = 0.20920122, step = 4401 (0.465 sec)\n",
      "INFO:tensorflow:global_step/sec: 201.72\n",
      "INFO:tensorflow:loss = 0.012122886, step = 4501 (0.495 sec)\n",
      "INFO:tensorflow:global_step/sec: 277.826\n",
      "INFO:tensorflow:loss = 0.08486718, step = 4601 (0.363 sec)\n",
      "INFO:tensorflow:global_step/sec: 249.709\n",
      "INFO:tensorflow:loss = 0.013790883, step = 4701 (0.398 sec)\n",
      "INFO:tensorflow:global_step/sec: 253.756\n",
      "INFO:tensorflow:loss = 0.051840644, step = 4801 (0.394 sec)\n",
      "INFO:tensorflow:global_step/sec: 291.996\n",
      "INFO:tensorflow:loss = 0.015999634, step = 4901 (0.343 sec)\n",
      "INFO:tensorflow:global_step/sec: 214.307\n",
      "INFO:tensorflow:loss = 0.026380919, step = 5001 (0.470 sec)\n",
      "INFO:tensorflow:global_step/sec: 269.906\n",
      "INFO:tensorflow:loss = 0.024363797, step = 5101 (0.365 sec)\n",
      "INFO:tensorflow:global_step/sec: 228.086\n",
      "INFO:tensorflow:loss = 0.009651475, step = 5201 (0.439 sec)\n",
      "INFO:tensorflow:global_step/sec: 191.311\n",
      "INFO:tensorflow:loss = 0.017434768, step = 5301 (0.526 sec)\n",
      "INFO:tensorflow:global_step/sec: 290.857\n",
      "INFO:tensorflow:loss = 0.005369144, step = 5401 (0.341 sec)\n",
      "INFO:tensorflow:global_step/sec: 193.895\n",
      "INFO:tensorflow:loss = 0.003921098, step = 5501 (0.517 sec)\n",
      "INFO:tensorflow:global_step/sec: 287.372\n",
      "INFO:tensorflow:loss = 0.05587997, step = 5601 (0.345 sec)\n",
      "INFO:tensorflow:global_step/sec: 300.69\n",
      "INFO:tensorflow:loss = 0.0026523108, step = 5701 (0.333 sec)\n",
      "INFO:tensorflow:global_step/sec: 259.478\n",
      "INFO:tensorflow:loss = 0.020040385, step = 5801 (0.385 sec)\n",
      "INFO:tensorflow:global_step/sec: 329.283\n",
      "INFO:tensorflow:loss = 0.010301517, step = 5901 (0.304 sec)\n",
      "INFO:tensorflow:global_step/sec: 268.732\n",
      "INFO:tensorflow:loss = 0.0070635, step = 6001 (0.373 sec)\n",
      "INFO:tensorflow:global_step/sec: 225.663\n",
      "INFO:tensorflow:loss = 0.007139057, step = 6101 (0.442 sec)\n",
      "INFO:tensorflow:global_step/sec: 227.967\n",
      "INFO:tensorflow:loss = 0.0020409608, step = 6201 (0.439 sec)\n",
      "INFO:tensorflow:global_step/sec: 273.375\n",
      "INFO:tensorflow:loss = 0.000950913, step = 6301 (0.366 sec)\n",
      "INFO:tensorflow:global_step/sec: 256.721\n"
     ]
    },
    {
     "name": "stdout",
     "output_type": "stream",
     "text": [
      "INFO:tensorflow:loss = 0.013883881, step = 6401 (0.389 sec)\n",
      "INFO:tensorflow:global_step/sec: 311.084\n",
      "INFO:tensorflow:loss = 0.012376972, step = 6501 (0.321 sec)\n",
      "INFO:tensorflow:global_step/sec: 205.733\n",
      "INFO:tensorflow:loss = 0.004154206, step = 6601 (0.487 sec)\n",
      "INFO:tensorflow:global_step/sec: 280.958\n",
      "INFO:tensorflow:loss = 0.0018824735, step = 6701 (0.355 sec)\n",
      "INFO:tensorflow:global_step/sec: 308.38\n",
      "INFO:tensorflow:loss = 0.013723675, step = 6801 (0.324 sec)\n",
      "INFO:tensorflow:global_step/sec: 204.663\n",
      "INFO:tensorflow:loss = 0.0030131317, step = 6901 (0.490 sec)\n",
      "INFO:tensorflow:global_step/sec: 254.229\n",
      "INFO:tensorflow:loss = 0.005573794, step = 7001 (0.392 sec)\n",
      "INFO:tensorflow:global_step/sec: 258.023\n",
      "INFO:tensorflow:loss = 0.007870999, step = 7101 (0.390 sec)\n",
      "INFO:tensorflow:global_step/sec: 203.948\n",
      "INFO:tensorflow:loss = 0.0040525757, step = 7201 (0.488 sec)\n",
      "INFO:tensorflow:global_step/sec: 280.896\n",
      "INFO:tensorflow:loss = 0.00194965, step = 7301 (0.357 sec)\n",
      "INFO:tensorflow:global_step/sec: 276.93\n",
      "INFO:tensorflow:loss = 0.0026824952, step = 7401 (0.361 sec)\n",
      "INFO:tensorflow:global_step/sec: 234.898\n",
      "INFO:tensorflow:loss = 0.0042444533, step = 7501 (0.426 sec)\n",
      "INFO:tensorflow:global_step/sec: 225.009\n",
      "INFO:tensorflow:loss = 0.004831193, step = 7601 (0.443 sec)\n",
      "INFO:tensorflow:global_step/sec: 326.803\n",
      "INFO:tensorflow:loss = 0.0121415, step = 7701 (0.306 sec)\n",
      "INFO:tensorflow:global_step/sec: 207.613\n",
      "INFO:tensorflow:loss = 0.0021283077, step = 7801 (0.484 sec)\n",
      "INFO:tensorflow:global_step/sec: 286.375\n",
      "INFO:tensorflow:loss = 0.00029896747, step = 7901 (0.347 sec)\n",
      "INFO:tensorflow:global_step/sec: 306.676\n",
      "INFO:tensorflow:loss = 0.0025973576, step = 8001 (0.327 sec)\n",
      "INFO:tensorflow:global_step/sec: 226.935\n",
      "INFO:tensorflow:loss = 0.0068476857, step = 8101 (0.444 sec)\n",
      "INFO:tensorflow:global_step/sec: 276.094\n",
      "INFO:tensorflow:loss = 0.00075353874, step = 8201 (0.359 sec)\n",
      "INFO:tensorflow:global_step/sec: 253.554\n",
      "INFO:tensorflow:loss = 0.018967323, step = 8301 (0.395 sec)\n",
      "INFO:tensorflow:global_step/sec: 198.514\n",
      "INFO:tensorflow:loss = 0.0008655194, step = 8401 (0.502 sec)\n",
      "INFO:tensorflow:global_step/sec: 316.15\n",
      "INFO:tensorflow:loss = 0.013840773, step = 8501 (0.316 sec)\n",
      "INFO:tensorflow:global_step/sec: 289.596\n",
      "INFO:tensorflow:loss = 0.0012808116, step = 8601 (0.346 sec)\n",
      "INFO:tensorflow:global_step/sec: 316.893\n",
      "INFO:tensorflow:loss = 0.0022720585, step = 8701 (0.316 sec)\n",
      "INFO:tensorflow:global_step/sec: 193.514\n",
      "INFO:tensorflow:loss = 0.00028436247, step = 8801 (0.516 sec)\n",
      "INFO:tensorflow:global_step/sec: 268.806\n",
      "INFO:tensorflow:loss = 0.00382959, step = 8901 (0.371 sec)\n",
      "INFO:tensorflow:global_step/sec: 240.998\n",
      "INFO:tensorflow:loss = 0.0075985966, step = 9001 (0.416 sec)\n",
      "INFO:tensorflow:global_step/sec: 203.61\n",
      "INFO:tensorflow:loss = 0.0006458028, step = 9101 (0.490 sec)\n",
      "INFO:tensorflow:global_step/sec: 308.064\n",
      "INFO:tensorflow:loss = 0.0011774705, step = 9201 (0.324 sec)\n",
      "INFO:tensorflow:global_step/sec: 279.81\n",
      "INFO:tensorflow:loss = 0.0019260147, step = 9301 (0.359 sec)\n",
      "INFO:tensorflow:global_step/sec: 304.422\n",
      "INFO:tensorflow:loss = 0.0015577195, step = 9401 (0.327 sec)\n",
      "INFO:tensorflow:global_step/sec: 214.782\n",
      "INFO:tensorflow:loss = 0.0007054636, step = 9501 (0.467 sec)\n",
      "INFO:tensorflow:global_step/sec: 250.306\n",
      "INFO:tensorflow:loss = 0.0012421487, step = 9601 (0.398 sec)\n",
      "INFO:tensorflow:global_step/sec: 290.734\n",
      "INFO:tensorflow:loss = 0.0014118173, step = 9701 (0.345 sec)\n",
      "INFO:tensorflow:global_step/sec: 198.623\n",
      "INFO:tensorflow:loss = 0.0025317222, step = 9801 (0.505 sec)\n",
      "INFO:tensorflow:global_step/sec: 247.934\n",
      "INFO:tensorflow:loss = 0.0018777767, step = 9901 (0.401 sec)\n",
      "INFO:tensorflow:global_step/sec: 293.71\n",
      "INFO:tensorflow:loss = 0.006355847, step = 10001 (0.342 sec)\n",
      "INFO:tensorflow:global_step/sec: 318.035\n",
      "INFO:tensorflow:loss = 0.0012189155, step = 10101 (0.313 sec)\n",
      "INFO:tensorflow:global_step/sec: 294.42\n",
      "INFO:tensorflow:loss = 0.008143375, step = 10201 (0.340 sec)\n",
      "INFO:tensorflow:global_step/sec: 304.808\n",
      "INFO:tensorflow:loss = 0.0008641812, step = 10301 (0.328 sec)\n",
      "INFO:tensorflow:global_step/sec: 204.675\n",
      "INFO:tensorflow:loss = 0.0025502536, step = 10401 (0.490 sec)\n",
      "INFO:tensorflow:global_step/sec: 278.45\n",
      "INFO:tensorflow:loss = 0.0009977238, step = 10501 (0.357 sec)\n",
      "INFO:tensorflow:global_step/sec: 246.928\n",
      "INFO:tensorflow:loss = 0.00083775877, step = 10601 (0.409 sec)\n",
      "INFO:tensorflow:global_step/sec: 231.15\n",
      "INFO:tensorflow:loss = 0.0015391574, step = 10701 (0.429 sec)\n",
      "INFO:tensorflow:global_step/sec: 294.826\n",
      "INFO:tensorflow:loss = 0.0027360232, step = 10801 (0.338 sec)\n",
      "INFO:tensorflow:global_step/sec: 285.684\n",
      "INFO:tensorflow:loss = 0.010536976, step = 10901 (0.352 sec)\n",
      "INFO:tensorflow:global_step/sec: 219.414\n",
      "INFO:tensorflow:loss = 0.0009877656, step = 11001 (0.455 sec)\n",
      "INFO:tensorflow:global_step/sec: 274.637\n",
      "INFO:tensorflow:loss = 0.0029143828, step = 11101 (0.363 sec)\n",
      "INFO:tensorflow:global_step/sec: 306.192\n",
      "INFO:tensorflow:loss = 0.0012532121, step = 11201 (0.327 sec)\n",
      "INFO:tensorflow:global_step/sec: 159.463\n",
      "INFO:tensorflow:loss = 0.0007545709, step = 11301 (0.627 sec)\n",
      "INFO:tensorflow:global_step/sec: 250.622\n",
      "INFO:tensorflow:loss = 0.00040253982, step = 11401 (0.398 sec)\n",
      "INFO:tensorflow:global_step/sec: 314.316\n",
      "INFO:tensorflow:loss = 0.0050917715, step = 11501 (0.318 sec)\n",
      "INFO:tensorflow:global_step/sec: 226.317\n",
      "INFO:tensorflow:loss = 0.0037114888, step = 11601 (0.447 sec)\n",
      "INFO:tensorflow:global_step/sec: 245.76\n",
      "INFO:tensorflow:loss = 0.0042185467, step = 11701 (0.403 sec)\n",
      "INFO:tensorflow:global_step/sec: 322.524\n",
      "INFO:tensorflow:loss = 0.0023575432, step = 11801 (0.310 sec)\n",
      "INFO:tensorflow:global_step/sec: 269.16\n",
      "INFO:tensorflow:loss = 0.0006224166, step = 11901 (0.377 sec)\n",
      "INFO:tensorflow:global_step/sec: 225.097\n",
      "INFO:tensorflow:loss = 0.0007390788, step = 12001 (0.444 sec)\n",
      "INFO:tensorflow:global_step/sec: 269.507\n",
      "INFO:tensorflow:loss = 0.0019058603, step = 12101 (0.366 sec)\n",
      "INFO:tensorflow:global_step/sec: 295.575\n",
      "INFO:tensorflow:loss = 0.00056230166, step = 12201 (0.339 sec)\n",
      "INFO:tensorflow:global_step/sec: 274.489\n",
      "INFO:tensorflow:loss = 0.0013133438, step = 12301 (0.364 sec)\n",
      "INFO:tensorflow:global_step/sec: 326.392\n",
      "INFO:tensorflow:loss = 0.0032878031, step = 12401 (0.306 sec)\n",
      "INFO:tensorflow:global_step/sec: 264.77\n",
      "INFO:tensorflow:loss = 0.0017728506, step = 12501 (0.378 sec)\n",
      "INFO:tensorflow:global_step/sec: 277.662\n",
      "INFO:tensorflow:loss = 0.0032258749, step = 12601 (0.360 sec)\n",
      "INFO:tensorflow:global_step/sec: 308.385\n",
      "INFO:tensorflow:loss = 0.00043951656, step = 12701 (0.325 sec)\n",
      "INFO:tensorflow:global_step/sec: 272.76\n",
      "INFO:tensorflow:loss = 0.0025866993, step = 12801 (0.366 sec)\n",
      "INFO:tensorflow:global_step/sec: 357.048\n",
      "INFO:tensorflow:loss = 0.0003902754, step = 12901 (0.280 sec)\n",
      "INFO:tensorflow:global_step/sec: 358.807\n",
      "INFO:tensorflow:loss = 0.0015007562, step = 13001 (0.279 sec)\n",
      "INFO:tensorflow:global_step/sec: 285.338\n",
      "INFO:tensorflow:loss = 0.0013210124, step = 13101 (0.350 sec)\n",
      "INFO:tensorflow:global_step/sec: 329.066\n",
      "INFO:tensorflow:loss = 0.00046515584, step = 13201 (0.304 sec)\n",
      "INFO:tensorflow:global_step/sec: 329.565\n",
      "INFO:tensorflow:loss = 0.00040436242, step = 13301 (0.303 sec)\n",
      "INFO:tensorflow:global_step/sec: 287.122\n",
      "INFO:tensorflow:loss = 0.0015610215, step = 13401 (0.348 sec)\n",
      "INFO:tensorflow:global_step/sec: 330.326\n",
      "INFO:tensorflow:loss = 7.629749e-05, step = 13501 (0.303 sec)\n",
      "INFO:tensorflow:global_step/sec: 220.12\n",
      "INFO:tensorflow:loss = 0.0004243377, step = 13601 (0.455 sec)\n",
      "INFO:tensorflow:global_step/sec: 190.795\n",
      "INFO:tensorflow:loss = 0.0004420751, step = 13701 (0.524 sec)\n",
      "INFO:tensorflow:global_step/sec: 313.835\n",
      "INFO:tensorflow:loss = 0.008014621, step = 13801 (0.318 sec)\n",
      "INFO:tensorflow:global_step/sec: 178.093\n",
      "INFO:tensorflow:loss = 0.0003837927, step = 13901 (0.569 sec)\n",
      "INFO:tensorflow:global_step/sec: 183.292\n",
      "INFO:tensorflow:loss = 0.00047466395, step = 14001 (0.540 sec)\n",
      "INFO:tensorflow:global_step/sec: 275.531\n",
      "INFO:tensorflow:loss = 0.0014227111, step = 14101 (0.364 sec)\n",
      "INFO:tensorflow:global_step/sec: 174.448\n",
      "INFO:tensorflow:loss = 0.0010298949, step = 14201 (0.572 sec)\n",
      "INFO:tensorflow:global_step/sec: 182.927\n",
      "INFO:tensorflow:loss = 0.0017919509, step = 14301 (0.547 sec)\n",
      "INFO:tensorflow:global_step/sec: 171.894\n",
      "INFO:tensorflow:loss = 0.0029302966, step = 14401 (0.592 sec)\n"
     ]
    },
    {
     "name": "stdout",
     "output_type": "stream",
     "text": [
      "INFO:tensorflow:global_step/sec: 259.106\n",
      "INFO:tensorflow:loss = 0.00032340354, step = 14501 (0.375 sec)\n",
      "INFO:tensorflow:global_step/sec: 296.781\n",
      "INFO:tensorflow:loss = 0.00077870657, step = 14601 (0.336 sec)\n",
      "INFO:tensorflow:global_step/sec: 265.341\n",
      "INFO:tensorflow:loss = 0.0010776577, step = 14701 (0.377 sec)\n",
      "INFO:tensorflow:global_step/sec: 333.465\n",
      "INFO:tensorflow:loss = 0.0010188638, step = 14801 (0.299 sec)\n",
      "INFO:tensorflow:global_step/sec: 330.744\n",
      "INFO:tensorflow:loss = 0.0013024105, step = 14901 (0.303 sec)\n",
      "INFO:tensorflow:global_step/sec: 352.312\n",
      "INFO:tensorflow:loss = 0.001451073, step = 15001 (0.284 sec)\n",
      "INFO:tensorflow:global_step/sec: 309.489\n",
      "INFO:tensorflow:loss = 0.0011227685, step = 15101 (0.323 sec)\n",
      "INFO:tensorflow:global_step/sec: 341.829\n",
      "INFO:tensorflow:loss = 0.0015821578, step = 15201 (0.293 sec)\n",
      "INFO:tensorflow:global_step/sec: 300.219\n",
      "INFO:tensorflow:loss = 0.00059151306, step = 15301 (0.333 sec)\n",
      "INFO:tensorflow:global_step/sec: 305.953\n",
      "INFO:tensorflow:loss = 0.0006511172, step = 15401 (0.326 sec)\n",
      "INFO:tensorflow:global_step/sec: 353.891\n",
      "INFO:tensorflow:loss = 0.0038029714, step = 15501 (0.282 sec)\n",
      "INFO:tensorflow:global_step/sec: 332.424\n",
      "INFO:tensorflow:loss = 0.0018514617, step = 15601 (0.301 sec)\n",
      "INFO:tensorflow:global_step/sec: 334.392\n",
      "INFO:tensorflow:loss = 0.00033517517, step = 15701 (0.299 sec)\n",
      "INFO:tensorflow:global_step/sec: 329.791\n",
      "INFO:tensorflow:loss = 0.00031806587, step = 15801 (0.303 sec)\n",
      "INFO:tensorflow:global_step/sec: 355.453\n",
      "INFO:tensorflow:loss = 0.0002539374, step = 15901 (0.281 sec)\n",
      "INFO:tensorflow:global_step/sec: 320.699\n",
      "INFO:tensorflow:loss = 0.00046001188, step = 16001 (0.312 sec)\n",
      "INFO:tensorflow:global_step/sec: 312.484\n",
      "INFO:tensorflow:loss = 0.00024315837, step = 16101 (0.320 sec)\n",
      "INFO:tensorflow:global_step/sec: 330.636\n",
      "INFO:tensorflow:loss = 0.0019952985, step = 16201 (0.302 sec)\n",
      "INFO:tensorflow:global_step/sec: 338.279\n",
      "INFO:tensorflow:loss = 0.00088735163, step = 16301 (0.296 sec)\n",
      "INFO:tensorflow:global_step/sec: 327.308\n",
      "INFO:tensorflow:loss = 0.00046865185, step = 16401 (0.306 sec)\n",
      "INFO:tensorflow:global_step/sec: 335.515\n",
      "INFO:tensorflow:loss = 0.0009818118, step = 16501 (0.298 sec)\n",
      "INFO:tensorflow:global_step/sec: 314.155\n",
      "INFO:tensorflow:loss = 0.082937114, step = 16601 (0.318 sec)\n",
      "INFO:tensorflow:global_step/sec: 314.246\n",
      "INFO:tensorflow:loss = 0.0015494046, step = 16701 (0.318 sec)\n",
      "INFO:tensorflow:global_step/sec: 341.593\n",
      "INFO:tensorflow:loss = 0.00036073214, step = 16801 (0.293 sec)\n",
      "INFO:tensorflow:global_step/sec: 324.585\n",
      "INFO:tensorflow:loss = 0.00044629403, step = 16901 (0.308 sec)\n",
      "INFO:tensorflow:global_step/sec: 327.07\n",
      "INFO:tensorflow:loss = 0.00027784935, step = 17001 (0.306 sec)\n",
      "INFO:tensorflow:global_step/sec: 336.382\n",
      "INFO:tensorflow:loss = 0.00086490775, step = 17101 (0.297 sec)\n",
      "INFO:tensorflow:global_step/sec: 332.726\n",
      "INFO:tensorflow:loss = 0.0023357077, step = 17201 (0.301 sec)\n",
      "INFO:tensorflow:global_step/sec: 343.51\n",
      "INFO:tensorflow:loss = 0.0013078474, step = 17301 (0.291 sec)\n",
      "INFO:tensorflow:global_step/sec: 315.393\n",
      "INFO:tensorflow:loss = 0.00031669036, step = 17401 (0.317 sec)\n",
      "INFO:tensorflow:global_step/sec: 334.551\n",
      "INFO:tensorflow:loss = 0.0023095503, step = 17501 (0.299 sec)\n",
      "INFO:tensorflow:global_step/sec: 344.209\n",
      "INFO:tensorflow:loss = 0.000547388, step = 17601 (0.291 sec)\n",
      "INFO:tensorflow:global_step/sec: 307.011\n",
      "INFO:tensorflow:loss = 0.00021045706, step = 17701 (0.326 sec)\n",
      "INFO:tensorflow:global_step/sec: 348.91\n",
      "INFO:tensorflow:loss = 0.0010534616, step = 17801 (0.286 sec)\n",
      "INFO:tensorflow:global_step/sec: 327.998\n",
      "INFO:tensorflow:loss = 0.003281925, step = 17901 (0.305 sec)\n",
      "INFO:tensorflow:global_step/sec: 338.421\n",
      "INFO:tensorflow:loss = 0.00044313355, step = 18001 (0.300 sec)\n",
      "INFO:tensorflow:global_step/sec: 313.391\n",
      "INFO:tensorflow:loss = 0.0025722457, step = 18101 (0.315 sec)\n",
      "INFO:tensorflow:global_step/sec: 327.896\n",
      "INFO:tensorflow:loss = 0.000397382, step = 18201 (0.304 sec)\n",
      "INFO:tensorflow:global_step/sec: 343.533\n",
      "INFO:tensorflow:loss = 0.0003272016, step = 18301 (0.291 sec)\n",
      "INFO:tensorflow:global_step/sec: 318.41\n",
      "INFO:tensorflow:loss = 0.0009837308, step = 18401 (0.314 sec)\n",
      "INFO:tensorflow:global_step/sec: 334.003\n",
      "INFO:tensorflow:loss = 0.00047703623, step = 18501 (0.299 sec)\n",
      "INFO:tensorflow:global_step/sec: 331.975\n",
      "INFO:tensorflow:loss = 9.655024e-05, step = 18601 (0.302 sec)\n",
      "INFO:tensorflow:global_step/sec: 315.158\n",
      "INFO:tensorflow:loss = 0.0011804218, step = 18701 (0.316 sec)\n",
      "INFO:tensorflow:global_step/sec: 355.014\n",
      "INFO:tensorflow:loss = 0.0003534606, step = 18801 (0.282 sec)\n",
      "INFO:tensorflow:global_step/sec: 339.182\n",
      "INFO:tensorflow:loss = 0.00027782982, step = 18901 (0.295 sec)\n",
      "INFO:tensorflow:global_step/sec: 347.974\n",
      "INFO:tensorflow:loss = 0.0044601983, step = 19001 (0.287 sec)\n",
      "INFO:tensorflow:global_step/sec: 315.946\n",
      "INFO:tensorflow:loss = 0.00032031478, step = 19101 (0.316 sec)\n",
      "INFO:tensorflow:global_step/sec: 342.967\n",
      "INFO:tensorflow:loss = 0.00052548596, step = 19201 (0.292 sec)\n",
      "INFO:tensorflow:global_step/sec: 333.219\n",
      "INFO:tensorflow:loss = 0.0004204887, step = 19301 (0.301 sec)\n",
      "INFO:tensorflow:global_step/sec: 327.052\n",
      "INFO:tensorflow:loss = 0.00010262512, step = 19401 (0.305 sec)\n",
      "INFO:tensorflow:global_step/sec: 322.585\n",
      "INFO:tensorflow:loss = 0.00080563175, step = 19501 (0.310 sec)\n",
      "INFO:tensorflow:global_step/sec: 347.494\n",
      "INFO:tensorflow:loss = 0.00038665245, step = 19601 (0.288 sec)\n",
      "INFO:tensorflow:global_step/sec: 329.775\n",
      "INFO:tensorflow:loss = 0.0011226727, step = 19701 (0.303 sec)\n",
      "INFO:tensorflow:global_step/sec: 327.6\n",
      "INFO:tensorflow:loss = 0.00014187171, step = 19801 (0.305 sec)\n",
      "INFO:tensorflow:global_step/sec: 177.644\n",
      "INFO:tensorflow:loss = 0.00030615265, step = 19901 (0.564 sec)\n",
      "INFO:tensorflow:global_step/sec: 313.895\n",
      "INFO:tensorflow:loss = 0.00055752345, step = 20001 (0.317 sec)\n",
      "INFO:tensorflow:global_step/sec: 244.336\n",
      "INFO:tensorflow:loss = 0.00121029, step = 20101 (0.414 sec)\n",
      "INFO:tensorflow:global_step/sec: 228.228\n",
      "INFO:tensorflow:loss = 0.0011162368, step = 20201 (0.433 sec)\n",
      "INFO:tensorflow:global_step/sec: 296.323\n",
      "INFO:tensorflow:loss = 0.00033315693, step = 20301 (0.338 sec)\n",
      "INFO:tensorflow:global_step/sec: 221.664\n",
      "INFO:tensorflow:loss = 0.0013865774, step = 20401 (0.451 sec)\n",
      "INFO:tensorflow:global_step/sec: 298.362\n",
      "INFO:tensorflow:loss = 0.0025288966, step = 20501 (0.335 sec)\n",
      "INFO:tensorflow:global_step/sec: 266.331\n",
      "INFO:tensorflow:loss = 0.0019253981, step = 20601 (0.376 sec)\n",
      "INFO:tensorflow:global_step/sec: 287.467\n",
      "INFO:tensorflow:loss = 0.00090055703, step = 20701 (0.356 sec)\n",
      "INFO:tensorflow:global_step/sec: 305.94\n",
      "INFO:tensorflow:loss = 0.00086556666, step = 20801 (0.318 sec)\n",
      "INFO:tensorflow:global_step/sec: 314.827\n",
      "INFO:tensorflow:loss = 0.000300738, step = 20901 (0.318 sec)\n",
      "INFO:tensorflow:global_step/sec: 262.376\n",
      "INFO:tensorflow:loss = 6.183395e-05, step = 21001 (0.381 sec)\n",
      "INFO:tensorflow:global_step/sec: 335.016\n",
      "INFO:tensorflow:loss = 0.0008037507, step = 21101 (0.300 sec)\n",
      "INFO:tensorflow:global_step/sec: 330.17\n",
      "INFO:tensorflow:loss = 0.00016338819, step = 21201 (0.301 sec)\n",
      "INFO:tensorflow:global_step/sec: 320.336\n",
      "INFO:tensorflow:loss = 0.00020670437, step = 21301 (0.313 sec)\n",
      "INFO:tensorflow:global_step/sec: 311.181\n",
      "INFO:tensorflow:loss = 0.00023416811, step = 21401 (0.321 sec)\n",
      "INFO:tensorflow:global_step/sec: 328.131\n",
      "INFO:tensorflow:loss = 0.0002102145, step = 21501 (0.306 sec)\n",
      "INFO:tensorflow:global_step/sec: 285.12\n",
      "INFO:tensorflow:loss = 0.001871365, step = 21601 (0.350 sec)\n",
      "INFO:tensorflow:global_step/sec: 338.741\n",
      "INFO:tensorflow:loss = 0.0031332236, step = 21701 (0.295 sec)\n",
      "INFO:tensorflow:global_step/sec: 320.29\n",
      "INFO:tensorflow:loss = 0.0009986424, step = 21801 (0.312 sec)\n",
      "INFO:tensorflow:global_step/sec: 255.957\n",
      "INFO:tensorflow:loss = 0.0003962956, step = 21901 (0.391 sec)\n",
      "INFO:tensorflow:global_step/sec: 229.268\n",
      "INFO:tensorflow:loss = 0.0006527763, step = 22001 (0.436 sec)\n",
      "INFO:tensorflow:global_step/sec: 297.21\n",
      "INFO:tensorflow:loss = 0.00019811348, step = 22101 (0.351 sec)\n",
      "INFO:tensorflow:global_step/sec: 236.175\n",
      "INFO:tensorflow:loss = 0.0015566444, step = 22201 (0.409 sec)\n",
      "INFO:tensorflow:global_step/sec: 335.707\n",
      "INFO:tensorflow:loss = 0.0021793665, step = 22301 (0.297 sec)\n",
      "INFO:tensorflow:global_step/sec: 251.546\n",
      "INFO:tensorflow:loss = 0.0003985898, step = 22401 (0.400 sec)\n"
     ]
    },
    {
     "name": "stdout",
     "output_type": "stream",
     "text": [
      "INFO:tensorflow:global_step/sec: 284.209\n",
      "INFO:tensorflow:loss = 0.0012209859, step = 22501 (0.350 sec)\n",
      "INFO:tensorflow:global_step/sec: 323.527\n",
      "INFO:tensorflow:loss = 0.00017077108, step = 22601 (0.311 sec)\n",
      "INFO:tensorflow:global_step/sec: 264.668\n",
      "INFO:tensorflow:loss = 0.0013159009, step = 22701 (0.376 sec)\n",
      "INFO:tensorflow:global_step/sec: 240.323\n",
      "INFO:tensorflow:loss = 0.00058186427, step = 22801 (0.416 sec)\n",
      "INFO:tensorflow:global_step/sec: 324.864\n",
      "INFO:tensorflow:loss = 0.0003213007, step = 22901 (0.308 sec)\n",
      "INFO:tensorflow:global_step/sec: 299.663\n",
      "INFO:tensorflow:loss = 0.0005860581, step = 23001 (0.334 sec)\n",
      "INFO:tensorflow:global_step/sec: 267.017\n",
      "INFO:tensorflow:loss = 0.00051880727, step = 23101 (0.374 sec)\n",
      "INFO:tensorflow:global_step/sec: 373.093\n",
      "INFO:tensorflow:loss = 0.00011293068, step = 23201 (0.268 sec)\n",
      "INFO:tensorflow:global_step/sec: 348.882\n",
      "INFO:tensorflow:loss = 0.0003078074, step = 23301 (0.287 sec)\n",
      "INFO:tensorflow:global_step/sec: 334.31\n",
      "INFO:tensorflow:loss = 0.00023215353, step = 23401 (0.299 sec)\n",
      "INFO:tensorflow:global_step/sec: 346.533\n",
      "INFO:tensorflow:loss = 0.0006589623, step = 23501 (0.289 sec)\n",
      "INFO:tensorflow:global_step/sec: 259.194\n",
      "INFO:tensorflow:loss = 0.0007662171, step = 23601 (0.392 sec)\n",
      "INFO:tensorflow:global_step/sec: 294.357\n",
      "INFO:tensorflow:loss = 0.00046231083, step = 23701 (0.334 sec)\n",
      "INFO:tensorflow:global_step/sec: 347.46\n",
      "INFO:tensorflow:loss = 0.0008279167, step = 23801 (0.288 sec)\n",
      "INFO:tensorflow:global_step/sec: 211.324\n",
      "INFO:tensorflow:loss = 0.001149847, step = 23901 (0.474 sec)\n",
      "INFO:tensorflow:global_step/sec: 306.787\n",
      "INFO:tensorflow:loss = 0.0005044713, step = 24001 (0.326 sec)\n",
      "INFO:tensorflow:global_step/sec: 282.247\n",
      "INFO:tensorflow:loss = 0.0008238149, step = 24101 (0.354 sec)\n",
      "INFO:tensorflow:global_step/sec: 292.057\n",
      "INFO:tensorflow:loss = 0.0011699428, step = 24201 (0.342 sec)\n",
      "INFO:tensorflow:global_step/sec: 273.899\n",
      "INFO:tensorflow:loss = 0.00011929903, step = 24301 (0.365 sec)\n",
      "INFO:tensorflow:global_step/sec: 329.96\n",
      "INFO:tensorflow:loss = 3.689581e-05, step = 24401 (0.304 sec)\n",
      "INFO:tensorflow:global_step/sec: 303.033\n",
      "INFO:tensorflow:loss = 0.0010146947, step = 24501 (0.330 sec)\n",
      "INFO:tensorflow:global_step/sec: 327.122\n",
      "INFO:tensorflow:loss = 0.00092110364, step = 24601 (0.305 sec)\n",
      "INFO:tensorflow:global_step/sec: 341.218\n",
      "INFO:tensorflow:loss = 0.00054486305, step = 24701 (0.293 sec)\n",
      "INFO:tensorflow:global_step/sec: 269.981\n",
      "INFO:tensorflow:loss = 0.00039790588, step = 24801 (0.371 sec)\n",
      "INFO:tensorflow:global_step/sec: 297.794\n",
      "INFO:tensorflow:loss = 0.00183339, step = 24901 (0.336 sec)\n",
      "INFO:tensorflow:global_step/sec: 303.558\n",
      "INFO:tensorflow:loss = 0.00037577815, step = 25001 (0.329 sec)\n",
      "INFO:tensorflow:global_step/sec: 330.2\n",
      "INFO:tensorflow:loss = 0.0009516034, step = 25101 (0.303 sec)\n",
      "INFO:tensorflow:global_step/sec: 296.655\n",
      "INFO:tensorflow:loss = 0.0004070512, step = 25201 (0.337 sec)\n",
      "INFO:tensorflow:global_step/sec: 317.97\n",
      "INFO:tensorflow:loss = 0.00015959305, step = 25301 (0.314 sec)\n",
      "INFO:tensorflow:global_step/sec: 256.368\n",
      "INFO:tensorflow:loss = 0.0002502097, step = 25401 (0.393 sec)\n",
      "INFO:tensorflow:global_step/sec: 242.439\n",
      "INFO:tensorflow:loss = 0.00048610836, step = 25501 (0.411 sec)\n",
      "INFO:tensorflow:global_step/sec: 305.226\n",
      "INFO:tensorflow:loss = 0.0003606157, step = 25601 (0.326 sec)\n",
      "INFO:tensorflow:global_step/sec: 286.272\n",
      "INFO:tensorflow:loss = 0.00011330884, step = 25701 (0.349 sec)\n",
      "INFO:tensorflow:global_step/sec: 316.774\n",
      "INFO:tensorflow:loss = 5.7696612e-05, step = 25801 (0.316 sec)\n",
      "INFO:tensorflow:global_step/sec: 363.133\n",
      "INFO:tensorflow:loss = 0.00024523813, step = 25901 (0.275 sec)\n",
      "INFO:tensorflow:global_step/sec: 272.315\n",
      "INFO:tensorflow:loss = 0.0004448387, step = 26001 (0.367 sec)\n",
      "INFO:tensorflow:global_step/sec: 228.282\n",
      "INFO:tensorflow:loss = 0.00046428363, step = 26101 (0.444 sec)\n",
      "INFO:tensorflow:global_step/sec: 209.238\n",
      "INFO:tensorflow:loss = 0.0005030937, step = 26201 (0.474 sec)\n",
      "INFO:tensorflow:global_step/sec: 224.822\n",
      "INFO:tensorflow:loss = 0.00068774214, step = 26301 (0.444 sec)\n",
      "INFO:tensorflow:global_step/sec: 277.99\n",
      "INFO:tensorflow:loss = 0.0007214052, step = 26401 (0.360 sec)\n",
      "INFO:tensorflow:global_step/sec: 212.679\n",
      "INFO:tensorflow:loss = 0.00035137168, step = 26501 (0.470 sec)\n",
      "INFO:tensorflow:global_step/sec: 347.438\n",
      "INFO:tensorflow:loss = 0.00051245425, step = 26601 (0.287 sec)\n",
      "INFO:tensorflow:global_step/sec: 290.516\n",
      "INFO:tensorflow:loss = 0.0008820955, step = 26701 (0.345 sec)\n",
      "INFO:tensorflow:global_step/sec: 324.159\n",
      "INFO:tensorflow:loss = 2.079694e-05, step = 26801 (0.308 sec)\n",
      "INFO:tensorflow:global_step/sec: 351.922\n",
      "INFO:tensorflow:loss = 0.0005067395, step = 26901 (0.284 sec)\n",
      "INFO:tensorflow:global_step/sec: 357.696\n",
      "INFO:tensorflow:loss = 0.00023549687, step = 27001 (0.280 sec)\n",
      "INFO:tensorflow:global_step/sec: 343.515\n",
      "INFO:tensorflow:loss = 0.00036055595, step = 27101 (0.291 sec)\n",
      "INFO:tensorflow:global_step/sec: 326.538\n",
      "INFO:tensorflow:loss = 0.0006062152, step = 27201 (0.306 sec)\n",
      "INFO:tensorflow:global_step/sec: 333.003\n",
      "INFO:tensorflow:loss = 0.00015043594, step = 27301 (0.301 sec)\n",
      "INFO:tensorflow:global_step/sec: 309.786\n",
      "INFO:tensorflow:loss = 0.0010781116, step = 27401 (0.323 sec)\n",
      "INFO:tensorflow:global_step/sec: 320.144\n",
      "INFO:tensorflow:loss = 0.0015291846, step = 27501 (0.312 sec)\n",
      "INFO:tensorflow:global_step/sec: 350.329\n",
      "INFO:tensorflow:loss = 0.0004348479, step = 27601 (0.285 sec)\n",
      "INFO:tensorflow:global_step/sec: 352.947\n",
      "INFO:tensorflow:loss = 0.00022227317, step = 27701 (0.283 sec)\n",
      "INFO:tensorflow:global_step/sec: 324.763\n",
      "INFO:tensorflow:loss = 9.570844e-05, step = 27801 (0.308 sec)\n",
      "INFO:tensorflow:global_step/sec: 338.605\n",
      "INFO:tensorflow:loss = 0.00053738954, step = 27901 (0.295 sec)\n",
      "INFO:tensorflow:global_step/sec: 351.754\n",
      "INFO:tensorflow:loss = 0.00032676198, step = 28001 (0.284 sec)\n",
      "INFO:tensorflow:global_step/sec: 345.927\n",
      "INFO:tensorflow:loss = 0.00049072533, step = 28101 (0.289 sec)\n",
      "INFO:tensorflow:global_step/sec: 334.312\n",
      "INFO:tensorflow:loss = 0.00042278838, step = 28201 (0.299 sec)\n",
      "INFO:tensorflow:global_step/sec: 348.459\n",
      "INFO:tensorflow:loss = 0.00069117075, step = 28301 (0.287 sec)\n",
      "INFO:tensorflow:global_step/sec: 353.176\n",
      "INFO:tensorflow:loss = 0.00012470057, step = 28401 (0.284 sec)\n",
      "INFO:tensorflow:global_step/sec: 334.613\n",
      "INFO:tensorflow:loss = 0.00017506811, step = 28501 (0.298 sec)\n",
      "INFO:tensorflow:global_step/sec: 317.752\n",
      "INFO:tensorflow:loss = 0.0004016154, step = 28601 (0.315 sec)\n",
      "INFO:tensorflow:global_step/sec: 349.188\n",
      "INFO:tensorflow:loss = 0.00078496145, step = 28701 (0.286 sec)\n",
      "INFO:tensorflow:global_step/sec: 333.417\n",
      "INFO:tensorflow:loss = 0.00028321732, step = 28801 (0.300 sec)\n",
      "INFO:tensorflow:global_step/sec: 338.666\n",
      "INFO:tensorflow:loss = 0.000113656606, step = 28901 (0.295 sec)\n",
      "INFO:tensorflow:global_step/sec: 342.434\n",
      "INFO:tensorflow:loss = 0.0010315895, step = 29001 (0.292 sec)\n",
      "INFO:tensorflow:global_step/sec: 333.433\n",
      "INFO:tensorflow:loss = 0.00017318856, step = 29101 (0.300 sec)\n",
      "INFO:tensorflow:global_step/sec: 310.616\n",
      "INFO:tensorflow:loss = 0.000313722, step = 29201 (0.322 sec)\n",
      "INFO:tensorflow:global_step/sec: 340.66\n",
      "INFO:tensorflow:loss = 0.000121567755, step = 29301 (0.294 sec)\n",
      "INFO:tensorflow:global_step/sec: 349.405\n",
      "INFO:tensorflow:loss = 0.0008915976, step = 29401 (0.286 sec)\n",
      "INFO:tensorflow:global_step/sec: 311.188\n",
      "INFO:tensorflow:loss = 0.00033916318, step = 29501 (0.321 sec)\n",
      "INFO:tensorflow:global_step/sec: 365.512\n",
      "INFO:tensorflow:loss = 0.0002430044, step = 29601 (0.274 sec)\n",
      "INFO:tensorflow:global_step/sec: 355.281\n",
      "INFO:tensorflow:loss = 0.00024855314, step = 29701 (0.281 sec)\n",
      "INFO:tensorflow:global_step/sec: 331.857\n",
      "INFO:tensorflow:loss = 0.0005856414, step = 29801 (0.301 sec)\n",
      "INFO:tensorflow:global_step/sec: 336.018\n",
      "INFO:tensorflow:loss = 0.0002869507, step = 29901 (0.298 sec)\n",
      "INFO:tensorflow:global_step/sec: 342.857\n",
      "INFO:tensorflow:loss = 0.00039355227, step = 30001 (0.291 sec)\n",
      "INFO:tensorflow:global_step/sec: 343.16\n",
      "INFO:tensorflow:loss = 0.0007011896, step = 30101 (0.292 sec)\n",
      "INFO:tensorflow:global_step/sec: 339.41\n",
      "INFO:tensorflow:loss = 0.00019684352, step = 30201 (0.294 sec)\n",
      "INFO:tensorflow:global_step/sec: 350.757\n",
      "INFO:tensorflow:loss = 0.00041645073, step = 30301 (0.285 sec)\n",
      "INFO:tensorflow:global_step/sec: 349.656\n"
     ]
    },
    {
     "name": "stdout",
     "output_type": "stream",
     "text": [
      "INFO:tensorflow:loss = 0.0009809837, step = 30401 (0.286 sec)\n",
      "INFO:tensorflow:global_step/sec: 334.132\n",
      "INFO:tensorflow:loss = 9.8190474e-05, step = 30501 (0.299 sec)\n",
      "INFO:tensorflow:global_step/sec: 340.986\n",
      "INFO:tensorflow:loss = 0.00047853545, step = 30601 (0.294 sec)\n",
      "INFO:tensorflow:global_step/sec: 336.44\n",
      "INFO:tensorflow:loss = 1.6243017e-05, step = 30701 (0.297 sec)\n",
      "INFO:tensorflow:global_step/sec: 345.383\n",
      "INFO:tensorflow:loss = 0.00014306436, step = 30801 (0.289 sec)\n",
      "INFO:tensorflow:global_step/sec: 329.585\n",
      "INFO:tensorflow:loss = 0.0012024274, step = 30901 (0.304 sec)\n",
      "INFO:tensorflow:global_step/sec: 350.943\n",
      "INFO:tensorflow:loss = 6.26635e-05, step = 31001 (0.285 sec)\n",
      "INFO:tensorflow:global_step/sec: 346.314\n",
      "INFO:tensorflow:loss = 0.00066147116, step = 31101 (0.289 sec)\n",
      "INFO:tensorflow:global_step/sec: 291.816\n",
      "INFO:tensorflow:loss = 0.0005957219, step = 31201 (0.343 sec)\n",
      "INFO:tensorflow:global_step/sec: 333.004\n",
      "INFO:tensorflow:loss = 0.00025933224, step = 31301 (0.300 sec)\n",
      "INFO:tensorflow:global_step/sec: 350.48\n",
      "INFO:tensorflow:loss = 0.00030313857, step = 31401 (0.285 sec)\n",
      "INFO:tensorflow:global_step/sec: 333.423\n",
      "INFO:tensorflow:loss = 0.00028295268, step = 31501 (0.300 sec)\n",
      "INFO:tensorflow:global_step/sec: 339.257\n",
      "INFO:tensorflow:loss = 0.00046692087, step = 31601 (0.294 sec)\n",
      "INFO:tensorflow:global_step/sec: 357.737\n",
      "INFO:tensorflow:loss = 0.0002573496, step = 31701 (0.280 sec)\n",
      "INFO:tensorflow:global_step/sec: 348.228\n",
      "INFO:tensorflow:loss = 0.0007481399, step = 31801 (0.288 sec)\n",
      "INFO:tensorflow:global_step/sec: 349.048\n",
      "INFO:tensorflow:loss = 0.00031747468, step = 31901 (0.287 sec)\n",
      "INFO:tensorflow:global_step/sec: 203.061\n",
      "INFO:tensorflow:loss = 0.00079883664, step = 32001 (0.491 sec)\n",
      "INFO:tensorflow:global_step/sec: 346.088\n",
      "INFO:tensorflow:loss = 0.00020250602, step = 32101 (0.288 sec)\n",
      "INFO:tensorflow:global_step/sec: 243.918\n",
      "INFO:tensorflow:loss = 0.00037732572, step = 32201 (0.411 sec)\n",
      "INFO:tensorflow:global_step/sec: 304.791\n",
      "INFO:tensorflow:loss = 0.0003334473, step = 32301 (0.328 sec)\n",
      "INFO:tensorflow:global_step/sec: 312.955\n",
      "INFO:tensorflow:loss = 0.00047188648, step = 32401 (0.320 sec)\n",
      "INFO:tensorflow:global_step/sec: 227.846\n",
      "INFO:tensorflow:loss = 0.00022159229, step = 32501 (0.440 sec)\n",
      "INFO:tensorflow:global_step/sec: 277.185\n",
      "INFO:tensorflow:loss = 0.00030449886, step = 32601 (0.359 sec)\n",
      "INFO:tensorflow:global_step/sec: 338.31\n",
      "INFO:tensorflow:loss = 0.00012448894, step = 32701 (0.295 sec)\n",
      "INFO:tensorflow:global_step/sec: 272.817\n",
      "INFO:tensorflow:loss = 0.00030642285, step = 32801 (0.369 sec)\n",
      "INFO:tensorflow:global_step/sec: 362.536\n",
      "INFO:tensorflow:loss = 0.0004646891, step = 32901 (0.273 sec)\n",
      "INFO:tensorflow:global_step/sec: 354.741\n",
      "INFO:tensorflow:loss = 3.610417e-05, step = 33001 (0.282 sec)\n",
      "INFO:tensorflow:global_step/sec: 340.026\n",
      "INFO:tensorflow:loss = 0.00023319088, step = 33101 (0.294 sec)\n",
      "INFO:tensorflow:global_step/sec: 357.952\n",
      "INFO:tensorflow:loss = 0.00043788456, step = 33201 (0.279 sec)\n",
      "INFO:tensorflow:global_step/sec: 353.01\n",
      "INFO:tensorflow:loss = 0.0010591864, step = 33301 (0.283 sec)\n",
      "INFO:tensorflow:global_step/sec: 336.866\n",
      "INFO:tensorflow:loss = 0.00090740505, step = 33401 (0.297 sec)\n",
      "INFO:tensorflow:global_step/sec: 359.191\n",
      "INFO:tensorflow:loss = 0.00024807776, step = 33501 (0.278 sec)\n",
      "INFO:tensorflow:global_step/sec: 344.388\n",
      "INFO:tensorflow:loss = 0.00018263963, step = 33601 (0.290 sec)\n",
      "INFO:tensorflow:global_step/sec: 315.067\n",
      "INFO:tensorflow:loss = 0.00028214234, step = 33701 (0.319 sec)\n",
      "INFO:tensorflow:global_step/sec: 289.154\n",
      "INFO:tensorflow:loss = 0.00037410093, step = 33801 (0.345 sec)\n",
      "INFO:tensorflow:global_step/sec: 287.891\n",
      "INFO:tensorflow:loss = 4.932402e-05, step = 33901 (0.347 sec)\n",
      "INFO:tensorflow:global_step/sec: 298.372\n",
      "INFO:tensorflow:loss = 0.00016343832, step = 34001 (0.335 sec)\n",
      "INFO:tensorflow:global_step/sec: 254.03\n",
      "INFO:tensorflow:loss = 8.594687e-05, step = 34101 (0.396 sec)\n",
      "INFO:tensorflow:global_step/sec: 320.479\n",
      "INFO:tensorflow:loss = 0.00044697933, step = 34201 (0.310 sec)\n",
      "INFO:tensorflow:global_step/sec: 302.828\n",
      "INFO:tensorflow:loss = 0.0003347887, step = 34301 (0.331 sec)\n",
      "INFO:tensorflow:global_step/sec: 294.105\n",
      "INFO:tensorflow:loss = 0.00016864817, step = 34401 (0.339 sec)\n",
      "INFO:tensorflow:global_step/sec: 336.263\n",
      "INFO:tensorflow:loss = 0.0003517399, step = 34501 (0.297 sec)\n",
      "INFO:tensorflow:global_step/sec: 324.276\n",
      "INFO:tensorflow:loss = 0.00017946139, step = 34601 (0.309 sec)\n",
      "INFO:tensorflow:global_step/sec: 300.999\n",
      "INFO:tensorflow:loss = 0.0007257248, step = 34701 (0.332 sec)\n",
      "INFO:tensorflow:global_step/sec: 319.271\n",
      "INFO:tensorflow:loss = 0.00015190012, step = 34801 (0.313 sec)\n",
      "INFO:tensorflow:global_step/sec: 295.553\n",
      "INFO:tensorflow:loss = 0.0011007977, step = 34901 (0.339 sec)\n",
      "INFO:tensorflow:global_step/sec: 303.525\n",
      "INFO:tensorflow:loss = 0.00013788066, step = 35001 (0.329 sec)\n",
      "INFO:tensorflow:global_step/sec: 321.916\n",
      "INFO:tensorflow:loss = 0.0006831542, step = 35101 (0.311 sec)\n",
      "INFO:tensorflow:global_step/sec: 247.062\n",
      "INFO:tensorflow:loss = 0.00054398295, step = 35201 (0.407 sec)\n",
      "INFO:tensorflow:global_step/sec: 315.881\n",
      "INFO:tensorflow:loss = 0.00026385894, step = 35301 (0.315 sec)\n",
      "INFO:tensorflow:global_step/sec: 324.025\n",
      "INFO:tensorflow:loss = 0.00012886355, step = 35401 (0.308 sec)\n",
      "INFO:tensorflow:global_step/sec: 263.122\n",
      "INFO:tensorflow:loss = 0.00032126132, step = 35501 (0.380 sec)\n",
      "INFO:tensorflow:global_step/sec: 327.848\n",
      "INFO:tensorflow:loss = 0.00019249735, step = 35601 (0.306 sec)\n",
      "INFO:tensorflow:global_step/sec: 312.411\n",
      "INFO:tensorflow:loss = 0.00033911743, step = 35701 (0.320 sec)\n",
      "INFO:tensorflow:global_step/sec: 278.854\n",
      "INFO:tensorflow:loss = 0.00050572626, step = 35801 (0.358 sec)\n",
      "INFO:tensorflow:global_step/sec: 306.15\n",
      "INFO:tensorflow:loss = 0.00026312016, step = 35901 (0.326 sec)\n",
      "INFO:tensorflow:global_step/sec: 268.607\n",
      "INFO:tensorflow:loss = 0.00066481956, step = 36001 (0.372 sec)\n",
      "INFO:tensorflow:global_step/sec: 303.779\n",
      "INFO:tensorflow:loss = 0.00024071561, step = 36101 (0.329 sec)\n",
      "INFO:tensorflow:global_step/sec: 284.507\n",
      "INFO:tensorflow:loss = 4.8397203e-05, step = 36201 (0.352 sec)\n",
      "INFO:tensorflow:global_step/sec: 337.656\n",
      "INFO:tensorflow:loss = 0.00024534372, step = 36301 (0.297 sec)\n",
      "INFO:tensorflow:global_step/sec: 314.941\n",
      "INFO:tensorflow:loss = 0.00020966693, step = 36401 (0.317 sec)\n",
      "INFO:tensorflow:global_step/sec: 278.342\n",
      "INFO:tensorflow:loss = 0.0006167365, step = 36501 (0.359 sec)\n",
      "INFO:tensorflow:global_step/sec: 306.892\n",
      "INFO:tensorflow:loss = 0.00011351712, step = 36601 (0.326 sec)\n",
      "INFO:tensorflow:global_step/sec: 306.64\n",
      "INFO:tensorflow:loss = 0.00022975553, step = 36701 (0.326 sec)\n",
      "INFO:tensorflow:global_step/sec: 300.595\n",
      "INFO:tensorflow:loss = 0.00049224094, step = 36801 (0.333 sec)\n",
      "INFO:tensorflow:global_step/sec: 253.231\n",
      "INFO:tensorflow:loss = 5.6732144e-05, step = 36901 (0.395 sec)\n",
      "INFO:tensorflow:global_step/sec: 317.748\n",
      "INFO:tensorflow:loss = 0.0005011462, step = 37001 (0.315 sec)\n",
      "INFO:tensorflow:global_step/sec: 281.416\n",
      "INFO:tensorflow:loss = 9.9012635e-05, step = 37101 (0.355 sec)\n",
      "INFO:tensorflow:global_step/sec: 320.146\n",
      "INFO:tensorflow:loss = 2.7816193e-05, step = 37201 (0.313 sec)\n",
      "INFO:tensorflow:global_step/sec: 283.534\n",
      "INFO:tensorflow:loss = 0.00015454825, step = 37301 (0.353 sec)\n",
      "INFO:tensorflow:global_step/sec: 285.369\n",
      "INFO:tensorflow:loss = 0.00014294437, step = 37401 (0.349 sec)\n",
      "INFO:tensorflow:global_step/sec: 288.046\n",
      "INFO:tensorflow:loss = 0.00025931108, step = 37501 (0.348 sec)\n",
      "INFO:tensorflow:global_step/sec: 300.22\n",
      "INFO:tensorflow:loss = 0.000356997, step = 37601 (0.332 sec)\n",
      "INFO:tensorflow:global_step/sec: 340.327\n",
      "INFO:tensorflow:loss = 0.00063472794, step = 37701 (0.294 sec)\n",
      "INFO:tensorflow:global_step/sec: 263.73\n",
      "INFO:tensorflow:loss = 0.00030518937, step = 37801 (0.381 sec)\n",
      "INFO:tensorflow:global_step/sec: 300.71\n",
      "INFO:tensorflow:loss = 1.6647136e-05, step = 37901 (0.330 sec)\n",
      "INFO:tensorflow:global_step/sec: 302.728\n",
      "INFO:tensorflow:loss = 0.00025318415, step = 38001 (0.332 sec)\n",
      "INFO:tensorflow:global_step/sec: 302.862\n",
      "INFO:tensorflow:loss = 7.667952e-05, step = 38101 (0.329 sec)\n",
      "INFO:tensorflow:global_step/sec: 301.855\n",
      "INFO:tensorflow:loss = 0.00025963134, step = 38201 (0.331 sec)\n",
      "INFO:tensorflow:global_step/sec: 327.66\n",
      "INFO:tensorflow:loss = 7.163256e-05, step = 38301 (0.305 sec)\n"
     ]
    },
    {
     "name": "stdout",
     "output_type": "stream",
     "text": [
      "INFO:tensorflow:global_step/sec: 311.202\n",
      "INFO:tensorflow:loss = 0.00016875844, step = 38401 (0.321 sec)\n",
      "INFO:tensorflow:global_step/sec: 324.885\n",
      "INFO:tensorflow:loss = 7.145678e-05, step = 38501 (0.308 sec)\n",
      "INFO:tensorflow:global_step/sec: 228.44\n",
      "INFO:tensorflow:loss = 0.00019340441, step = 38601 (0.439 sec)\n",
      "INFO:tensorflow:global_step/sec: 342.763\n",
      "INFO:tensorflow:loss = 9.081896e-05, step = 38701 (0.291 sec)\n",
      "INFO:tensorflow:global_step/sec: 260.174\n",
      "INFO:tensorflow:loss = 0.00055233366, step = 38801 (0.389 sec)\n",
      "INFO:tensorflow:global_step/sec: 302.878\n",
      "INFO:tensorflow:loss = 0.00028355938, step = 38901 (0.325 sec)\n",
      "INFO:tensorflow:global_step/sec: 262.345\n",
      "INFO:tensorflow:loss = 0.00013831569, step = 39001 (0.381 sec)\n",
      "INFO:tensorflow:global_step/sec: 325.163\n",
      "INFO:tensorflow:loss = 0.00029888938, step = 39101 (0.308 sec)\n",
      "INFO:tensorflow:global_step/sec: 306.554\n",
      "INFO:tensorflow:loss = 4.7285546e-05, step = 39201 (0.326 sec)\n",
      "INFO:tensorflow:global_step/sec: 310.264\n",
      "INFO:tensorflow:loss = 0.0001485342, step = 39301 (0.325 sec)\n",
      "INFO:tensorflow:global_step/sec: 290.016\n",
      "INFO:tensorflow:loss = 0.0007254395, step = 39401 (0.343 sec)\n",
      "INFO:tensorflow:global_step/sec: 297.946\n",
      "INFO:tensorflow:loss = 0.00013052365, step = 39501 (0.337 sec)\n",
      "INFO:tensorflow:global_step/sec: 326.873\n",
      "INFO:tensorflow:loss = 0.00035968117, step = 39601 (0.305 sec)\n",
      "INFO:tensorflow:global_step/sec: 223.757\n",
      "INFO:tensorflow:loss = 0.00021678655, step = 39701 (0.447 sec)\n",
      "INFO:tensorflow:global_step/sec: 190.66\n",
      "INFO:tensorflow:loss = 0.000108588356, step = 39801 (0.528 sec)\n",
      "INFO:tensorflow:global_step/sec: 265.329\n",
      "INFO:tensorflow:loss = 8.172894e-05, step = 39901 (0.373 sec)\n",
      "INFO:tensorflow:Saving checkpoints for 40000 into /var/folders/z6/wr1ydrzn3bg099wwtxwyh9ww0000gn/T/tmp6z3nnbr9/model.ckpt.\n",
      "INFO:tensorflow:Loss for final step: 2.936273e-05.\n"
     ]
    },
    {
     "data": {
      "text/plain": [
       "DNNClassifier(params={'head': <tensorflow.contrib.learn.python.learn.estimators.head._MultiClassHead object at 0x112c80e48>, 'hidden_units': (300, 100), 'feature_columns': (_RealValuedColumn(column_name='', dimension=784, default_value=None, dtype=tf.float64, normalizer=None),), 'optimizer': None, 'activation_fn': <function relu at 0x10d175ea0>, 'dropout': None, 'gradient_clip_norm': None, 'embedding_lr_multipliers': None, 'input_layer_min_slice_size': None})"
      ]
     },
     "execution_count": 10,
     "metadata": {},
     "output_type": "execute_result"
    }
   ],
   "source": [
    "import tensorflow as tf\n",
    "from sklearn.datasets import fetch_mldata\n",
    "from sklearn.metrics import accuracy_score\n",
    "from sklearn.preprocessing import StandardScaler\n",
    "\n",
    "\n",
    "scaler = StandardScaler()\n",
    "mnist = fetch_mldata(\"MNIST original\")\n",
    "X, y = mnist[\"data\"], mnist[\"target\"]\n",
    "X = X.astype(np.float32)\n",
    "y = y.astype(int)\n",
    "X_train = X[:60000]\n",
    "y_train = y[:60000]\n",
    "X_test = X[60000:]\n",
    "y_test = y[60000:]\n",
    "idx = np.random.permutation(X_train.shape[0])\n",
    "X_train = X_train[idx]\n",
    "y_train = y_train[idx]\n",
    "X_train = scaler.fit_transform(X_train)\n",
    "X_test = scaler.fit_transform(X_test)\n",
    "\n",
    "feature_columns = tf.contrib.learn.infer_real_valued_columns_from_input(X_train)\n",
    "dnn_clf = tf.contrib.learn.DNNClassifier(hidden_units=(300, 100), n_classes=10, feature_columns=feature_columns)\n",
    "dnn_clf.fit(x=X_train, y=y_train, batch_size=50, steps=40000)"
   ]
  },
  {
   "cell_type": "code",
   "execution_count": 16,
   "metadata": {
    "ExecuteTime": {
     "end_time": "2018-09-16T13:26:21.086596Z",
     "start_time": "2018-09-16T13:26:20.218546Z"
    },
    "scrolled": true
   },
   "outputs": [
    {
     "name": "stdout",
     "output_type": "stream",
     "text": [
      "WARNING:tensorflow:float64 is not supported by many models, consider casting to float32.\n",
      "INFO:tensorflow:Graph was finalized.\n",
      "INFO:tensorflow:Restoring parameters from /var/folders/z6/wr1ydrzn3bg099wwtxwyh9ww0000gn/T/tmp6z3nnbr9/model.ckpt-40000\n",
      "INFO:tensorflow:Running local_init_op.\n",
      "INFO:tensorflow:Done running local_init_op.\n"
     ]
    },
    {
     "data": {
      "text/plain": [
       "0.9787"
      ]
     },
     "execution_count": 16,
     "metadata": {},
     "output_type": "execute_result"
    }
   ],
   "source": [
    "accuracy_score(y_test, list(dnn_clf.predict(X_test)))"
   ]
  },
  {
   "cell_type": "markdown",
   "metadata": {},
   "source": [
    "# 使用普通TensorFlow训练DNN"
   ]
  },
  {
   "cell_type": "markdown",
   "metadata": {},
   "source": [
    "## 构造阶段"
   ]
  },
  {
   "cell_type": "code",
   "execution_count": 43,
   "metadata": {
    "ExecuteTime": {
     "end_time": "2018-09-16T15:34:59.398757Z",
     "start_time": "2018-09-16T15:34:59.388338Z"
    }
   },
   "outputs": [],
   "source": [
    "import tensorflow as tf\n",
    "\n",
    "n_inputs = 28 * 28\n",
    "n_hidden1 = 300\n",
    "n_hidden2 = 100\n",
    "n_outputs = 10"
   ]
  },
  {
   "cell_type": "code",
   "execution_count": 44,
   "metadata": {
    "ExecuteTime": {
     "end_time": "2018-09-16T15:34:59.918646Z",
     "start_time": "2018-09-16T15:34:59.910215Z"
    }
   },
   "outputs": [],
   "source": [
    "tf.reset_default_graph()\n",
    "X = tf.placeholder(tf.float32, shape=(None, n_inputs), name=\"X\")\n",
    "y = tf.placeholder(tf.int32, shape=(None), name=\"y\")"
   ]
  },
  {
   "cell_type": "markdown",
   "metadata": {},
   "source": [
    "下面创建一个图层的方法"
   ]
  },
  {
   "cell_type": "code",
   "execution_count": 21,
   "metadata": {
    "ExecuteTime": {
     "end_time": "2018-09-16T14:26:40.270177Z",
     "start_time": "2018-09-16T14:26:40.263832Z"
    }
   },
   "outputs": [],
   "source": [
    "def neuron_layer(X, n_neurons, name, activation=None):\n",
    "    with tf.name_scope(name):\n",
    "        n_inputs = int(X.get_shape()[1])\n",
    "        stddev = 2 / np.sqrt(n_inputs)\n",
    "        init = tf.truncated_normal((n_inputs, n_neurons), stddev=stddev)\n",
    "        W = tf.Variable(init, name=\"weights\")\n",
    "        b = tf.Variable(tf.zeros([n_neurons]), name=\"biases\")\n",
    "        z = tf.matmul(X, W) + b\n",
    "        if activation:\n",
    "            func = getattr(tf.nn, activation)\n",
    "            if not func:\n",
    "                raise ValueError(\"no activation named '%s'\" % activation)\n",
    "            return func(z)\n",
    "        else:\n",
    "            return z"
   ]
  },
  {
   "cell_type": "markdown",
   "metadata": {},
   "source": [
    "W被随机初始化，使用具有标准差为 **2/√n** 的截断的正态分布(确保不会有任何大的权重，这可能会减慢训练)。使用这个特定的标准差有助于算法收敛速度更快。\n",
    "\n",
    "重要的是随机初始化连接权重：这样可以避免梯度下降算法无法中断的任何对称性。(全是0的话，梯度都相同，每一层所有的神经元都一样)"
   ]
  },
  {
   "cell_type": "code",
   "execution_count": 22,
   "metadata": {
    "ExecuteTime": {
     "end_time": "2018-09-16T14:26:43.275735Z",
     "start_time": "2018-09-16T14:26:43.222669Z"
    }
   },
   "outputs": [],
   "source": [
    "with tf.name_scope(\"dnn\"):\n",
    "    hidden1 = neuron_layer(X, n_hidden1, \"hidden1\", activation=\"relu\")\n",
    "    hidden2 = neuron_layer(hidden1, n_hidden2, \"hidden2\", activation=\"relu\")\n",
    "    logits = neuron_layer(hidden2, n_outputs, \"outputs\")"
   ]
  },
  {
   "cell_type": "markdown",
   "metadata": {},
   "source": [
    "logits是通过softmax激活函数之前神经网络的输出：为了优化，我们稍后处理softmax计算。\n",
    "\n",
    "下面使用TensorFlow的 `fully_connected()` 函数来创建一个完全连接层。"
   ]
  },
  {
   "cell_type": "code",
   "execution_count": 23,
   "metadata": {
    "ExecuteTime": {
     "end_time": "2018-09-16T14:32:09.176616Z",
     "start_time": "2018-09-16T14:32:09.111809Z"
    }
   },
   "outputs": [],
   "source": [
    "from tensorflow.contrib.layers import fully_connected\n",
    "\n",
    "with tf.name_scope(\"dnn\"):\n",
    "    hidden1 = fully_connected(X, n_hidden1, scope=\"hidden1\")\n",
    "    hidden2 = fully_connected(hidden1, n_hidden2, scope=\"hidden2\")\n",
    "    logits = fully_connected(hidden2, n_outputs, scope=\"outputs\", activation_fn=None)"
   ]
  },
  {
   "cell_type": "markdown",
   "metadata": {},
   "source": [
    "*contrib是一些尚未分级成主要TensorFlow API部分的实验代码的地方，它可能会在未来更改或移动。*"
   ]
  },
  {
   "cell_type": "code",
   "execution_count": 45,
   "metadata": {
    "ExecuteTime": {
     "end_time": "2018-09-16T15:35:03.552885Z",
     "start_time": "2018-09-16T15:35:03.460849Z"
    }
   },
   "outputs": [],
   "source": [
    "# start here\n",
    "with tf.name_scope(\"dnn\"):\n",
    "    hidden1 = tf.layers.dense(X, n_hidden1, name=\"hidden1\", activation=tf.nn.relu)\n",
    "    hidden2 = tf.layers.dense(hidden1, n_hidden2, name=\"hidden2\", activation=tf.nn.relu)\n",
    "    logits = tf.layers.dense(hidden2, n_outputs, name=\"outputs\")"
   ]
  },
  {
   "cell_type": "markdown",
   "metadata": {},
   "source": [
    "我们已经有了模型，接下来需要定义我们用来训练的损失函数。"
   ]
  },
  {
   "cell_type": "code",
   "execution_count": 46,
   "metadata": {
    "ExecuteTime": {
     "end_time": "2018-09-16T15:35:15.560946Z",
     "start_time": "2018-09-16T15:35:15.540869Z"
    }
   },
   "outputs": [],
   "source": [
    "with tf.name_scope(\"loss\"):\n",
    "    xentropy = tf.nn.sparse_softmax_cross_entropy_with_logits(labels=y, logits=logits)\n",
    "    loss = tf.reduce_mean(xentropy, name=\"loss\")"
   ]
  },
  {
   "cell_type": "markdown",
   "metadata": {},
   "source": [
    "该 `sparse_softmax_cross_entropy_with_logits()` 函数等同于应用 `SOFTMAX` 激活函数，然后 计算交叉熵，但它更高效。\n",
    "还有 `softmax_cross_entropy_with_logits()` 承载标签是 `One-Hot` 的形式。"
   ]
  },
  {
   "cell_type": "markdown",
   "metadata": {},
   "source": [
    "有了模型，有了损失函数，下面需要定义一个优化器来调整模型参数。"
   ]
  },
  {
   "cell_type": "code",
   "execution_count": 47,
   "metadata": {
    "ExecuteTime": {
     "end_time": "2018-09-16T15:35:17.409846Z",
     "start_time": "2018-09-16T15:35:17.324281Z"
    }
   },
   "outputs": [],
   "source": [
    "learning_rate = 0.01\n",
    "\n",
    "with tf.name_scope(\"train\"):\n",
    "    optimizer = tf.train.GradientDescentOptimizer(learning_rate)\n",
    "    training_op = optimizer.minimize(loss)"
   ]
  },
  {
   "cell_type": "markdown",
   "metadata": {},
   "source": [
    "最后一个阶段是要指定如何评估模型。"
   ]
  },
  {
   "cell_type": "code",
   "execution_count": 48,
   "metadata": {
    "ExecuteTime": {
     "end_time": "2018-09-16T15:35:19.146391Z",
     "start_time": "2018-09-16T15:35:19.133529Z"
    }
   },
   "outputs": [],
   "source": [
    "with tf.name_scope(\"eval\"):\n",
    "    correct = tf.nn.in_top_k(logits, y, 1)\n",
    "    accuracy = tf.reduce_mean(tf.cast(correct, tf.float32))"
   ]
  },
  {
   "cell_type": "markdown",
   "metadata": {},
   "source": [
    "创建初始化所有变量的节点，创建一个 `Saver` 来将保存模型。"
   ]
  },
  {
   "cell_type": "code",
   "execution_count": 49,
   "metadata": {
    "ExecuteTime": {
     "end_time": "2018-09-16T15:35:20.934152Z",
     "start_time": "2018-09-16T15:35:20.912891Z"
    }
   },
   "outputs": [],
   "source": [
    "init = tf.global_variables_initializer()\n",
    "saver = tf.train.Saver()"
   ]
  },
  {
   "cell_type": "markdown",
   "metadata": {},
   "source": [
    "我们为输入和目标创建占位符，我们创 建了一个构建神经元层的函数，我们用它来创建 DNN，我们定义了损失函数，我们 创建了一 个优化器，最后定义了性能指标。 现在到执行阶段。"
   ]
  },
  {
   "cell_type": "markdown",
   "metadata": {},
   "source": [
    "## 执行阶段"
   ]
  },
  {
   "cell_type": "code",
   "execution_count": 34,
   "metadata": {
    "ExecuteTime": {
     "end_time": "2018-09-16T15:06:14.150619Z",
     "start_time": "2018-09-16T15:05:57.372802Z"
    }
   },
   "outputs": [
    {
     "name": "stdout",
     "output_type": "stream",
     "text": [
      "Successfully downloaded train-images-idx3-ubyte.gz 9912422 bytes.\n",
      "WARNING:tensorflow:From /usr/local/Cellar/python3/3.6.2/Frameworks/Python.framework/Versions/3.6/lib/python3.6/site-packages/tensorflow/contrib/learn/python/learn/datasets/mnist.py:262: extract_images (from tensorflow.contrib.learn.python.learn.datasets.mnist) is deprecated and will be removed in a future version.\n",
      "Instructions for updating:\n",
      "Please use tf.data to implement this functionality.\n",
      "Extracting /tmp/data/train-images-idx3-ubyte.gz\n",
      "Successfully downloaded train-labels-idx1-ubyte.gz 28881 bytes.\n",
      "WARNING:tensorflow:From /usr/local/Cellar/python3/3.6.2/Frameworks/Python.framework/Versions/3.6/lib/python3.6/site-packages/tensorflow/contrib/learn/python/learn/datasets/mnist.py:267: extract_labels (from tensorflow.contrib.learn.python.learn.datasets.mnist) is deprecated and will be removed in a future version.\n",
      "Instructions for updating:\n",
      "Please use tf.data to implement this functionality.\n",
      "Extracting /tmp/data/train-labels-idx1-ubyte.gz\n",
      "Successfully downloaded t10k-images-idx3-ubyte.gz 1648877 bytes.\n",
      "Extracting /tmp/data/t10k-images-idx3-ubyte.gz\n",
      "Successfully downloaded t10k-labels-idx1-ubyte.gz 4542 bytes.\n",
      "Extracting /tmp/data/t10k-labels-idx1-ubyte.gz\n",
      "WARNING:tensorflow:From /usr/local/Cellar/python3/3.6.2/Frameworks/Python.framework/Versions/3.6/lib/python3.6/site-packages/tensorflow/contrib/learn/python/learn/datasets/mnist.py:290: DataSet.__init__ (from tensorflow.contrib.learn.python.learn.datasets.mnist) is deprecated and will be removed in a future version.\n",
      "Instructions for updating:\n",
      "Please use alternatives such as official/mnist/dataset.py from tensorflow/models.\n"
     ]
    }
   ],
   "source": [
    "from tensorflow.examples.tutorials.mnist import input_data\n",
    "\n",
    "mnist = input_data.read_data_sets(\"/tmp/data/\")"
   ]
  },
  {
   "cell_type": "code",
   "execution_count": 54,
   "metadata": {
    "ExecuteTime": {
     "end_time": "2018-09-16T15:39:11.719029Z",
     "start_time": "2018-09-16T15:39:11.716052Z"
    }
   },
   "outputs": [],
   "source": [
    "n_epochs = 30\n",
    "batch_size = 50"
   ]
  },
  {
   "cell_type": "code",
   "execution_count": 55,
   "metadata": {
    "ExecuteTime": {
     "end_time": "2018-09-16T15:40:26.608455Z",
     "start_time": "2018-09-16T15:39:12.302778Z"
    }
   },
   "outputs": [
    {
     "name": "stdout",
     "output_type": "stream",
     "text": [
      "0 Train accuracy: 0.89534545 Validation accuracy: 0.9036\n",
      "3 Train accuracy: 0.9344909 Validation accuracy: 0.939\n",
      "6 Train accuracy: 0.9502909 Validation accuracy: 0.9534\n",
      "9 Train accuracy: 0.96034545 Validation accuracy: 0.963\n",
      "12 Train accuracy: 0.9683273 Validation accuracy: 0.9672\n",
      "15 Train accuracy: 0.9741091 Validation accuracy: 0.9694\n",
      "18 Train accuracy: 0.97769094 Validation accuracy: 0.9724\n",
      "21 Train accuracy: 0.98081815 Validation accuracy: 0.9724\n",
      "24 Train accuracy: 0.9840909 Validation accuracy: 0.9738\n",
      "27 Train accuracy: 0.9862546 Validation accuracy: 0.9754\n"
     ]
    }
   ],
   "source": [
    "with tf.Session() as sess:\n",
    "    init.run()\n",
    "    for epoch in range(n_epochs):\n",
    "        for iteration in range(mnist.train.num_examples // batch_size):\n",
    "            X_batch, y_batch = mnist.train.next_batch(batch_size)\n",
    "            sess.run(training_op, feed_dict={X: X_batch, y: y_batch})\n",
    "        if epoch % 3 == 0:\n",
    "            acc_train = accuracy.eval(feed_dict={X: mnist.train.images, y: mnist.train.labels})\n",
    "            acc_val = accuracy.eval(feed_dict={X: mnist.validation.images, y: mnist.validation.labels})\n",
    "            print(epoch, \"Train accuracy:\", acc_train, \"Validation accuracy:\", acc_val)\n",
    "    save_path = saver.save(sess, \"/tmp/my_model_final.ckpt\")"
   ]
  },
  {
   "cell_type": "markdown",
   "metadata": {},
   "source": [
    "## 使用神经网络"
   ]
  },
  {
   "cell_type": "code",
   "execution_count": 56,
   "metadata": {
    "ExecuteTime": {
     "end_time": "2018-09-16T15:42:52.876414Z",
     "start_time": "2018-09-16T15:42:52.835173Z"
    }
   },
   "outputs": [
    {
     "name": "stdout",
     "output_type": "stream",
     "text": [
      "INFO:tensorflow:Restoring parameters from /tmp/my_model_final.ckpt\n"
     ]
    }
   ],
   "source": [
    "with tf.Session() as sess:\n",
    "    saver.restore(sess, \"/tmp/my_model_final.ckpt\")\n",
    "    X_new_scaled = mnist.test.images[:20]\n",
    "    Z = logits.eval(feed_dict={X: X_new_scaled})\n",
    "    y_pred = np.argmax(Z, axis=1)"
   ]
  },
  {
   "cell_type": "code",
   "execution_count": 59,
   "metadata": {
    "ExecuteTime": {
     "end_time": "2018-09-16T15:43:26.244235Z",
     "start_time": "2018-09-16T15:43:26.240352Z"
    }
   },
   "outputs": [
    {
     "name": "stdout",
     "output_type": "stream",
     "text": [
      "[(7, 7), (2, 2), (1, 1), (0, 0), (4, 4), (1, 1), (4, 4), (9, 9), (5, 5), (9, 9), (0, 0), (6, 6), (9, 9), (0, 0), (1, 1), (5, 5), (9, 9), (7, 7), (3, 3), (4, 4)]\n"
     ]
    }
   ],
   "source": [
    "print(list(zip(y_pred, mnist.test.labels[:20])))"
   ]
  },
  {
   "cell_type": "markdown",
   "metadata": {},
   "source": [
    "# 微调神经网络超参数"
   ]
  },
  {
   "cell_type": "markdown",
   "metadata": {},
   "source": [
    "使用随机搜索 或 Oscar。"
   ]
  },
  {
   "cell_type": "markdown",
   "metadata": {},
   "source": [
    "## 隐藏层数量"
   ]
  },
  {
   "cell_type": "markdown",
   "metadata": {},
   "source": [
    "初始：只需从单个隐藏层开始，可以获得合理的结果。\n",
    "\n",
    "深层结构的优点：如果已经训练了模型识别图片中的脸部，并且现在想训练一个新的网络来识别发型，那么久可以通过重新使用第一个网络的较低层次来启动网络。\n",
    "\n",
    "大型图像分类或语音识别，通常需要具有数是个层(甚至数百个不完全相连的网络)"
   ]
  },
  {
   "cell_type": "markdown",
   "metadata": {},
   "source": [
    "## 每层隐藏层的神经元数量"
   ]
  },
  {
   "cell_type": "markdown",
   "metadata": {},
   "source": [
    "输入和输出层的不用说了。\n",
    "\n",
    "对于隐藏层，通常是将其设置为一个漏斗，每个层上的神经元越来越少。(许多低级别功能可以合并成更少的高级功能)(现在并不常见)\n",
    "\n",
    "现在，可以为每个层设置相同的大小。这样超参数会少很多。\n",
    "\n",
    "选择一个比实际需要的更多层次和神经元的模型，然后使用早期停止、正则化技术来防止它过拟合。"
   ]
  },
  {
   "cell_type": "markdown",
   "metadata": {},
   "source": [
    "## 激活函数"
   ]
  },
  {
   "cell_type": "markdown",
   "metadata": {},
   "source": [
    "大多数情况，隐藏层：ReLU(或其中一个变体)：计算速度快、梯度下降在局部最高点上不会卡住\n",
    "\n",
    "输出层：分类：softmax。回归：不使用。"
   ]
  },
  {
   "cell_type": "code",
   "execution_count": null,
   "metadata": {},
   "outputs": [],
   "source": []
  }
 ],
 "metadata": {
  "kernelspec": {
   "display_name": "Python 3",
   "language": "python",
   "name": "python3"
  },
  "language_info": {
   "codemirror_mode": {
    "name": "ipython",
    "version": 3
   },
   "file_extension": ".py",
   "mimetype": "text/x-python",
   "name": "python",
   "nbconvert_exporter": "python",
   "pygments_lexer": "ipython3",
   "version": "3.6.2"
  },
  "latex_envs": {
   "LaTeX_envs_menu_present": true,
   "autocomplete": true,
   "bibliofile": "biblio.bib",
   "cite_by": "apalike",
   "current_citInitial": 1,
   "eqLabelWithNumbers": true,
   "eqNumInitial": 1,
   "hotkeys": {
    "equation": "Ctrl-E",
    "itemize": "Ctrl-I"
   },
   "labels_anchors": false,
   "latex_user_defs": false,
   "report_style_numbering": false,
   "user_envs_cfg": false
  },
  "nbTranslate": {
   "displayLangs": [
    "*"
   ],
   "hotkey": "alt-t",
   "langInMainMenu": true,
   "sourceLang": "en",
   "targetLang": "fr",
   "useGoogleTranslate": true
  },
  "toc": {
   "nav_menu": {},
   "number_sections": true,
   "sideBar": true,
   "skip_h1_title": false,
   "toc_cell": false,
   "toc_position": {
    "height": "468px",
    "left": "0px",
    "right": "1068px",
    "top": "159px",
    "width": "212px"
   },
   "toc_section_display": "block",
   "toc_window_display": true
  }
 },
 "nbformat": 4,
 "nbformat_minor": 2
}
