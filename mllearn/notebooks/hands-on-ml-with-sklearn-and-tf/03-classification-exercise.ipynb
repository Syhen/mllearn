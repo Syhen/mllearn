{
 "cells": [
  {
   "cell_type": "markdown",
   "metadata": {},
   "source": [
    "# 尝试在MNIST数据集上建立一个分类器，使它在测试集上的精度超过97%。\n",
    "\n",
    "提示： `KNeighborsClassifier` 非常适合这个任务。你只需要找出一个好的超参数值。"
   ]
  },
  {
   "cell_type": "code",
   "execution_count": 2,
   "metadata": {
    "ExecuteTime": {
     "end_time": "2018-08-25T15:24:59.717672Z",
     "start_time": "2018-08-25T15:24:57.647897Z"
    }
   },
   "outputs": [],
   "source": [
    "import numpy as np\n",
    "import matplotlib\n",
    "import matplotlib.pyplot as plt\n",
    "from sklearn.datasets import fetch_mldata\n",
    "from sklearn.neighbors import KNeighborsClassifier\n",
    "from sklearn.model_selection import GridSearchCV\n",
    "from sklearn.preprocessing import StandardScaler, MinMaxScaler\n",
    "\n",
    "import warnings\n",
    "\n",
    "warnings.filterwarnings('ignore', message=r\".*?stochastic_gradient.*?\")\n",
    "%matplotlib inline"
   ]
  },
  {
   "cell_type": "markdown",
   "metadata": {},
   "source": [
    "首先，定义一些必要的函数"
   ]
  },
  {
   "cell_type": "code",
   "execution_count": 21,
   "metadata": {
    "ExecuteTime": {
     "end_time": "2018-08-24T08:00:39.602261Z",
     "start_time": "2018-08-24T08:00:39.593961Z"
    }
   },
   "outputs": [],
   "source": [
    "def plot_img(image_data, shape=(28, 28)):\n",
    "    \"\"\"打印图片\n",
    "    根据shape，打印图片\n",
    "    :param image_data: `np.ndarray`. 图片信息\n",
    "    :param shape: tuple. 图片的shape\n",
    "    \"\"\"\n",
    "    plt.imshow(image_data.reshape(shape), cmap=matplotlib.cm.binary, interpolation='nearest')\n",
    "    plt.axis('off')\n",
    "    plt.show()"
   ]
  },
  {
   "cell_type": "code",
   "execution_count": 22,
   "metadata": {
    "ExecuteTime": {
     "end_time": "2018-08-24T08:02:28.871224Z",
     "start_time": "2018-08-24T08:02:28.708327Z"
    }
   },
   "outputs": [
    {
     "name": "stdout",
     "output_type": "stream",
     "text": [
      "X train shape: (60000, 784)\n",
      "X test shape: (10000, 784)\n",
      "y train shape: (60000,)\n",
      "y test shape: (10000,)\n"
     ]
    }
   ],
   "source": [
    "mnist_data = fetch_mldata(\"MNIST original\")\n",
    "train_index = 60000\n",
    "X_train, X_test, y_train, y_test = mnist_data['data'][:train_index], mnist_data['data'][train_index:], mnist_data['target'][:train_index], mnist_data['target'][train_index:]\n",
    "print(\"X train shape:\", X_train.shape)\n",
    "print(\"X test shape:\", X_test.shape)\n",
    "print(\"y train shape:\", y_train.shape)\n",
    "print(\"y test shape:\", y_test.shape)"
   ]
  },
  {
   "cell_type": "markdown",
   "metadata": {},
   "source": [
    "来随便看一张图片"
   ]
  },
  {
   "cell_type": "code",
   "execution_count": 23,
   "metadata": {
    "ExecuteTime": {
     "end_time": "2018-08-24T08:02:58.315948Z",
     "start_time": "2018-08-24T08:02:58.118503Z"
    }
   },
   "outputs": [
    {
     "data": {
      "image/png": "[encoded data removed]",
      "text/plain": [
       "<matplotlib.figure.Figure at 0x126903908>"
      ]
     },
     "metadata": {},
     "output_type": "display_data"
    }
   ],
   "source": [
    "plot_img(X_train[665])"
   ]
  },
  {
   "cell_type": "markdown",
   "metadata": {},
   "source": [
    "应该是0吧。\n",
    "\n",
    "同时我们发现，很多的图片边缘都是空白的，因此，对这些边缘进行裁剪对我们的预测影响不大。\n",
    "\n",
    "接下来，使用自定义 `Transformer` 进行维度缩减"
   ]
  },
  {
   "cell_type": "code",
   "execution_count": 3,
   "metadata": {
    "ExecuteTime": {
     "end_time": "2018-08-24T07:38:01.971155Z",
     "start_time": "2018-08-24T07:38:01.954958Z"
    }
   },
   "outputs": [],
   "source": [
    "from sklearn.base import BaseEstimator, TransformerMixin\n",
    "\n",
    "\n",
    "class PaddingDecomposor(BaseEstimator, TransformerMixin):\n",
    "    def __init__(self, shape=None, padding=(None, None, None, None)):\n",
    "        self.padding_ = padding\n",
    "        self.de_shape_ = None  # 调整后的shape\n",
    "        self.data_shape_ = shape  # 数据shape\n",
    "    \n",
    "    @staticmethod\n",
    "    def _none2int(x):\n",
    "        if x is None:\n",
    "            return 0\n",
    "        return abs(x)\n",
    "    \n",
    "    def _get_shape(self, x):\n",
    "        if len(x.shape) == 2:\n",
    "            d_x = x.shape[0] - self._none2int(self.padding_[0]) - self._none2int(self.padding_[1])\n",
    "            d_y = x.shape[1] - self._none2int(self.padding_[2]) - self._none2int(self.padding_[3])\n",
    "            self.de_shape_ = (d_x, d_y)\n",
    "            return x.shape\n",
    "        if len(x.shape) == 1:\n",
    "            shape = int(np.sqrt(x.shape))\n",
    "            if shape * shape != x.shape[0]:\n",
    "                raise ValueError(\"x should be squared.\")\n",
    "            d_x = shape - self._none2int(self.padding_[0]) - self._none2int(self.padding_[1])\n",
    "            d_y = shape - self._none2int(self.padding_[2]) - self._none2int(self.padding_[3])\n",
    "            self.de_shape_ = (d_x * d_y, )\n",
    "            return (shape, shape)\n",
    "        raise ValueError(\"x demension must be 1 or 2.\")\n",
    "    \n",
    "    def fit(self, X, y=None):\n",
    "        _shape = self._get_shape(X[0])\n",
    "        self.data_shape_ = self.data_shape_ or _shape\n",
    "        return self\n",
    "    \n",
    "    def transform(self, X, y=None):\n",
    "        m = X.shape[0]\n",
    "        X_shape = (m, self.data_shape_[0], self.data_shape_[1])\n",
    "        return X.reshape(X_shape)[:, self.padding_[0]: self.padding_[1], self.padding_[2]: self.padding_[3]].reshape((m, *self.de_shape_))"
   ]
  },
  {
   "cell_type": "code",
   "execution_count": 4,
   "metadata": {
    "ExecuteTime": {
     "end_time": "2018-08-24T07:38:03.410716Z",
     "start_time": "2018-08-24T07:38:03.380014Z"
    }
   },
   "outputs": [
    {
     "name": "stdout",
     "output_type": "stream",
     "text": [
      "(400,) (28, 28) (4, -4, 4, -4)\n",
      "(60000, 784)\n"
     ]
    }
   ],
   "source": [
    "padding_decomposor = PaddingDecomposor(padding=(4, -4, 4, -4))\n",
    "padding_decomposor.fit(X_train)\n",
    "print(padding_decomposor.de_shape_, padding_decomposor.data_shape_, padding_decomposor.padding_)\n",
    "print(X_train.shape)\n",
    "X_train_pca = padding_decomposor.transform(X_train)\n",
    "X_test_pca = padding_decomposor.transform(X_test)"
   ]
  },
  {
   "cell_type": "code",
   "execution_count": 5,
   "metadata": {
    "ExecuteTime": {
     "end_time": "2018-08-24T07:38:04.044039Z",
     "start_time": "2018-08-24T07:38:04.039588Z"
    }
   },
   "outputs": [],
   "source": [
    "grid_params = {\n",
    "    'n_neighbors': [3, 4, 5, 6],\n",
    "    'weights': ['uniform', 'distance']\n",
    "}\n",
    "grid_search = GridSearchCV(KNeighborsClassifier(n_jobs=-1), grid_params, scoring='accuracy', cv=3, n_jobs=1, verbose=2)"
   ]
  },
  {
   "cell_type": "code",
   "execution_count": 7,
   "metadata": {
    "ExecuteTime": {
     "end_time": "2018-08-24T07:43:46.223590Z",
     "start_time": "2018-08-24T07:43:22.193020Z"
    }
   },
   "outputs": [
    {
     "data": {
      "text/plain": [
       "KNeighborsClassifier(algorithm='kd_tree', leaf_size=30, metric='minkowski',\n",
       "           metric_params=None, n_jobs=1, n_neighbors=4, p=2,\n",
       "           weights='distance')"
      ]
     },
     "execution_count": 7,
     "metadata": {},
     "output_type": "execute_result"
    }
   ],
   "source": [
    "knn_clf = KNeighborsClassifier(n_neighbors=4, weights='distance', algorithm='kd_tree')\n",
    "knn_clf.fit(X_train_pca, y_train)"
   ]
  },
  {
   "cell_type": "code",
   "execution_count": 7,
   "metadata": {
    "ExecuteTime": {
     "end_time": "2018-08-24T07:31:16.227043Z",
     "start_time": "2018-08-24T07:31:16.176826Z"
    }
   },
   "outputs": [
    {
     "data": {
      "text/plain": [
       "{'n_neighbors': 4, 'weights': 'distance'}"
      ]
     },
     "execution_count": 7,
     "metadata": {},
     "output_type": "execute_result"
    }
   ],
   "source": [
    "# grid_search.best_params_\n",
    "{'n_neighbors': 4, 'weights': 'distance'}"
   ]
  },
  {
   "cell_type": "code",
   "execution_count": 8,
   "metadata": {
    "ExecuteTime": {
     "end_time": "2018-08-24T07:43:57.030670Z",
     "start_time": "2018-08-24T07:43:56.634335Z"
    }
   },
   "outputs": [],
   "source": [
    "from sklearn.model_selection import cross_val_score\n",
    "from sklearn.metrics import confusion_matrix, recall_score, precision_score"
   ]
  },
  {
   "cell_type": "code",
   "execution_count": 9,
   "metadata": {
    "ExecuteTime": {
     "end_time": "2018-08-24T07:31:23.704387Z",
     "start_time": "2018-08-24T07:31:23.701252Z"
    }
   },
   "outputs": [],
   "source": [
    "# y_pred = cross_val_score(knn_clf, X_train_pca, y_train, scoring='accuracy', cv=3)"
   ]
  },
  {
   "cell_type": "code",
   "execution_count": 9,
   "metadata": {
    "ExecuteTime": {
     "end_time": "2018-08-24T07:51:40.064679Z",
     "start_time": "2018-08-24T07:43:59.702741Z"
    }
   },
   "outputs": [],
   "source": [
    "y_test_pred = knn_clf.predict(X_test_pca)"
   ]
  },
  {
   "cell_type": "code",
   "execution_count": 11,
   "metadata": {
    "ExecuteTime": {
     "end_time": "2018-08-24T07:52:07.404059Z",
     "start_time": "2018-08-24T07:52:07.387291Z"
    }
   },
   "outputs": [
    {
     "name": "stdout",
     "output_type": "stream",
     "text": [
      "Recall: 0.9728\n",
      "Precision: 0.9730233225996623\n"
     ]
    }
   ],
   "source": [
    "print(\"Recall:\", recall_score(y_test, y_test_pred, average=\"weighted\"))\n",
    "print(\"Precision:\", precision_score(y_test, y_test_pred, average=\"weighted\"))"
   ]
  },
  {
   "cell_type": "markdown",
   "metadata": {},
   "source": [
    "来看看预测结果的混淆矩阵"
   ]
  },
  {
   "cell_type": "code",
   "execution_count": 18,
   "metadata": {
    "ExecuteTime": {
     "end_time": "2018-08-24T07:54:59.721720Z",
     "start_time": "2018-08-24T07:54:59.701472Z"
    }
   },
   "outputs": [],
   "source": [
    "cm = confusion_matrix(y_test, y_test_pred)\n",
    "row_sum = cm.sum(axis=1, keepdims=True)\n",
    "cm_ratio = cm / row_sum\n",
    "np.fill_diagonal(cm_ratio, 0)"
   ]
  },
  {
   "cell_type": "code",
   "execution_count": 20,
   "metadata": {
    "ExecuteTime": {
     "end_time": "2018-08-24T07:58:21.318700Z",
     "start_time": "2018-08-24T07:58:21.069621Z"
    }
   },
   "outputs": [
    {
     "data": {
      "text/plain": [
       "<matplotlib.image.AxesImage at 0x126a20ba8>"
      ]
     },
     "execution_count": 20,
     "metadata": {},
     "output_type": "execute_result"
    },
    {
     "data": {
      "image/png": "[encoded data removed]",
      "text/plain": [
       "<matplotlib.figure.Figure at 0x12690c240>"
      ]
     },
     "metadata": {},
     "output_type": "display_data"
    }
   ],
   "source": [
    "plt.matshow(cm_ratio, cmap=plt.cm.gray)"
   ]
  },
  {
   "cell_type": "markdown",
   "metadata": {},
   "source": [
    "可以发现：\n",
    "1. 4-9的地方尤其的亮，说明有很多4被预测成了9。\n",
    "2. 7-1、2-7、3-5的地方有同样的预测问题。"
   ]
  },
  {
   "cell_type": "markdown",
   "metadata": {
    "ExecuteTime": {
     "end_time": "2018-08-24T05:07:57.446648Z",
     "start_time": "2018-08-24T05:07:57.441140Z"
    }
   },
   "source": [
    "# 写一个函数可以使MNIST中的图像任意方向移动\n",
    "\n",
    "(上下左右)一个像素。然后对训练集上的每张图片，复制四个移动后的副本。这种人工扩大训练集的方法叫做数据增强，或者训练集扩张。"
   ]
  },
  {
   "cell_type": "code",
   "execution_count": 44,
   "metadata": {
    "ExecuteTime": {
     "end_time": "2018-08-24T09:35:11.299907Z",
     "start_time": "2018-08-24T09:35:11.289682Z"
    }
   },
   "outputs": [],
   "source": [
    "def pic_move(x, position='up', pixel=1):\n",
    "    def move_up(x, pixel=1):\n",
    "        add_arr = [x]\n",
    "        add_arr.extend([[[0] * x.shape[1]]] * pixel)\n",
    "        return np.concatenate(add_arr, axis=0)[pixel:, :]\n",
    "    \n",
    "    def move_down(x, pixel=1):\n",
    "        add_arr = [[[0] * x.shape[1]]] * pixel\n",
    "        add_arr.append(x)\n",
    "        return np.concatenate(add_arr, axis=0)[:-pixel, :]\n",
    "    \n",
    "    def move_left(x, pixel=1):\n",
    "        add_arr = [x]\n",
    "        add_arr.extend([[[0]] * x.shape[0]] * pixel)\n",
    "        return np.concatenate(add_arr, axis=1)[:, pixel:]\n",
    "    \n",
    "    def move_right(x, pixel=1):\n",
    "        add_arr = [[[0]] * x.shape[0]] * pixel\n",
    "        add_arr.append(x)\n",
    "        return np.concatenate(add_arr, axis=1)[:, :-pixel]\n",
    "    \n",
    "    if position == 'up':\n",
    "        return move_up(x, pixel)\n",
    "    if position == 'down':\n",
    "        return move_down(x, pixel)\n",
    "    if position == 'left':\n",
    "        return move_left(x, pixel)\n",
    "    if position == 'right':\n",
    "        return move_right(x, pixel)\n",
    "    raise ValueError(\"position must be 'up', 'down', 'left' or 'right'\")"
   ]
  },
  {
   "cell_type": "code",
   "execution_count": 54,
   "metadata": {
    "ExecuteTime": {
     "end_time": "2018-08-24T09:35:54.982957Z",
     "start_time": "2018-08-24T09:35:54.833453Z"
    }
   },
   "outputs": [
    {
     "data": {
      "image/png": "[encoded data removed]",
      "text/plain": [
       "<matplotlib.figure.Figure at 0x12a2bf828>"
      ]
     },
     "metadata": {},
     "output_type": "display_data"
    }
   ],
   "source": [
    "plot_img(pic_move(X_train[0].reshape(28, 28), position='right', pixel=10))"
   ]
  },
  {
   "cell_type": "markdown",
   "metadata": {},
   "source": [
    "ok，图片往右移动了10个像素\n",
    "\n",
    "现在来构建增强的训练集"
   ]
  },
  {
   "cell_type": "code",
   "execution_count": 64,
   "metadata": {
    "ExecuteTime": {
     "end_time": "2018-08-24T09:45:10.021244Z",
     "start_time": "2018-08-24T09:45:00.480575Z"
    }
   },
   "outputs": [],
   "source": [
    "X_train_large = []\n",
    "y_train_large = []\n",
    "for i, x in enumerate(X_train):\n",
    "    for position in ('up', 'down', 'left', 'right'):\n",
    "        X_train_large.append(pic_move(x.reshape(28, 28), position=position, pixel=1).reshape(784, ))\n",
    "        y_train_large.append(y_train[i])\n",
    "    X_train_large.append(x)\n",
    "    y_train_large.append(y_train[i])\n",
    "X_train_large = np.array(X_train_large)\n",
    "y_train_large = np.array(y_train_large)"
   ]
  },
  {
   "cell_type": "code",
   "execution_count": 65,
   "metadata": {
    "ExecuteTime": {
     "end_time": "2018-08-24T09:45:10.049682Z",
     "start_time": "2018-08-24T09:45:10.025136Z"
    }
   },
   "outputs": [
    {
     "name": "stdout",
     "output_type": "stream",
     "text": [
      "Large X train: (300000, 784)\n",
      "Large y train: (300000,)\n"
     ]
    }
   ],
   "source": [
    "print(\"Large X train:\", X_train_large.shape)\n",
    "print(\"Large y train:\", y_train_large.shape)"
   ]
  },
  {
   "cell_type": "markdown",
   "metadata": {},
   "source": [
    "训练集由60000张扩大到了300000张\n",
    "\n",
    "现在，我们看看数据增强能不能提高我们模型的表现"
   ]
  },
  {
   "cell_type": "code",
   "execution_count": 67,
   "metadata": {
    "ExecuteTime": {
     "end_time": "2018-08-24T10:05:27.223660Z",
     "start_time": "2018-08-24T09:45:59.609595Z"
    }
   },
   "outputs": [
    {
     "name": "stdout",
     "output_type": "stream",
     "text": [
      "Use padding decomposor to decompose.\n",
      "Start training model.\n"
     ]
    },
    {
     "data": {
      "text/plain": [
       "KNeighborsClassifier(algorithm='kd_tree', leaf_size=30, metric='minkowski',\n",
       "           metric_params=None, n_jobs=1, n_neighbors=4, p=2,\n",
       "           weights='distance')"
      ]
     },
     "execution_count": 67,
     "metadata": {},
     "output_type": "execute_result"
    }
   ],
   "source": [
    "print(\"Use padding decomposor to decompose.\")\n",
    "X_train_large_pca = padding_decomposor.transform(X_train_large)\n",
    "print(\"Start training model.\")\n",
    "knn_clf_large = KNeighborsClassifier(n_neighbors=4, weights='distance', algorithm='kd_tree')\n",
    "knn_clf_large.fit(X_train_large_pca, y_train_large)"
   ]
  },
  {
   "cell_type": "code",
   "execution_count": 69,
   "metadata": {
    "ExecuteTime": {
     "end_time": "2018-08-24T11:08:01.887002Z",
     "start_time": "2018-08-24T10:21:38.822787Z"
    }
   },
   "outputs": [
    {
     "name": "stdout",
     "output_type": "stream",
     "text": [
      "Recall: 0.9776\n",
      "Precision: 0.9777641362178134\n"
     ]
    },
    {
     "data": {
      "image/png": "[encoded data removed]",
      "text/plain": [
       "<matplotlib.figure.Figure at 0x12a9b29b0>"
      ]
     },
     "metadata": {},
     "output_type": "display_data"
    }
   ],
   "source": [
    "y_test_pred_large = knn_clf_large.predict(X_test_pca)\n",
    "print(\"Recall:\", recall_score(y_test, y_test_pred_large, average=\"weighted\"))\n",
    "print(\"Precision:\", precision_score(y_test, y_test_pred_large, average=\"weighted\"))\n",
    "cm = confusion_matrix(y_test, y_test_pred_large)\n",
    "row_sum = cm.sum(axis=1, keepdims=True)\n",
    "cm_ratio_large = cm / row_sum\n",
    "np.fill_diagonal(cm_ratio_large, 0)\n",
    "_ = plt.matshow(cm_ratio_large, cmap=plt.cm.gray)"
   ]
  },
  {
   "cell_type": "markdown",
   "metadata": {},
   "source": [
    "不错，好了零点几个百分点。\n",
    "\n",
    "但是预测效率变得如此之慢，在这个项目中，是否值得我们这样做呢？"
   ]
  },
  {
   "cell_type": "markdown",
   "metadata": {},
   "source": [
    "# Titanic\n",
    "\n",
    "不做了，在其他地方做过了"
   ]
  },
  {
   "cell_type": "markdown",
   "metadata": {},
   "source": [
    "# 垃圾邮件分类器"
   ]
  },
  {
   "cell_type": "code",
   "execution_count": 425,
   "metadata": {
    "ExecuteTime": {
     "end_time": "2018-08-28T02:12:04.089523Z",
     "start_time": "2018-08-28T02:12:04.078589Z"
    }
   },
   "outputs": [],
   "source": [
    "import os\n",
    "import re\n",
    "\n",
    "from lxml import etree\n",
    "from nltk.stem import WordNetLemmatizer\n",
    "from nltk.tokenize import word_tokenize\n",
    "import pandas as pd\n",
    "from pattern.en import lemma\n",
    "from sklearn.base import BaseEstimator, TransformerMixin\n",
    "from sklearn.feature_extraction.text import TfidfTransformer, CountVectorizer\n",
    "from sklearn.model_selection import train_test_split\n",
    "from sklearn.pipeline import Pipeline, FeatureUnion"
   ]
  },
  {
   "cell_type": "code",
   "execution_count": 222,
   "metadata": {
    "ExecuteTime": {
     "end_time": "2018-08-27T07:53:12.297228Z",
     "start_time": "2018-08-27T07:53:12.288070Z"
    }
   },
   "outputs": [],
   "source": [
    "def _load_all(path):\n",
    "    for filename in os.listdir(path):\n",
    "        if filename.startswith('.'):\n",
    "            continue\n",
    "        with open(os.path.join(path, filename), 'r', encoding='utf8', errors='ignore') as f:\n",
    "            content = f.read()\n",
    "        yield content\n",
    "\n",
    "\n",
    "def load_spam(name='all'):\n",
    "    all_names = {\n",
    "        'easy_ham': 0, \n",
    "        'hard_ham': 0, \n",
    "        'spam_2': 1\n",
    "    }\n",
    "    base_path = '/Users/heyao/Desktop/mllearn/mllearn/notebooks/hands-on-ml-with-sklearn-and-tf/datasets/spam_email/'\n",
    "    if name == 'all':\n",
    "        name = list(all_names.keys())\n",
    "    if not isinstance(name, (list, tuple)):\n",
    "        name = [name]\n",
    "    for n in name:\n",
    "        if n not in all_names:\n",
    "            raise ValueError(\"name must be %s or all\" % ', '.join(name))\n",
    "    X = []\n",
    "    y = []\n",
    "    for n in name:\n",
    "        emails = list(_load_all(os.path.join(base_path, n)))\n",
    "        X.extend(emails)\n",
    "        y.extend([all_names[n]] * len(emails))\n",
    "    data = {'data': X, 'target': y}\n",
    "    return data"
   ]
  },
  {
   "cell_type": "code",
   "execution_count": 223,
   "metadata": {
    "ExecuteTime": {
     "end_time": "2018-08-27T07:53:16.403653Z",
     "start_time": "2018-08-27T07:53:12.761311Z"
    }
   },
   "outputs": [],
   "source": [
    "spam_data = load_spam('all')"
   ]
  },
  {
   "cell_type": "code",
   "execution_count": 220,
   "metadata": {
    "ExecuteTime": {
     "end_time": "2018-08-27T07:53:04.803634Z",
     "start_time": "2018-08-27T07:53:04.787384Z"
    }
   },
   "outputs": [],
   "source": [
    "X, y = spam_data['data'], spam_data['target']"
   ]
  },
  {
   "cell_type": "code",
   "execution_count": 221,
   "metadata": {
    "ExecuteTime": {
     "end_time": "2018-08-27T07:53:05.532436Z",
     "start_time": "2018-08-27T07:53:05.500126Z"
    },
    "scrolled": false
   },
   "outputs": [
    {
     "name": "stdout",
     "output_type": "stream",
     "text": [
      "X train length: 3358\n",
      "X test length: 840\n"
     ]
    }
   ],
   "source": [
    "X_train, X_test, y_train, y_test = train_test_split(X, y, test_size=0.2, random_state=42)\n",
    "print(\"X train length:\", len(X_train))\n",
    "print(\"X test length:\", len(X_test))"
   ]
  },
  {
   "cell_type": "markdown",
   "metadata": {},
   "source": [
    "## 一些工具类"
   ]
  },
  {
   "cell_type": "code",
   "execution_count": 452,
   "metadata": {
    "ExecuteTime": {
     "end_time": "2018-08-28T02:21:30.378962Z",
     "start_time": "2018-08-28T02:21:30.314774Z"
    }
   },
   "outputs": [],
   "source": [
    "def extract_email_body(email, gap=6):\n",
    "    def _maybe_header(line):\n",
    "        if ': ' in line and all(i.istitle() for i in line.split(':')[0].split('-')):\n",
    "            return True\n",
    "        return False\n",
    "    st = 0\n",
    "    bingo = 0\n",
    "    for line in email.split('\\n'):\n",
    "        st += 1\n",
    "        bingo += 1\n",
    "        if not line:\n",
    "            continue\n",
    "        if bingo == gap:\n",
    "            st -= gap\n",
    "            break\n",
    "        if _maybe_header(line):\n",
    "            bingo = 0\n",
    "            continue\n",
    "    return st + 1\n",
    "\n",
    "\n",
    "class EmailFeatureExtractor(BaseEstimator, TransformerMixin):\n",
    "    RE_URL = re.compile(r\"(https?|ftp|file)://[-A-Za-z0-9+&@#/%?=~_|!:,.;]+[-A-Za-z0-9+&@#/%=~_|]\")\n",
    "    \n",
    "    RE_NUMBER = re.compile(r\"[0-9]{0,}\\.{0,1}[0-9]{1,}\")\n",
    "    \n",
    "    RE_PROCESS = [\n",
    "        (re.compile(r\"\\*{1,}\"), \"*\"),\n",
    "        (re.compile(r\"\\-{1,}\"), \"-\"),\n",
    "        (re.compile(r\"_{1,}\"), \"_\"),\n",
    "        (re.compile(r\"_\"), \" \")\n",
    "    ]\n",
    "    \n",
    "    PUNCTUATIONS = set(list(\".?!,'\\\"{}[]()*&^%$#@~\"))\n",
    "    \n",
    "    def __init__(self, counter='binary', preprocess=True, stem=False, remove_headers=True, lower=False, \n",
    "                 punctuation=False, url=False, number=False, remove_html=True):\n",
    "        self.counter_ = counter\n",
    "        self.preprocess_ = preprocess\n",
    "        self.stem_ = stem\n",
    "        self.remove_headers_ = remove_headers\n",
    "        self.lower_ = lower\n",
    "        self.punctuation_ = punctuation\n",
    "        self.url_ = url\n",
    "        self.number_ = number\n",
    "        self.remove_html_ = remove_html\n",
    "        self.count_vectorizer = None\n",
    "        self.tfidf_vectorizer = None\n",
    "        \n",
    "    def _preprocess(self, X):\n",
    "        if self.preprocess_:\n",
    "            X_ = []\n",
    "            for x in X:\n",
    "                for reg in self.RE_PROCESS:\n",
    "                    x = reg[0].sub(reg[1], x)\n",
    "                X_.append(x)\n",
    "            return X_\n",
    "        return X\n",
    "    \n",
    "    def _tokenize(self, X):\n",
    "        return [word_tokenize(x) for x in X]\n",
    "    \n",
    "    def _lemma(self, X):\n",
    "        # 暂时没有实现\n",
    "        if self.stem_:\n",
    "            return [[lemma(i) for i in x] for x in X]\n",
    "        return X\n",
    "    \n",
    "    def _remove_headers(self, X):\n",
    "        if self.remove_headers_:\n",
    "            return ['\\n'.join(x.split('\\n')[extract_email_body(x):None]) for x in X]\n",
    "        return X\n",
    "    \n",
    "    def _lower(self, X):\n",
    "        if self.lower_:\n",
    "            return [x.lower() for x in X]\n",
    "    \n",
    "    def _punctuation(self, X):\n",
    "        if self.punctuation_:\n",
    "            return [[i for i in x if i not in self.PUNCTUATIONS] for x in X]\n",
    "        return X\n",
    "    \n",
    "    def _url(self, X):\n",
    "        if self.url_:\n",
    "            return [self.RE_URL.sub(\"URL\", x) for x in X]\n",
    "        return X\n",
    "    \n",
    "    def _number(self, X):\n",
    "        if self.number_:\n",
    "            return [self.RE_NUMBER.sub(\"NUMBER\", x) for x in X]\n",
    "        return X\n",
    "    \n",
    "    @staticmethod\n",
    "    def __rm_html(x):\n",
    "        if '<html>' not in x.lower():\n",
    "            return x\n",
    "        sel = etree.HTML(x)\n",
    "        return '\\n'.join(p.strip() for p in sel.xpath('//text()') if p.strip())\n",
    "    \n",
    "    def _remove_html(self, X):\n",
    "        if self.remove_html_:    \n",
    "            return [self.__rm_html(x) for x in X]\n",
    "        return X\n",
    "    \n",
    "    def pipeline(self, X):\n",
    "        X = self._preprocess(X)\n",
    "        X = self._remove_headers(X)\n",
    "        X = self._remove_html(X)\n",
    "        X = self._url(X)\n",
    "        X = self._number(X)\n",
    "        X = self._lower(X)\n",
    "        X = self._tokenize(X)\n",
    "        X = self._punctuation(X)\n",
    "        X = self._lemma(X)\n",
    "        return X\n",
    "    \n",
    "    def fit(self, X, y=None):\n",
    "        X = self.pipeline(X)\n",
    "        count_vectorizer = CountVectorizer(lowercase=False, binary=(self.counter_ == 'binary'), \n",
    "                                           ngram_range=(1, 1), stop_words='english')\n",
    "        X = [' '.join(x) for x in X]\n",
    "        count_vectorizer.fit(X)\n",
    "        self.count_vectorizer = count_vectorizer\n",
    "        if self.counter_ == 'tfidf':\n",
    "            tfidf_transformer = TfidfTransformer()\n",
    "            tfidf_transformer.fit(count_vectorizer.transform(X))\n",
    "            self.tfidf_transformer = tfidf_transformer\n",
    "        return self\n",
    "    \n",
    "    def transform(self, X, y=None):\n",
    "        X = self.pipeline(X)\n",
    "        X = [' '.join(x) for x in X]\n",
    "        X = self.count_vectorizer.transform(X)\n",
    "        if self.counter_ == 'tfidf':\n",
    "            X = self.tfidf_transformer.transform(X)\n",
    "        return X"
   ]
  },
  {
   "cell_type": "code",
   "execution_count": 453,
   "metadata": {
    "ExecuteTime": {
     "end_time": "2018-08-28T02:21:33.815057Z",
     "start_time": "2018-08-28T02:21:33.808242Z"
    }
   },
   "outputs": [],
   "source": [
    "class EmailStructureExtractor(BaseEstimator, TransformerMixin):\n",
    "    RE_SENDER = re.compile(r\"FROM: (.*?)\")\n",
    "    \n",
    "    def __init__(self):\n",
    "        self.feature_names_ = None\n",
    "    \n",
    "    def _remove_headers(self, X):\n",
    "        return ['\\n'.join(x.split('\\n')[extract_email_body(x):None]) for x in X]\n",
    "    \n",
    "    def _extract_feature(self, x):\n",
    "        item = {}\n",
    "        total_img = int(x.count('<img'))\n",
    "        item['total_img'] = total_img\n",
    "        return item\n",
    "    \n",
    "    def fit(self, X, y=None):\n",
    "        return self\n",
    "    \n",
    "    def transform(self, X, y=None):\n",
    "        X = self._remove_headers(X)\n",
    "        X = [self._extract_feature(x) for x in X]\n",
    "        df = pd.DataFrame(X)\n",
    "        self.feature_names_ = list(df.columns)\n",
    "        return df.values"
   ]
  },
  {
   "cell_type": "markdown",
   "metadata": {},
   "source": [
    "## 构建pipeline"
   ]
  },
  {
   "cell_type": "code",
   "execution_count": 428,
   "metadata": {
    "ExecuteTime": {
     "end_time": "2018-08-28T02:12:11.251700Z",
     "start_time": "2018-08-28T02:12:11.247966Z"
    },
    "scrolled": false
   },
   "outputs": [],
   "source": [
    "# email_transformer = EmailFeatureExtractor(counter='tfidf', lower=True, url=True, number=True)"
   ]
  },
  {
   "cell_type": "code",
   "execution_count": 460,
   "metadata": {
    "ExecuteTime": {
     "end_time": "2018-08-28T02:26:53.084566Z",
     "start_time": "2018-08-28T02:26:53.020208Z"
    },
    "scrolled": false
   },
   "outputs": [],
   "source": [
    "email_pipeline = Pipeline([\n",
    "    ('email_transformer', EmailFeatureExtractor(counter='tfidf', stem=True, punctuation=True, \n",
    "                                                remove_headers=False, lower=True, url=True, number=True))\n",
    "])\n",
    "structure_pipeline = Pipeline([\n",
    "    ('structure', EmailStructureExtractor())\n",
    "])\n",
    "full_pipeline = FeatureUnion([\n",
    "    ('text_pipeline', email_pipeline),\n",
    "    ('structure_pipeline', structure_pipeline)\n",
    "])"
   ]
  },
  {
   "cell_type": "code",
   "execution_count": 461,
   "metadata": {
    "ExecuteTime": {
     "end_time": "2018-08-28T02:28:43.150799Z",
     "start_time": "2018-08-28T02:26:53.653753Z"
    }
   },
   "outputs": [
    {
     "name": "stdout",
     "output_type": "stream",
     "text": [
      "X train feature shape: (3358, 65924)\n"
     ]
    }
   ],
   "source": [
    "full_pipeline.fit(X_train)\n",
    "X_train_feature = full_pipeline.transform(X_train)\n",
    "X_test_feature = full_pipeline.transform(X_test)\n",
    "print(\"X train feature shape:\", X_train_feature.shape)"
   ]
  },
  {
   "cell_type": "markdown",
   "metadata": {
    "ExecuteTime": {
     "end_time": "2018-08-27T07:43:12.960881Z",
     "start_time": "2018-08-27T07:43:12.933272Z"
    }
   },
   "source": [
    "## 开始构建模型"
   ]
  },
  {
   "cell_type": "code",
   "execution_count": 300,
   "metadata": {
    "ExecuteTime": {
     "end_time": "2018-08-27T09:30:40.706217Z",
     "start_time": "2018-08-27T09:30:40.679743Z"
    }
   },
   "outputs": [],
   "source": [
    "from sklearn.linear_model import LogisticRegressionCV\n",
    "from sklearn.svm import LinearSVC\n",
    "from sklearn.metrics import classification_report, confusion_matrix\n",
    "from sklearn.model_selection import cross_val_predict"
   ]
  },
  {
   "cell_type": "code",
   "execution_count": 462,
   "metadata": {
    "ExecuteTime": {
     "end_time": "2018-08-28T02:29:23.245808Z",
     "start_time": "2018-08-28T02:28:43.169284Z"
    }
   },
   "outputs": [
    {
     "data": {
      "text/plain": [
       "LogisticRegressionCV(Cs=10, class_weight=None, cv=5, dual=False,\n",
       "           fit_intercept=True, intercept_scaling=1.0, max_iter=100,\n",
       "           multi_class='ovr', n_jobs=-1, penalty='l2', random_state=42,\n",
       "           refit=True, scoring=None, solver='lbfgs', tol=0.0001, verbose=0)"
      ]
     },
     "execution_count": 462,
     "metadata": {},
     "output_type": "execute_result"
    }
   ],
   "source": [
    "model = LogisticRegressionCV(Cs=10, cv=5, n_jobs=-1, random_state=42)\n",
    "model.fit(X_train_feature, y_train)"
   ]
  },
  {
   "cell_type": "code",
   "execution_count": 466,
   "metadata": {
    "ExecuteTime": {
     "end_time": "2018-08-28T02:31:42.559958Z",
     "start_time": "2018-08-28T02:31:42.538826Z"
    }
   },
   "outputs": [],
   "source": [
    "# y_train_pred = cross_val_predict(model, X_train_feature, y_train, cv=3, n_jobs=1)\n",
    "y_train_pred = model.predict(X_train_feature)"
   ]
  },
  {
   "cell_type": "code",
   "execution_count": 467,
   "metadata": {
    "ExecuteTime": {
     "end_time": "2018-08-28T02:31:43.119084Z",
     "start_time": "2018-08-28T02:31:43.106722Z"
    }
   },
   "outputs": [
    {
     "name": "stdout",
     "output_type": "stream",
     "text": [
      "             precision    recall  f1-score   support\n",
      "\n",
      "          0       1.00      1.00      1.00      2221\n",
      "          1       1.00      1.00      1.00      1137\n",
      "\n",
      "avg / total       1.00      1.00      1.00      3358\n",
      "\n"
     ]
    }
   ],
   "source": [
    "print(classification_report(y_train, y_train_pred))"
   ]
  },
  {
   "cell_type": "code",
   "execution_count": 468,
   "metadata": {
    "ExecuteTime": {
     "end_time": "2018-08-28T02:31:44.617723Z",
     "start_time": "2018-08-28T02:31:44.600898Z"
    }
   },
   "outputs": [
    {
     "data": {
      "text/plain": [
       "array([[2221,    0],\n",
       "       [   0, 1137]])"
      ]
     },
     "execution_count": 468,
     "metadata": {},
     "output_type": "execute_result"
    }
   ],
   "source": [
    "confusion_matrix(y_train, y_train_pred)"
   ]
  },
  {
   "cell_type": "markdown",
   "metadata": {},
   "source": [
    "交叉验证之后的结果如此的好，那么可以放心的上线了\n",
    "\n",
    "下面，使用测试集估计一下实际环境中，该模型的效果如何"
   ]
  },
  {
   "cell_type": "code",
   "execution_count": 469,
   "metadata": {
    "ExecuteTime": {
     "end_time": "2018-08-28T02:32:33.567819Z",
     "start_time": "2018-08-28T02:32:33.543737Z"
    }
   },
   "outputs": [
    {
     "name": "stdout",
     "output_type": "stream",
     "text": [
      "             precision    recall  f1-score   support\n",
      "\n",
      "          0       1.00      0.99      0.99       580\n",
      "          1       0.98      1.00      0.99       260\n",
      "\n",
      "avg / total       0.99      0.99      0.99       840\n",
      "\n"
     ]
    }
   ],
   "source": [
    "y_test_pred = model.predict(X_test_feature)\n",
    "print(classification_report(y_test, y_test_pred))"
   ]
  },
  {
   "cell_type": "markdown",
   "metadata": {},
   "source": [
    "加上headers居然直接让结果达到了如此高的精度"
   ]
  },
  {
   "cell_type": "code",
   "execution_count": null,
   "metadata": {},
   "outputs": [],
   "source": []
  }
 ],
 "metadata": {
  "kernelspec": {
   "display_name": "Python 3",
   "language": "python",
   "name": "python3"
  },
  "language_info": {
   "codemirror_mode": {
    "name": "ipython",
    "version": 3
   },
   "file_extension": ".py",
   "mimetype": "text/x-python",
   "name": "python",
   "nbconvert_exporter": "python",
   "pygments_lexer": "ipython3",
   "version": "3.6.2"
  },
  "latex_envs": {
   "LaTeX_envs_menu_present": true,
   "autocomplete": true,
   "bibliofile": "biblio.bib",
   "cite_by": "apalike",
   "current_citInitial": 1,
   "eqLabelWithNumbers": true,
   "eqNumInitial": 1,
   "hotkeys": {
    "equation": "Ctrl-E",
    "itemize": "Ctrl-I"
   },
   "labels_anchors": false,
   "latex_user_defs": false,
   "report_style_numbering": false,
   "user_envs_cfg": false
  },
  "nbTranslate": {
   "displayLangs": [
    "*"
   ],
   "hotkey": "alt-t",
   "langInMainMenu": true,
   "sourceLang": "en",
   "targetLang": "fr",
   "useGoogleTranslate": true
  },
  "toc": {
   "nav_menu": {},
   "number_sections": true,
   "sideBar": true,
   "skip_h1_title": false,
   "toc_cell": false,
   "toc_position": {
    "height": "468px",
    "left": "0px",
    "right": "1068px",
    "top": "159px",
    "width": "212px"
   },
   "toc_section_display": "block",
   "toc_window_display": true
  }
 },
 "nbformat": 4,
 "nbformat_minor": 2
}
