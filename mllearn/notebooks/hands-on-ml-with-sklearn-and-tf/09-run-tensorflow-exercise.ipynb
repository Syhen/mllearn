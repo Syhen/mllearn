{
 "cells": [
  {
   "cell_type": "markdown",
   "metadata": {},
   "source": [
    "# 练习1"
   ]
  },
  {
   "cell_type": "markdown",
   "metadata": {
    "ExecuteTime": {
     "end_time": "2018-09-12T15:57:02.147206Z",
     "start_time": "2018-09-12T15:57:02.141166Z"
    }
   },
   "source": [
    "Q: 构建计算图而不是直接运行计算的主要优点是什么？缺点呢？"
   ]
  },
  {
   "cell_type": "markdown",
   "metadata": {},
   "source": [
    "A: 优点：1. 可以利用其它高效计算接口运算；2. 可以在GPU上运行；3. 可以很方便的并发。缺点：1. 不能直接获得返回结果，debug困难。"
   ]
  },
  {
   "cell_type": "markdown",
   "metadata": {},
   "source": [
    "# 练习2"
   ]
  },
  {
   "cell_type": "markdown",
   "metadata": {},
   "source": [
    "Q: a_val = a.eval(session=sess) 和 a_val = sess.run(a) 相同吗？"
   ]
  },
  {
   "cell_type": "markdown",
   "metadata": {},
   "source": [
    "A: 相同的。"
   ]
  },
  {
   "cell_type": "markdown",
   "metadata": {},
   "source": [
    "# 练习3"
   ]
  },
  {
   "cell_type": "markdown",
   "metadata": {},
   "source": [
    "Q: a_val, b_val = a.eval(session=sess), b.eval(session=sess) 和 a_val, b_val = sess.run([a, b]) 相同吗？"
   ]
  },
  {
   "cell_type": "markdown",
   "metadata": {},
   "source": [
    "A: 不同。前者计算多次已经计算的结果，不会共享值。后者计算会共享值。"
   ]
  },
  {
   "cell_type": "markdown",
   "metadata": {},
   "source": [
    "# 练习4"
   ]
  },
  {
   "cell_type": "markdown",
   "metadata": {},
   "source": [
    "Q: 可以在相同的sess下运行两个计算图吗？"
   ]
  },
  {
   "cell_type": "markdown",
   "metadata": {},
   "source": [
    "A: 可以。使用 `tf.Graph()` 创建新的图谱。"
   ]
  },
  {
   "cell_type": "markdown",
   "metadata": {},
   "source": [
    "# 练习5"
   ]
  },
  {
   "cell_type": "markdown",
   "metadata": {
    "ExecuteTime": {
     "end_time": "2018-09-12T16:01:07.018047Z",
     "start_time": "2018-09-12T16:01:07.011650Z"
    }
   },
   "source": [
    "Q: 如果你构建了一个包含变量 w 的图 g，然后启动两个线程，每个线程中打开一个session，他们都使用相同的图 g，每个session会有他们独立的变量 w 的备份，还是他们会共享变量 w？"
   ]
  },
  {
   "cell_type": "markdown",
   "metadata": {},
   "source": [
    "A: 独立的。只有分布式存储在服务器上的变量状态才会共享。"
   ]
  },
  {
   "cell_type": "markdown",
   "metadata": {},
   "source": [
    "# 练习6"
   ]
  },
  {
   "cell_type": "markdown",
   "metadata": {},
   "source": [
    "Q: 变量什么时候初始化？什么时候销毁？"
   ]
  },
  {
   "cell_type": "markdown",
   "metadata": {},
   "source": [
    "A: 在运行sess.run(init)的时候初始化，在关闭sess的时候销毁。"
   ]
  },
  {
   "cell_type": "markdown",
   "metadata": {},
   "source": [
    "# 练习7"
   ]
  },
  {
   "cell_type": "markdown",
   "metadata": {},
   "source": [
    "Q: placeholder 和 variable的区别？"
   ]
  },
  {
   "cell_type": "markdown",
   "metadata": {},
   "source": [
    "A: placeholder只输出传递给他的值。variable是变量，可以更新值。"
   ]
  },
  {
   "cell_type": "markdown",
   "metadata": {},
   "source": [
    "# 练习8"
   ]
  },
  {
   "cell_type": "markdown",
   "metadata": {},
   "source": [
    "Q: 你运行了一个基于placeholder的图，但是没有给feed_dict会发生什么？如果不基于placeholder呢？"
   ]
  },
  {
   "cell_type": "markdown",
   "metadata": {},
   "source": [
    "A: 会出错，因为没有给placeholder传值。那就不会报错。"
   ]
  },
  {
   "cell_type": "markdown",
   "metadata": {
    "ExecuteTime": {
     "end_time": "2018-09-12T16:04:39.643236Z",
     "start_time": "2018-09-12T16:04:39.640588Z"
    }
   },
   "source": [
    "# 练习9"
   ]
  },
  {
   "cell_type": "markdown",
   "metadata": {
    "ExecuteTime": {
     "end_time": "2018-09-12T16:05:47.133084Z",
     "start_time": "2018-09-12T16:05:47.129060Z"
    }
   },
   "source": [
    "Q: 运行图形时，是否可以提供任何操作的输出值，或仅提供占位符的值？"
   ]
  },
  {
   "cell_type": "markdown",
   "metadata": {},
   "source": [
    "A: 都是可以的。"
   ]
  },
  {
   "cell_type": "markdown",
   "metadata": {},
   "source": [
    "# 练习10"
   ]
  },
  {
   "cell_type": "markdown",
   "metadata": {},
   "source": [
    "Q: 如何将变量设置为您想要的任何值（在执行阶段）？"
   ]
  },
  {
   "cell_type": "markdown",
   "metadata": {},
   "source": [
    "A: 使用 `tf.assign()` 进行赋值。"
   ]
  },
  {
   "cell_type": "markdown",
   "metadata": {},
   "source": [
    "# 练习11"
   ]
  },
  {
   "cell_type": "markdown",
   "metadata": {
    "ExecuteTime": {
     "end_time": "2018-09-12T16:07:39.030171Z",
     "start_time": "2018-09-12T16:07:39.019577Z"
    }
   },
   "source": [
    "Q: How many times does reverse-mode autodiff need to traverse the graph in order to compute the gradients of the cost function with regards to 10 variables? What about forward-mode autodiff? And symbolic differentiation?"
   ]
  },
  {
   "cell_type": "markdown",
   "metadata": {},
   "source": [
    "A: 2，10，N/A"
   ]
  },
  {
   "cell_type": "markdown",
   "metadata": {},
   "source": [
    "# 练习12"
   ]
  },
  {
   "cell_type": "markdown",
   "metadata": {
    "ExecuteTime": {
     "end_time": "2018-09-12T16:10:40.577891Z",
     "start_time": "2018-09-12T16:10:40.571665Z"
    }
   },
   "source": [
    "Q: 使用TensorFlow实现基于小批量梯度下降的逻辑回归。使用moons数据集。\n",
    "    - Define the graph within a logistic_regression() function that can be reused easily\n",
    "    - Save checkpoints using a Saver at regular intervals during training, and save the final model at the end of training.\n",
    "    - Restore the last checkpoint upon startup if training was interrupted.\n",
    "    - Define the graph using nice scopes so the graph looks good in TensorBoard.\n",
    "    - Add summaries to visualize the learning curves in TensorBoard.\n",
    "    - Try tweaking some hyperparameters such as the learning rate or the mini- batch size and look at the shape of the learning curve."
   ]
  },
  {
   "cell_type": "markdown",
   "metadata": {},
   "source": [
    "首先导入一些必要的包"
   ]
  },
  {
   "cell_type": "code",
   "execution_count": 402,
   "metadata": {
    "ExecuteTime": {
     "end_time": "2018-09-15T08:22:21.403494Z",
     "start_time": "2018-09-15T08:22:21.373937Z"
    }
   },
   "outputs": [],
   "source": [
    "from datetime import datetime\n",
    "import os\n",
    "\n",
    "import numpy as np\n",
    "import matplotlib.pyplot as plt\n",
    "from sklearn.datasets import make_moons\n",
    "from sklearn.metrics import accuracy_score\n",
    "from sklearn.model_selection import train_test_split\n",
    "from sklearn.preprocessing import PolynomialFeatures\n",
    "import tensorflow as tf\n",
    "\n",
    "%matplotlib inline"
   ]
  },
  {
   "cell_type": "code",
   "execution_count": 80,
   "metadata": {
    "ExecuteTime": {
     "end_time": "2018-09-13T15:01:44.542913Z",
     "start_time": "2018-09-13T15:01:44.536626Z"
    }
   },
   "outputs": [],
   "source": [
    "def plot_decision_bundary(estimator, X, y, title=None, num=100):\n",
    "    \"\"\"\"\"\"\n",
    "    X1_lin = np.linspace(X[:, 0].min() - 0.5, X[:, 0].max() + 0.5, num=num)\n",
    "    X2_lin = np.linspace(X[:, 1].min() - 0.5, X[:, 1].max() + 0.5, num=num)\n",
    "    X11, X22 = np.meshgrid(X1_lin, X2_lin)\n",
    "    Z = estimator.predict(np.c_[X11.ravel(), X22.ravel()]).reshape(X11.shape)\n",
    "    plt.contourf(X1_lin, X2_lin, Z, cmap=plt.cm.Spectral)\n",
    "    plt.scatter(X[:, 0], X[:, 1], c=y)\n",
    "    if title:\n",
    "        plt.title(title)"
   ]
  },
  {
   "cell_type": "code",
   "execution_count": 424,
   "metadata": {
    "ExecuteTime": {
     "end_time": "2018-09-15T08:41:02.678965Z",
     "start_time": "2018-09-15T08:41:02.654219Z"
    }
   },
   "outputs": [],
   "source": [
    "class LogisticRegressionCV(object):\n",
    "    def __init__(self, input_dim, output_dim, poly_degree=None, penalty='elastic-net', penalty_r=0.5, alpha=1.0, \n",
    "                 learning_rate=0.01, batch_size=64, epochs=10, save_interval=5, epsilon=1e-7, logdir='/tmp'):\n",
    "        self.timestamp_ = datetime.now().strftime(\"%Y%m%d%H%M%S\")\n",
    "        self._fitted = False\n",
    "        tf.reset_default_graph()\n",
    "        self.poly_degree = poly_degree\n",
    "        self.penalty = penalty\n",
    "        self.penalty_r = penalty_r\n",
    "        self.alpha = alpha\n",
    "        self.learning_rate = learning_rate\n",
    "        self.batch_size = batch_size\n",
    "        self.epochs = epochs\n",
    "        self.save_interval = save_interval\n",
    "        self.epsilon = epsilon\n",
    "        self.logdir = self.get_logdir(logdir)\n",
    "        \n",
    "        self.input_dim = input_dim\n",
    "        self.output_dim = output_dim\n",
    "        with tf.name_scope(\"model\"):\n",
    "            self.X = tf.placeholder(tf.float32, shape=(None, input_dim + 1), name=\"X\")\n",
    "            self.y = tf.placeholder(tf.float32, shape=(None, output_dim), name=\"y\")\n",
    "            self.theta = tf.Variable(tf.random_uniform((input_dim + 1, 1), -1.0, 1.0, seed=42), dtype=tf.float32, name=\"theta\")\n",
    "            self.y_pred = tf.sigmoid(tf.matmul(self.X, self.theta, name=\"z\"), name=\"sigmoid\")\n",
    "        self.best_theta_ = None\n",
    "        self.model_path_ = None\n",
    "        self.epoch_path_ = None\n",
    "    \n",
    "    def load_epoch(self):\n",
    "        \"\"\"加载epoch\"\"\"\n",
    "        if self.epoch_path_ is None:\n",
    "            return 0\n",
    "        with open(self.epoch_path_, 'rb') as f:\n",
    "            epoch = f.read().strip()\n",
    "        return int(epoch)\n",
    "    \n",
    "    def dump_epoch(self, epoch):\n",
    "        \"\"\"存储epoch\"\"\"\n",
    "        self.epoch_path_ = '/tmp/epoch-%s' % self.timestamp_\n",
    "        with open(self.epoch_path_, 'wb') as f:\n",
    "            f.write(b\"%d\" % epoch)\n",
    "    \n",
    "    def poly_input(self, X):\n",
    "        \"\"\"对数据集使用次方\n",
    "        只会使用数据集的n次方，而不会进行组合\n",
    "        \"\"\"\n",
    "        X_org = np.array(X)\n",
    "        for degree in range(2, self.poly_degree + 1):\n",
    "            X = np.c_[X, X_org ** degree]\n",
    "        return X\n",
    "    \n",
    "    def add_bias(self, X):\n",
    "        \"\"\"添加偏置项\"\"\"\n",
    "        return np.c_[np.ones((X.shape[0], 1)), X].astype(np.float32)\n",
    "    \n",
    "    def get_logdir(self, base_logdir):\n",
    "        \"\"\"获得TensorBoard日志目录\"\"\"\n",
    "        return os.path.join(base_logdir, 'run-%s' % self.timestamp_)\n",
    "        \n",
    "    def get_batch_data(self, X, y, batch_size):\n",
    "        \"\"\"获取小批量数据集\"\"\"\n",
    "        idx = np.random.randint(0, X.shape[0], size=batch_size)\n",
    "        X_batch = X[idx]\n",
    "        y_batch = y[idx]\n",
    "        return X_batch, y_batch\n",
    "    \n",
    "    def penalty_part(self, alpha, penalty, penalty_r=0):\n",
    "        \"\"\"正则项\n",
    "        一个问题：目前正则化了theta_0\n",
    "        \"\"\"\n",
    "        if penalty == 'l1':\n",
    "            return alpha * tf.reduce_mean(tf.norm(self.theta, ord=1), name=\"penalty\")\n",
    "        if penalty == 'l2':\n",
    "            return alpha * tf.reduce_mean(tf.norm(self.theta, ord=2), name=\"penalty\")\n",
    "        if penalty == 'elastic-net':\n",
    "            l1 = alpha * tf.reduce_mean(tf.norm(self.theta, ord=1), name=\"l1\")\n",
    "            l2 = alpha * tf.reduce_mean(tf.norm(self.theta, ord=2), name=\"l2\")\n",
    "            return l1 * penalty_r + (1 - penalty_r) * l2\n",
    "        raise ValueError(\"penalty must be 'l1', 'l2' or 'elastic-net'\")\n",
    "    \n",
    "    def fit(self, X, y=None):\n",
    "        \"\"\"训练模型\"\"\"\n",
    "        if self.poly_degree:\n",
    "            X = self.poly_input(X)\n",
    "        X = self.add_bias(X)\n",
    "        start_epoch = self.load_epoch()\n",
    "        with tf.name_scope(\"train\"):\n",
    "#             error = self.y_pred - self.y\n",
    "#             mse = tf.reduce_mean(tf.square(error), name=\"mse\")\n",
    "#             cross_entropy = -tf.reduce_mean(self.y * tf.log(self.y_pred + self.epsilon) + (1 - self.y) * tf.log(1 - self.y_pred + self.epsilon), name=\"cross_entropy\")\n",
    "            cross_entropy = tf.losses.log_loss(self.y, self.y_pred)\n",
    "            if self.penalty:\n",
    "                cross_entropy += self.penalty_part(self.alpha, self.penalty, self.penalty_r)\n",
    "\n",
    "            optimizer = tf.train.GradientDescentOptimizer(self.learning_rate)\n",
    "            train_op = optimizer.minimize(cross_entropy, name=\"train\")\n",
    "        \n",
    "        with tf.name_scope(\"init\"):\n",
    "            init = tf.global_variables_initializer()\n",
    "        self.saver = tf.train.Saver()\n",
    "        n_batches = int(np.ceil(X.shape[0] * 1. / self.batch_size))\n",
    "        if self.logdir:\n",
    "            error_summary = tf.summary.scalar(\"CROSS_ENTROPY\", cross_entropy)\n",
    "            log_writer = tf.summary.FileWriter(self.logdir, tf.get_default_graph())\n",
    "        with tf.Session() as sess:\n",
    "            sess.run(init)\n",
    "            for epoch in range(start_epoch, self.epochs + 1):\n",
    "                for batch_index in range(n_batches):\n",
    "                    X_batch, y_batch = self.get_batch_data(X, y, self.batch_size)\n",
    "                    sess.run(train_op, feed_dict={self.X: X_batch, self.y: y_batch})\n",
    "                if epoch % self.save_interval == 0:\n",
    "                    self.dump_epoch(epoch)\n",
    "                    self.saver.save(sess, '/tmp/logistic_regression_last.ckpt')\n",
    "                    if self.logdir:\n",
    "                        summary_str = error_summary.eval(feed_dict={self.X: X_batch, self.y: y_batch})\n",
    "                        step = epoch * n_batches + batch_index\n",
    "                        log_writer.add_summary(summary_str, step)\n",
    "            self.best_theta_ = self.theta.eval()\n",
    "            self.model_path_ = '/tmp/logistic_regression_final.ckpt'\n",
    "            self.saver.save(sess, self.model_path_)\n",
    "            log_writer.close()\n",
    "        self._fitted = True\n",
    "        return self\n",
    "    \n",
    "    def predict(self, X):\n",
    "        \"\"\"预测\"\"\"\n",
    "        if not self._fitted:\n",
    "            raise RuntimeError(\"you must run `fit` first.\")\n",
    "        X = np.array(X)\n",
    "        X = self.poly_input(X)\n",
    "        X_plus_bias = self.add_bias(X)\n",
    "        with tf.Session() as sess:\n",
    "            self.saver.restore(sess, self.model_path_)\n",
    "            y_pred = sess.run(self.y_pred, feed_dict={self.X: X_plus_bias})\n",
    "        return (y_pred >= 0.5) * 1"
   ]
  },
  {
   "cell_type": "markdown",
   "metadata": {},
   "source": [
    "获取数据，并划分为训练集、验证集和测试集"
   ]
  },
  {
   "cell_type": "code",
   "execution_count": 425,
   "metadata": {
    "ExecuteTime": {
     "end_time": "2018-09-15T08:41:04.076892Z",
     "start_time": "2018-09-15T08:41:04.067034Z"
    },
    "scrolled": true
   },
   "outputs": [
    {
     "name": "stdout",
     "output_type": "stream",
     "text": [
      "train X shape: (800, 2)\n",
      "train y shape: (800,)\n",
      "validate X shape: (100, 2)\n",
      "validate y shape: (100,)\n",
      "test X shape: (100, 2)\n",
      "test y shape: (100,)\n"
     ]
    }
   ],
   "source": [
    "X, y = make_moons(n_samples=1000, noise=0.1, random_state=42)\n",
    "X_train, _X, y_train, _y = train_test_split(X, y, test_size=0.2, random_state=42)\n",
    "X_val, X_test, y_val, y_test = train_test_split(_X, _y, test_size=0.5, random_state=42)\n",
    "print(\"train X shape:\", X_train.shape)\n",
    "print(\"train y shape:\", y_train.shape)\n",
    "print(\"validate X shape:\", X_val.shape)\n",
    "print(\"validate y shape:\", y_val.shape)\n",
    "print(\"test X shape:\", X_test.shape)\n",
    "print(\"test y shape:\", y_test.shape)"
   ]
  },
  {
   "cell_type": "markdown",
   "metadata": {},
   "source": [
    "定义模型并运行"
   ]
  },
  {
   "cell_type": "code",
   "execution_count": 419,
   "metadata": {
    "ExecuteTime": {
     "end_time": "2018-09-15T08:39:01.054459Z",
     "start_time": "2018-09-15T08:36:44.144143Z"
    },
    "scrolled": true
   },
   "outputs": [
    {
     "name": "stdout",
     "output_type": "stream",
     "text": [
      "/tmp/run-20180915163644\n"
     ]
    }
   ],
   "source": [
    "logistic_regression_cv = LogisticRegressionCV(X_train.shape[1] * 3, y_train.reshape(-1, 1).shape[1], poly_degree=3, \n",
    "                                              penalty=None, penalty_r=0.9, alpha=0.01, learning_rate=0.01, epochs=10000)\n",
    "logistic_regression_cv.fit(X, y.reshape(-1, 1))\n",
    "print(logistic_regression_cv.logdir)"
   ]
  },
  {
   "cell_type": "markdown",
   "metadata": {},
   "source": [
    "做出决策边界"
   ]
  },
  {
   "cell_type": "code",
   "execution_count": 422,
   "metadata": {
    "ExecuteTime": {
     "end_time": "2018-09-15T08:39:01.402572Z",
     "start_time": "2018-09-15T08:39:01.110666Z"
    }
   },
   "outputs": [
    {
     "name": "stdout",
     "output_type": "stream",
     "text": [
      "INFO:tensorflow:Restoring parameters from /tmp/logistic_regression_final.ckpt\n"
     ]
    },
    {
     "data": {
      "image/png": "[encoded data removed]",
      "text/plain": [
       "<matplotlib.figure.Figure at 0x125ca00f0>"
      ]
     },
     "metadata": {},
     "output_type": "display_data"
    }
   ],
   "source": [
    "plot_decision_bundary(logistic_regression_cv, X_train, y_train)"
   ]
  },
  {
   "cell_type": "code",
   "execution_count": 423,
   "metadata": {
    "ExecuteTime": {
     "end_time": "2018-09-15T08:39:01.472075Z",
     "start_time": "2018-09-15T08:39:01.405354Z"
    },
    "scrolled": true
   },
   "outputs": [
    {
     "name": "stdout",
     "output_type": "stream",
     "text": [
      "INFO:tensorflow:Restoring parameters from /tmp/logistic_regression_final.ckpt\n",
      "train score: 0.9925\n",
      "INFO:tensorflow:Restoring parameters from /tmp/logistic_regression_final.ckpt\n",
      "validate score: 0.99\n"
     ]
    }
   ],
   "source": [
    "print(\"train score:\", accuracy_score(y_train, logistic_regression_cv.predict(X_train)))\n",
    "print(\"validate score:\", accuracy_score(y_val, logistic_regression_cv.predict(X_val)))"
   ]
  },
  {
   "cell_type": "markdown",
   "metadata": {},
   "source": [
    "使用SVM进行对比"
   ]
  },
  {
   "cell_type": "code",
   "execution_count": 414,
   "metadata": {
    "ExecuteTime": {
     "end_time": "2018-09-15T08:31:58.826677Z",
     "start_time": "2018-09-15T08:31:58.819939Z"
    }
   },
   "outputs": [],
   "source": [
    "from sklearn.svm import SVC"
   ]
  },
  {
   "cell_type": "code",
   "execution_count": 415,
   "metadata": {
    "ExecuteTime": {
     "end_time": "2018-09-15T08:32:26.698974Z",
     "start_time": "2018-09-15T08:32:26.674039Z"
    }
   },
   "outputs": [
    {
     "data": {
      "text/plain": [
       "SVC(C=1.0, cache_size=200, class_weight=None, coef0=0.0,\n",
       "  decision_function_shape='ovr', degree=3, gamma='auto', kernel='rbf',\n",
       "  max_iter=-1, probability=False, random_state=None, shrinking=True,\n",
       "  tol=0.001, verbose=False)"
      ]
     },
     "execution_count": 415,
     "metadata": {},
     "output_type": "execute_result"
    }
   ],
   "source": [
    "svc = SVC()\n",
    "svc.fit(X_train, y_train)"
   ]
  },
  {
   "cell_type": "code",
   "execution_count": 416,
   "metadata": {
    "ExecuteTime": {
     "end_time": "2018-09-15T08:32:47.507285Z",
     "start_time": "2018-09-15T08:32:47.208873Z"
    }
   },
   "outputs": [
    {
     "data": {
      "image/png": "[encoded data removed]",
      "text/plain": [
       "<matplotlib.figure.Figure at 0x125ce5828>"
      ]
     },
     "metadata": {},
     "output_type": "display_data"
    }
   ],
   "source": [
    "plot_decision_bundary(svc, X_train, y_train)"
   ]
  },
  {
   "cell_type": "code",
   "execution_count": 434,
   "metadata": {
    "ExecuteTime": {
     "end_time": "2018-09-15T09:27:01.571560Z",
     "start_time": "2018-09-15T09:27:01.552155Z"
    }
   },
   "outputs": [
    {
     "name": "stdout",
     "output_type": "stream",
     "text": [
      "train score: 0.99375\n",
      "validate score: 0.99\n"
     ]
    }
   ],
   "source": [
    "print(\"train score:\", accuracy_score(y_train, svc.predict(X_train)))\n",
    "print(\"validate score:\", accuracy_score(y_val, svc.predict(X_val)))"
   ]
  },
  {
   "cell_type": "markdown",
   "metadata": {},
   "source": [
    "分数差不多，但是决策边界看起来会好很多"
   ]
  },
  {
   "cell_type": "code",
   "execution_count": null,
   "metadata": {},
   "outputs": [],
   "source": []
  }
 ],
 "metadata": {
  "kernelspec": {
   "display_name": "Python 3",
   "language": "python",
   "name": "python3"
  },
  "language_info": {
   "codemirror_mode": {
    "name": "ipython",
    "version": 3
   },
   "file_extension": ".py",
   "mimetype": "text/x-python",
   "name": "python",
   "nbconvert_exporter": "python",
   "pygments_lexer": "ipython3",
   "version": "3.6.2"
  },
  "latex_envs": {
   "LaTeX_envs_menu_present": true,
   "autocomplete": true,
   "bibliofile": "biblio.bib",
   "cite_by": "apalike",
   "current_citInitial": 1,
   "eqLabelWithNumbers": true,
   "eqNumInitial": 1,
   "hotkeys": {
    "equation": "Ctrl-E",
    "itemize": "Ctrl-I"
   },
   "labels_anchors": false,
   "latex_user_defs": false,
   "report_style_numbering": false,
   "user_envs_cfg": false
  },
  "nbTranslate": {
   "displayLangs": [
    "*"
   ],
   "hotkey": "alt-t",
   "langInMainMenu": true,
   "sourceLang": "en",
   "targetLang": "fr",
   "useGoogleTranslate": true
  },
  "toc": {
   "nav_menu": {},
   "number_sections": true,
   "sideBar": true,
   "skip_h1_title": false,
   "toc_cell": false,
   "toc_position": {},
   "toc_section_display": "block",
   "toc_window_display": false
  }
 },
 "nbformat": 4,
 "nbformat_minor": 2
}
