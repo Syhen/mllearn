{
 "cells": [
  {
   "cell_type": "markdown",
   "metadata": {},
   "source": [
    "# 问题1"
   ]
  },
  {
   "cell_type": "markdown",
   "metadata": {},
   "source": [
    "Q: 使用原始的人工神经元（如图10-3中的一个）来计算神经网络，计算 $A\\oplus B$ 。提示： $A \\oplus B = (A \\cap \\neg B) \\cup (\\neg A \\cap B)$"
   ]
  },
  {
   "cell_type": "markdown",
   "metadata": {},
   "source": [
    "4 ->(3) C\n",
    "\n",
    "4(改) ->(3) C"
   ]
  },
  {
   "cell_type": "markdown",
   "metadata": {},
   "source": [
    "# 问题2"
   ]
  },
  {
   "cell_type": "markdown",
   "metadata": {},
   "source": [
    "Q: 为什么通常使用逻辑回归分类器而不是经典感知器？你如何调整感知器使之等同于逻辑回归分类器？"
   ]
  },
  {
   "cell_type": "markdown",
   "metadata": {},
   "source": [
    "A: <span style=\"color: red\">感知器只适用于数据是线性可分的。</span>因为逻辑回归能够输出每一类别的概率，而感知器不能。把阶跃函数换成sigmid函数(<span style=\"color: red\">或softmax函数</span>)。"
   ]
  },
  {
   "cell_type": "markdown",
   "metadata": {},
   "source": [
    "# 问题3"
   ]
  },
  {
   "cell_type": "markdown",
   "metadata": {},
   "source": [
    "Q: 为什么激活函数是训练第一个MLP的关键因素？"
   ]
  },
  {
   "cell_type": "markdown",
   "metadata": {},
   "source": [
    "A: 因为阶跃函数，导数为0，不能运用梯度下降进行训练。(<span style=\"color: red\">也就是梯度不能移动</span>)"
   ]
  },
  {
   "cell_type": "markdown",
   "metadata": {},
   "source": [
    "# 问题4"
   ]
  },
  {
   "cell_type": "markdown",
   "metadata": {},
   "source": [
    "Q: 说出三种流行的激活函数。你能画出它们吗？"
   ]
  },
  {
   "cell_type": "code",
   "execution_count": 1,
   "metadata": {
    "ExecuteTime": {
     "end_time": "2018-09-17T15:25:27.546758Z",
     "start_time": "2018-09-17T15:25:26.679586Z"
    }
   },
   "outputs": [],
   "source": [
    "import matplotlib.pyplot as plt\n",
    "import numpy as np\n",
    "\n",
    "%matplotlib inline\n",
    "\n",
    "def sigmoid(X):\n",
    "    return 1 / (1 + np.exp(-X))\n",
    "\n",
    "\n",
    "def relu(X):\n",
    "    return np.maximum(X, 0)\n",
    "\n",
    "\n",
    "def tanh(X):\n",
    "    return 2 * sigmoid(2 * X) - 1"
   ]
  },
  {
   "cell_type": "code",
   "execution_count": 2,
   "metadata": {
    "ExecuteTime": {
     "end_time": "2018-09-17T15:25:28.354700Z",
     "start_time": "2018-09-17T15:25:27.724488Z"
    }
   },
   "outputs": [
    {
     "data": {
      "image/png": "[encoded data removed]",
      "text/plain": [
       "<matplotlib.figure.Figure at 0x108d60358>"
      ]
     },
     "metadata": {},
     "output_type": "display_data"
    }
   ],
   "source": [
    "X = range(-100, 100)\n",
    "X = np.array([i / 10 for i in X])\n",
    "plt.figure(22, figsize=(12, 8))\n",
    "plt.subplot(221)\n",
    "plt.plot(X, sigmoid(X), label=\"sigmoid\")\n",
    "plt.title(\"sigmoid\")\n",
    "plt.subplot(222)\n",
    "plt.plot(X, relu(X), label=\"relu\")\n",
    "plt.title(\"relu\")\n",
    "plt.subplot(223)\n",
    "plt.plot(X, tanh(X), label=\"tanh\")\n",
    "_ = plt.title(\"tanh\")"
   ]
  },
  {
   "cell_type": "markdown",
   "metadata": {},
   "source": [
    "<span style=\"color: red\">还有ELU和ReLU变种</span>"
   ]
  },
  {
   "cell_type": "markdown",
   "metadata": {},
   "source": [
    "# 问题5"
   ]
  },
  {
   "cell_type": "markdown",
   "metadata": {},
   "source": [
    "Q: 假设有一个MLP有一个10个神经元组成的输入层，接着是一个50个神经元的隐藏层，最后一个3个神经元输出层。所有人工神经元使用Relu激活函数。\n",
    "- 输入矩阵 X 的形状是什么？\n",
    "- 隐藏层的权重向量的形状以及它的偏置向量的形状如何？\n",
    "- 输出层的权重向量和他的偏置向量的形状是什么？\n",
    "- 网络的输出矩阵 Y 是什么形状？\n",
    "- 写出计算网络输出矩阵的方程"
   ]
  },
  {
   "cell_type": "markdown",
   "metadata": {},
   "source": [
    "A: 解\n",
    "- (None, 10)\n",
    "- W1: (10, 50), b1: (1, 50)\n",
    "- W2: (50, 3), b2: (1, 3)\n",
    "- Y_hat: (3, 1)(<span style=\"color: red\">(None, 3)</span>)\n",
    "- $Z = \\text{Relu}(X \\cdot W_1 + b_1), \\hat{y} = \\text{Relu}(Z \\cdot W_2 + b_2)$"
   ]
  },
  {
   "cell_type": "markdown",
   "metadata": {},
   "source": [
    "# 问题6"
   ]
  },
  {
   "cell_type": "markdown",
   "metadata": {
    "ExecuteTime": {
     "end_time": "2018-09-16T16:41:22.301608Z",
     "start_time": "2018-09-16T16:41:22.285582Z"
    }
   },
   "source": [
    "Q: 如果你想把电子邮件分类成垃圾邮件或正常邮件，你需要在输出层中有多少个神经元? 在输出层中应该使用什么样的激活函数?如果你想解决 MNIST 问题，你需要多少神经元在输出层，使用什么激活函数?如第 2 章，一样让你的网络预测房屋价格。"
   ]
  },
  {
   "cell_type": "markdown",
   "metadata": {},
   "source": [
    "A: 2个(<span style=\"color: red\">1个就够了</span>)。sigmoid或softmax(<span style=\"color: red\">logistic function</span>)。10个。softmax。那么就不使用激活函数了。"
   ]
  },
  {
   "cell_type": "markdown",
   "metadata": {
    "ExecuteTime": {
     "end_time": "2018-09-16T16:41:32.833931Z",
     "start_time": "2018-09-16T16:41:32.830871Z"
    }
   },
   "source": [
    "# 问题7"
   ]
  },
  {
   "cell_type": "markdown",
   "metadata": {},
   "source": [
    "Q: 什么是反向传播，它是如何工作的?反向传播与反向自动微分有什么区别?"
   ]
  },
  {
   "cell_type": "markdown",
   "metadata": {
    "ExecuteTime": {
     "end_time": "2018-09-16T16:42:03.850574Z",
     "start_time": "2018-09-16T16:42:03.846059Z"
    }
   },
   "source": [
    "A: 使用正向传播的预测与标签计算每一层神经元对预测的贡献，从而调整权重的过程。\n",
    "他计算每一层的神经元对预测的偏导，然后更新权重。\n",
    "区别：反向自动微分是反向传播中的一个步骤。<span style=\"color: red\">反向传播是用来训练人工神经网络的技术。</span>"
   ]
  },
  {
   "cell_type": "markdown",
   "metadata": {},
   "source": [
    "# 问题8"
   ]
  },
  {
   "cell_type": "markdown",
   "metadata": {},
   "source": [
    "Q: 你能列出所有可以在MLP中调整的超参数吗?如果MLP与训练数据过拟合，你如何调整这些超参数来解决这个问题?"
   ]
  },
  {
   "cell_type": "markdown",
   "metadata": {},
   "source": [
    "A: 神经元层数、每层神经元个数、激活函数。如果过拟合，那么可以减少层数、减少每层神经元个数。"
   ]
  },
  {
   "cell_type": "markdown",
   "metadata": {},
   "source": [
    "# 问题9"
   ]
  },
  {
   "cell_type": "markdown",
   "metadata": {},
   "source": [
    "Q: 在MNIST数据集上训练一个深层MLP并查看是否可以超过98%的精度。就像在第9章的最后一次练习中，尝试添加所有的铃声和哨子(即，保存检查点，在中断的情况下恢复最后一个检查点，添加摘要，使用 TensorBoard 绘制学习曲线，等等)。"
   ]
  },
  {
   "cell_type": "code",
   "execution_count": 45,
   "metadata": {
    "ExecuteTime": {
     "end_time": "2018-09-17T16:45:23.740890Z",
     "start_time": "2018-09-17T16:45:23.732357Z"
    }
   },
   "outputs": [],
   "source": [
    "from datetime import datetime\n",
    "import os\n",
    "\n",
    "from sklearn.metrics import f1_score, accuracy_score\n",
    "import tensorflow as tf\n",
    "from tensorflow.examples.tutorials.mnist import input_data"
   ]
  },
  {
   "cell_type": "code",
   "execution_count": 46,
   "metadata": {
    "ExecuteTime": {
     "end_time": "2018-09-17T16:45:24.572483Z",
     "start_time": "2018-09-17T16:45:23.746180Z"
    }
   },
   "outputs": [
    {
     "name": "stdout",
     "output_type": "stream",
     "text": [
      "Extracting /tmp/data/train-images-idx3-ubyte.gz\n",
      "Extracting /tmp/data/train-labels-idx1-ubyte.gz\n",
      "Extracting /tmp/data/t10k-images-idx3-ubyte.gz\n",
      "Extracting /tmp/data/t10k-labels-idx1-ubyte.gz\n"
     ]
    }
   ],
   "source": [
    "mnist = input_data.read_data_sets(\"/tmp/data\")"
   ]
  },
  {
   "cell_type": "code",
   "execution_count": 42,
   "metadata": {
    "ExecuteTime": {
     "end_time": "2018-09-17T16:40:57.221953Z",
     "start_time": "2018-09-17T16:40:57.193855Z"
    }
   },
   "outputs": [],
   "source": [
    "class MLP(object):\n",
    "    def __init__(self, hidden_neurons, input_dim, n_classes=2, learning_rate=0.01, batch_size=64, epochs=5, save_interval=5, epsilon=1e-7, \n",
    "                 logdir='/tmp', model_path='/tmp/model-%s.ckpl'):\n",
    "        self.timestamp_ = datetime.now().strftime(\"%Y%m%d%H%M%S\")\n",
    "        self._fitted = False\n",
    "        tf.reset_default_graph()\n",
    "        self.hidden_neurons = hidden_neurons\n",
    "        self.input_dim = input_dim\n",
    "        self.n_classes = n_classes\n",
    "        self.learning_rate = learning_rate\n",
    "        self.batch_size = batch_size\n",
    "        self.epochs = epochs\n",
    "        self.save_interval = save_interval\n",
    "        self.epsilon = epsilon\n",
    "        self.logdir = self.get_logdir(logdir)\n",
    "        self.training_op = None\n",
    "        self.model_path_ = model_path % self.timestamp_\n",
    "        self.epoch_path_ = None\n",
    "    \n",
    "    def make_model(self):\n",
    "        with tf.name_scope(\"variables\"):\n",
    "            self.X = tf.placeholder(tf.float32, (None, self.input_dim), name=\"X\")\n",
    "            self.y = tf.placeholder(tf.int32, (None), name=\"y\")\n",
    "        \n",
    "        with tf.name_scope(\"model\"):\n",
    "#             stddev = 2 / np.sqrt(self.neurons[0])\n",
    "#             initializer = tf.random_normal((None, self.neurons[0]), stddev=stddev, seed=42, name=\"weight_initializer\")\n",
    "            hidden1 = tf.layers.dense(self.X, self.input_dim, activation=tf.nn.relu, name=\"hidden1\")\n",
    "            hiddens = [hidden1]\n",
    "            for i, neuron in enumerate(self.hidden_neurons, 2):\n",
    "                hd = tf.layers.dense(hiddens[-1], neuron, activation=tf.nn.relu, name=\"hidden%s\" % i)\n",
    "                hiddens.append(hd)\n",
    "            self.logits = tf.layers.dense(hiddens[-1], self.n_classes, name=\"output\")\n",
    "        \n",
    "        with tf.name_scope(\"error\"):\n",
    "            xentropy = tf.nn.sparse_softmax_cross_entropy_with_logits(labels=self.y, logits=self.logits, name=\"entropy\")\n",
    "            self.loss = tf.reduce_mean(xentropy, name=\"error\")\n",
    "        \n",
    "        with tf.name_scope(\"train\"):\n",
    "            optimizer = tf.train.GradientDescentOptimizer(self.learning_rate)\n",
    "            training_op = optimizer.minimize(self.loss)\n",
    "        \n",
    "        return training_op\n",
    "    \n",
    "    def load_epoch(self):\n",
    "        \"\"\"加载epoch\"\"\"\n",
    "        if self.epoch_path_ is None:\n",
    "            return 0\n",
    "        with open(self.epoch_path_, 'rb') as f:\n",
    "            epoch = f.read().strip()\n",
    "        return int(epoch)\n",
    "    \n",
    "    def dump_epoch(self, epoch):\n",
    "        \"\"\"存储epoch\"\"\"\n",
    "        self.epoch_path_ = '/tmp/epoch-%s' % self.timestamp_\n",
    "        with open(self.epoch_path_, 'wb') as f:\n",
    "            f.write(b\"%d\" % epoch)\n",
    "    \n",
    "    def get_logdir(self, base_logdir):\n",
    "        \"\"\"获得TensorBoard日志目录\"\"\"\n",
    "        return os.path.join(base_logdir, 'run-%s' % self.timestamp_)\n",
    "    \n",
    "    def next_batch(self, X, y, batch_size):\n",
    "        idx = np.random.randint(0, X.shape[0], size=batch_size)\n",
    "        return X[idx], y[idx]\n",
    "    \n",
    "    def fit(self, X, y=None, X_val=None, y_val=None):\n",
    "        self.training_op = self.make_model()\n",
    "        init = tf.global_variables_initializer()\n",
    "        self.saver = tf.train.Saver(name=\"saver\")\n",
    "        error_summary = tf.summary.scalar(\"CROSS_ENTROPY\", self.loss)\n",
    "        log_writer = tf.summary.FileWriter(self.logdir, graph=tf.get_default_graph())\n",
    "        if isinstance(X_val, float):\n",
    "            m = X.shape[0] * (1 - X_val)\n",
    "            X = X[:m]\n",
    "            y = y[:m]\n",
    "            X_val = X[m:]\n",
    "            y_val = y[m:]\n",
    "        n_batch = int(np.ceil(X.shape[0] / self.batch_size))\n",
    "        start_epoch = self.load_epoch()\n",
    "        with tf.Session() as sess:\n",
    "            sess.run(init)\n",
    "            for epoch in range(start_epoch, self.epochs + 1):\n",
    "                for batch_index in range(n_batch):\n",
    "                    X_batch, y_batch = self.next_batch(X, y, self.batch_size)\n",
    "                    sess.run(self.training_op, feed_dict={self.X: X_batch, self.y: y_batch})\n",
    "                if epoch % self.save_interval == 0:\n",
    "                    self.saver.save(sess, self.model_path_)\n",
    "                    loss_val = sess.run(self.loss, feed_dict={self.X: X_val, self.y: y_val})\n",
    "                    loss_train = sess.run(self.loss, feed_dict={self.X: X_batch, self.y: y_batch})\n",
    "                    print(epoch, \"Train loss:\", loss_train, \"Validation loss:\", loss_val)\n",
    "                    if self.logdir:\n",
    "                        summary_str = error_summary.eval(feed_dict={self.X: X_val, self.y: y_val})\n",
    "                        step = epoch * n_batch + batch_index\n",
    "                        log_writer.add_summary(summary_str, step)\n",
    "                    self.dump_epoch(epoch)\n",
    "            self.saver.save(sess, self.model_path_)\n",
    "            log_writer.close()\n",
    "        return self\n",
    "    \n",
    "    def predict(self, X):\n",
    "        with tf.Session() as sess:\n",
    "            self.saver.restore(sess, self.model_path_)\n",
    "            logits = sess.run(self.logits, feed_dict={self.X: X})\n",
    "            y_pred = np.argmax(logits, axis=1)\n",
    "        return y_pred\n",
    "    \n",
    "    def predict_proba(self, X):\n",
    "        raise NotImplementedError(\"soon\")"
   ]
  },
  {
   "cell_type": "code",
   "execution_count": 51,
   "metadata": {
    "ExecuteTime": {
     "end_time": "2018-09-17T16:57:48.628909Z",
     "start_time": "2018-09-17T16:57:48.624680Z"
    }
   },
   "outputs": [],
   "source": [
    "mlp = MLP([100], input_dim=28 * 28, n_classes=10, save_interval=5, epochs=100)"
   ]
  },
  {
   "cell_type": "code",
   "execution_count": 52,
   "metadata": {
    "ExecuteTime": {
     "end_time": "2018-09-17T17:04:34.440567Z",
     "start_time": "2018-09-17T16:57:49.132242Z"
    }
   },
   "outputs": [
    {
     "name": "stdout",
     "output_type": "stream",
     "text": [
      "0 Train loss: 0.34742105 Validation loss: 0.36672822\n",
      "5 Train loss: 0.12732977 Validation loss: 0.18966743\n",
      "10 Train loss: 0.15426315 Validation loss: 0.13885678\n",
      "15 Train loss: 0.09457657 Validation loss: 0.113303855\n",
      "20 Train loss: 0.04795665 Validation loss: 0.097811356\n",
      "25 Train loss: 0.02148784 Validation loss: 0.085330516\n",
      "30 Train loss: 0.035563663 Validation loss: 0.08041053\n",
      "35 Train loss: 0.037536655 Validation loss: 0.07333398\n",
      "40 Train loss: 0.011080446 Validation loss: 0.069843255\n",
      "45 Train loss: 0.066018514 Validation loss: 0.06785693\n",
      "50 Train loss: 0.011315924 Validation loss: 0.067278676\n",
      "55 Train loss: 0.020246435 Validation loss: 0.06565765\n",
      "60 Train loss: 0.0069431798 Validation loss: 0.065726876\n",
      "65 Train loss: 0.0064393496 Validation loss: 0.06346046\n",
      "70 Train loss: 0.007722033 Validation loss: 0.06360843\n",
      "75 Train loss: 0.013478839 Validation loss: 0.06429837\n",
      "80 Train loss: 0.015127111 Validation loss: 0.06406104\n",
      "85 Train loss: 0.0039382754 Validation loss: 0.06361345\n",
      "90 Train loss: 0.0034219497 Validation loss: 0.06405881\n",
      "95 Train loss: 0.0030059975 Validation loss: 0.06402748\n",
      "100 Train loss: 0.0014895409 Validation loss: 0.06389042\n"
     ]
    },
    {
     "data": {
      "text/plain": [
       "<__main__.MLP at 0x107a1a438>"
      ]
     },
     "execution_count": 52,
     "metadata": {},
     "output_type": "execute_result"
    }
   ],
   "source": [
    "mlp.fit(mnist.train.images, mnist.train.labels.astype(int), mnist.validation.images, mnist.validation.labels.astype(int))"
   ]
  },
  {
   "cell_type": "code",
   "execution_count": 55,
   "metadata": {
    "ExecuteTime": {
     "end_time": "2018-09-17T18:37:33.113647Z",
     "start_time": "2018-09-17T18:37:30.635340Z"
    }
   },
   "outputs": [
    {
     "name": "stdout",
     "output_type": "stream",
     "text": [
      "INFO:tensorflow:Restoring parameters from /tmp/model-20180918005748.ckpl\n",
      "Train f1: 0.9997636380930471\n",
      "INFO:tensorflow:Restoring parameters from /tmp/model-20180918005748.ckpl\n",
      "Validate f1: 0.9837950362391308\n",
      "INFO:tensorflow:Restoring parameters from /tmp/model-20180918005748.ckpl\n",
      "Test f1: 0.980397459203003\n"
     ]
    }
   ],
   "source": [
    "print(\"Train f1:\", f1_score(mnist.train.labels, mlp.predict(mnist.train.images), average='weighted'))\n",
    "print(\"Validate f1:\", f1_score(mnist.validation.labels, mlp.predict(mnist.validation.images), average='weighted'))\n",
    "print(\"Test f1:\", f1_score(mnist.test.labels, mlp.predict(mnist.test.images), average='weighted'))"
   ]
  },
  {
   "cell_type": "markdown",
   "metadata": {},
   "source": [
    "[100] 0.9811028932393647"
   ]
  },
  {
   "cell_type": "code",
   "execution_count": null,
   "metadata": {},
   "outputs": [],
   "source": []
  }
 ],
 "metadata": {
  "kernelspec": {
   "display_name": "Python 3",
   "language": "python",
   "name": "python3"
  },
  "language_info": {
   "codemirror_mode": {
    "name": "ipython",
    "version": 3
   },
   "file_extension": ".py",
   "mimetype": "text/x-python",
   "name": "python",
   "nbconvert_exporter": "python",
   "pygments_lexer": "ipython3",
   "version": "3.6.2"
  },
  "latex_envs": {
   "LaTeX_envs_menu_present": true,
   "autocomplete": true,
   "bibliofile": "biblio.bib",
   "cite_by": "apalike",
   "current_citInitial": 1,
   "eqLabelWithNumbers": true,
   "eqNumInitial": 1,
   "hotkeys": {
    "equation": "Ctrl-E",
    "itemize": "Ctrl-I"
   },
   "labels_anchors": false,
   "latex_user_defs": false,
   "report_style_numbering": false,
   "user_envs_cfg": false
  },
  "nbTranslate": {
   "displayLangs": [
    "*"
   ],
   "hotkey": "alt-t",
   "langInMainMenu": true,
   "sourceLang": "en",
   "targetLang": "fr",
   "useGoogleTranslate": true
  },
  "toc": {
   "nav_menu": {},
   "number_sections": true,
   "sideBar": true,
   "skip_h1_title": false,
   "toc_cell": false,
   "toc_position": {},
   "toc_section_display": "block",
   "toc_window_display": false
  }
 },
 "nbformat": 4,
 "nbformat_minor": 2
}
